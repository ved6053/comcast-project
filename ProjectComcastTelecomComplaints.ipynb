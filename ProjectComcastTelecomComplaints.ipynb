{
 "cells": [
  {
   "cell_type": "code",
   "execution_count": 1,
   "metadata": {},
   "outputs": [],
   "source": [
    "import pandas as pd\n",
    "import numpy as np\n",
    "import matplotlib.pyplot as plt\n",
    "%matplotlib inline\n",
    "\n",
    "from pprint import pprint"
   ]
  },
  {
   "cell_type": "code",
   "execution_count": 2,
   "metadata": {},
   "outputs": [
    {
     "data": {
      "text/html": [
       "<div>\n",
       "<style scoped>\n",
       "    .dataframe tbody tr th:only-of-type {\n",
       "        vertical-align: middle;\n",
       "    }\n",
       "\n",
       "    .dataframe tbody tr th {\n",
       "        vertical-align: top;\n",
       "    }\n",
       "\n",
       "    .dataframe thead th {\n",
       "        text-align: right;\n",
       "    }\n",
       "</style>\n",
       "<table border=\"1\" class=\"dataframe\">\n",
       "  <thead>\n",
       "    <tr style=\"text-align: right;\">\n",
       "      <th></th>\n",
       "      <th>Ticket #</th>\n",
       "      <th>Customer Complaint</th>\n",
       "      <th>Date</th>\n",
       "      <th>Date_month_year</th>\n",
       "      <th>Time</th>\n",
       "      <th>Received Via</th>\n",
       "      <th>City</th>\n",
       "      <th>State</th>\n",
       "      <th>Zip code</th>\n",
       "      <th>Status</th>\n",
       "      <th>Filing on Behalf of Someone</th>\n",
       "    </tr>\n",
       "  </thead>\n",
       "  <tbody>\n",
       "    <tr>\n",
       "      <th>0</th>\n",
       "      <td>250635</td>\n",
       "      <td>Comcast Cable Internet Speeds</td>\n",
       "      <td>22-04-15</td>\n",
       "      <td>2015-04-22</td>\n",
       "      <td>2019-10-20 15:53:50</td>\n",
       "      <td>Customer Care Call</td>\n",
       "      <td>Abingdon</td>\n",
       "      <td>Maryland</td>\n",
       "      <td>21009</td>\n",
       "      <td>Closed</td>\n",
       "      <td>No</td>\n",
       "    </tr>\n",
       "    <tr>\n",
       "      <th>1</th>\n",
       "      <td>223441</td>\n",
       "      <td>Payment disappear - service got disconnected</td>\n",
       "      <td>04-08-15</td>\n",
       "      <td>2015-08-04</td>\n",
       "      <td>2019-10-20 10:22:56</td>\n",
       "      <td>Internet</td>\n",
       "      <td>Acworth</td>\n",
       "      <td>Georgia</td>\n",
       "      <td>30102</td>\n",
       "      <td>Closed</td>\n",
       "      <td>No</td>\n",
       "    </tr>\n",
       "    <tr>\n",
       "      <th>2</th>\n",
       "      <td>242732</td>\n",
       "      <td>Speed and Service</td>\n",
       "      <td>18-04-15</td>\n",
       "      <td>2015-04-18</td>\n",
       "      <td>2019-10-20 09:55:47</td>\n",
       "      <td>Internet</td>\n",
       "      <td>Acworth</td>\n",
       "      <td>Georgia</td>\n",
       "      <td>30101</td>\n",
       "      <td>Closed</td>\n",
       "      <td>Yes</td>\n",
       "    </tr>\n",
       "  </tbody>\n",
       "</table>\n",
       "</div>"
      ],
      "text/plain": [
       "  Ticket #                            Customer Complaint      Date  \\\n",
       "0   250635                 Comcast Cable Internet Speeds  22-04-15   \n",
       "1   223441  Payment disappear - service got disconnected  04-08-15   \n",
       "2   242732                             Speed and Service  18-04-15   \n",
       "\n",
       "  Date_month_year                Time        Received Via      City     State  \\\n",
       "0      2015-04-22 2019-10-20 15:53:50  Customer Care Call  Abingdon  Maryland   \n",
       "1      2015-08-04 2019-10-20 10:22:56            Internet   Acworth   Georgia   \n",
       "2      2015-04-18 2019-10-20 09:55:47            Internet   Acworth   Georgia   \n",
       "\n",
       "   Zip code  Status Filing on Behalf of Someone  \n",
       "0     21009  Closed                          No  \n",
       "1     30102  Closed                          No  \n",
       "2     30101  Closed                         Yes  "
      ]
     },
     "execution_count": 2,
     "metadata": {},
     "output_type": "execute_result"
    }
   ],
   "source": [
    "df=pd.read_csv('Comcast_telecom_complaints_data.csv' ,parse_dates=['Date_month_year','Time'])\n",
    "df.head(3)"
   ]
  },
  {
   "cell_type": "code",
   "execution_count": 3,
   "metadata": {},
   "outputs": [
    {
     "data": {
      "text/plain": [
       "Ticket #                               object\n",
       "Customer Complaint                     object\n",
       "Date                                   object\n",
       "Date_month_year                datetime64[ns]\n",
       "Time                           datetime64[ns]\n",
       "Received Via                           object\n",
       "City                                   object\n",
       "State                                  object\n",
       "Zip code                                int64\n",
       "Status                                 object\n",
       "Filing on Behalf of Someone            object\n",
       "dtype: object"
      ]
     },
     "execution_count": 3,
     "metadata": {},
     "output_type": "execute_result"
    }
   ],
   "source": [
    "df.dtypes"
   ]
  },
  {
   "cell_type": "markdown",
   "metadata": {},
   "source": [
    "# Problem 1.1:"
   ]
  },
  {
   "cell_type": "markdown",
   "metadata": {},
   "source": [
    "Provide the trend chart for the number of complaints at monthly and daily granularity levels."
   ]
  },
  {
   "cell_type": "code",
   "execution_count": 4,
   "metadata": {},
   "outputs": [
    {
     "data": {
      "text/plain": [
       "<matplotlib.axes._subplots.AxesSubplot at 0x15d7dca7be0>"
      ]
     },
     "execution_count": 4,
     "metadata": {},
     "output_type": "execute_result"
    },
    {
     "data": {
      "image/png": "[encoded data removed]",
      "text/plain": [
       "<Figure size 432x288 with 1 Axes>"
      ]
     },
     "metadata": {
      "needs_background": "light"
     },
     "output_type": "display_data"
    }
   ],
   "source": [
    "#trends of number of complaints at daily\n",
    "df_days=pd.DataFrame(df['Date_month_year'].value_counts())\n",
    "df_days.sort_index().plot()"
   ]
  },
  {
   "cell_type": "code",
   "execution_count": 5,
   "metadata": {},
   "outputs": [],
   "source": [
    "#trends of number of complaints at monthly\n",
    "df['Month_Year']=df['Date_month_year'].dt.to_period('M')\n",
    "df_month=pd.DataFrame(df['Month_Year'].value_counts())"
   ]
  },
  {
   "cell_type": "code",
   "execution_count": 6,
   "metadata": {},
   "outputs": [
    {
     "data": {
      "text/plain": [
       "<matplotlib.axes._subplots.AxesSubplot at 0x15d00dec710>"
      ]
     },
     "execution_count": 6,
     "metadata": {},
     "output_type": "execute_result"
    },
    {
     "data": {
      "image/png": "[encoded data removed]",
      "text/plain": [
       "<Figure size 432x288 with 1 Axes>"
      ]
     },
     "metadata": {
      "needs_background": "light"
     },
     "output_type": "display_data"
    }
   ],
   "source": [
    "df_month.sort_index().plot()"
   ]
  },
  {
   "cell_type": "markdown",
   "metadata": {},
   "source": [
    "# Problem 1.2"
   ]
  },
  {
   "cell_type": "markdown",
   "metadata": {},
   "source": [
    "Provide a table with the frequency of complaint types. Which complaint types are maximum i.e., around internet, network issues, or across any other domains."
   ]
  },
  {
   "cell_type": "markdown",
   "metadata": {},
   "source": [
    "<b>this is a  problem of Topic Modeling which is a branch of NLP"
   ]
  },
  {
   "cell_type": "code",
   "execution_count": 7,
   "metadata": {},
   "outputs": [
    {
     "name": "stderr",
     "output_type": "stream",
     "text": [
      "C:\\ProgramData\\Anaconda3\\lib\\site-packages\\ipykernel_launcher.py:2: SettingWithCopyWarning: \n",
      "A value is trying to be set on a copy of a slice from a DataFrame.\n",
      "Try using .loc[row_indexer,col_indexer] = value instead\n",
      "\n",
      "See the caveats in the documentation: http://pandas.pydata.org/pandas-docs/stable/indexing.html#indexing-view-versus-copy\n",
      "  \n"
     ]
    }
   ],
   "source": [
    "data_text = df[['Customer Complaint']]\n",
    "data_text['index'] = data_text.index\n",
    "documents = data_text\n"
   ]
  },
  {
   "cell_type": "code",
   "execution_count": 8,
   "metadata": {},
   "outputs": [
    {
     "name": "stdout",
     "output_type": "stream",
     "text": [
      "2224\n",
      "                                  Customer Complaint  index\n",
      "0                      Comcast Cable Internet Speeds      0\n",
      "1       Payment disappear - service got disconnected      1\n",
      "2                                  Speed and Service      2\n",
      "3  Comcast Imposed a New Usage Cap of 300GB that ...      3\n",
      "4         Comcast not working and no service to boot      4\n"
     ]
    }
   ],
   "source": [
    "print(len(documents))\n",
    "print(documents[:5])"
   ]
  },
  {
   "cell_type": "code",
   "execution_count": 9,
   "metadata": {},
   "outputs": [],
   "source": [
    "# Gensim\n",
    "import gensim\n",
    "import gensim.corpora as corpora\n",
    "from gensim.utils import simple_preprocess\n",
    "from gensim.models import CoherenceModel\n",
    "\n",
    "# wordnet for lemmatization\n",
    "from nltk.stem.wordnet import WordNetLemmatizer\n",
    "\n",
    "# Plotting tools\n",
    "import pyLDAvis\n",
    "import pyLDAvis.gensim  # don't skip this"
   ]
  },
  {
   "cell_type": "code",
   "execution_count": 10,
   "metadata": {},
   "outputs": [],
   "source": [
    "# Enable logging for gensim - optional\n",
    "import logging\n",
    "logging.basicConfig(format='%(asctime)s : %(levelname)s : %(message)s', level=logging.ERROR)\n",
    "\n",
    "import warnings\n",
    "warnings.filterwarnings(\"ignore\",category=DeprecationWarning)"
   ]
  },
  {
   "cell_type": "code",
   "execution_count": 11,
   "metadata": {},
   "outputs": [],
   "source": [
    "# NLTK Stop words\n",
    "from nltk.corpus import stopwords\n",
    "stop_words = stopwords.words('english')\n",
    "stop_words.extend(['from', 'subject', 're', 'edu', 'use'])"
   ]
  },
  {
   "cell_type": "code",
   "execution_count": 12,
   "metadata": {},
   "outputs": [
    {
     "name": "stdout",
     "output_type": "stream",
     "text": [
      "['Comcast Cable Internet Speeds',\n",
      " 'Payment disappear - service got disconnected',\n",
      " 'Speed and Service',\n",
      " 'Comcast Imposed a New Usage Cap of 300GB that punishes streaming.',\n",
      " 'Comcast not working and no service to boot']\n"
     ]
    }
   ],
   "source": [
    "import re\n",
    "data=documents['Customer Complaint'].values.tolist()\n",
    "# Remove new line characters\n",
    "data = [re.sub('\\s+', ' ', sent) for sent in data]\n",
    "\n",
    "# Remove distracting single quotes\n",
    "data = [re.sub(\"\\'\", \"\", sent) for sent in data]\n",
    "\n",
    "pprint(data[:5])"
   ]
  },
  {
   "cell_type": "code",
   "execution_count": 13,
   "metadata": {},
   "outputs": [
    {
     "name": "stdout",
     "output_type": "stream",
     "text": [
      "[['comcast', 'cable', 'internet', 'speeds'], ['payment', 'disappear', 'service', 'got', 'disconnected'], ['speed', 'and', 'service'], ['comcast', 'imposed', 'new', 'usage', 'cap', 'of', 'gb', 'that', 'punishes', 'streaming'], ['comcast', 'not', 'working', 'and', 'no', 'service', 'to', 'boot']]\n"
     ]
    }
   ],
   "source": [
    "def sent_to_words(sentences):\n",
    "    for sentence in sentences:\n",
    "        yield(gensim.utils.simple_preprocess(str(sentence), deacc=True))  # deacc=True removes punctuations\n",
    "\n",
    "data_words = list(sent_to_words(data))\n",
    "\n",
    "print(data_words[:5])"
   ]
  },
  {
   "cell_type": "code",
   "execution_count": 14,
   "metadata": {},
   "outputs": [
    {
     "name": "stdout",
     "output_type": "stream",
     "text": [
      "['comcast', 'cable', 'internet', 'speeds']\n"
     ]
    }
   ],
   "source": [
    "# Build the bigram and trigram models\n",
    "bigram = gensim.models.Phrases(data_words, min_count=5, threshold=100) # higher threshold fewer phrases.\n",
    "trigram = gensim.models.Phrases(bigram[data_words], threshold=100)  \n",
    "\n",
    "# Faster way to get a sentence clubbed as a trigram/bigram\n",
    "bigram_mod = gensim.models.phrases.Phraser(bigram)\n",
    "trigram_mod = gensim.models.phrases.Phraser(trigram)\n",
    "\n",
    "# See trigram example\n",
    "print(trigram_mod[bigram_mod[data_words[0]]])"
   ]
  },
  {
   "cell_type": "code",
   "execution_count": 16,
   "metadata": {},
   "outputs": [],
   "source": [
    "# Define functions for stopwords, bigrams, trigrams and lemmatization\n",
    "def remove_stopwords(texts):\n",
    "    return [[word for word in simple_preprocess(str(doc)) if word not in stop_words] for doc in texts]\n",
    "\n",
    "def make_bigrams(texts):\n",
    "    return [bigram_mod[doc] for doc in texts]\n",
    "\n",
    "def make_trigrams(texts):\n",
    "    return [trigram_mod[bigram_mod[doc]] for doc in texts]\n",
    "\n",
    "def lemmatization(text):\n",
    "    texts_out=\" \".join(lemma.lemmatize(word) for word in text)\n",
    "    return texts_out"
   ]
  },
  {
   "cell_type": "code",
   "execution_count": 17,
   "metadata": {},
   "outputs": [
    {
     "name": "stdout",
     "output_type": "stream",
     "text": [
      "[['comcast', 'cable', 'internet', 'speed'], ['payment', 'disappear', 'service', 'got', 'disconnected'], ['speed', 'service'], ['comcast', 'imposed', 'new', 'usage', 'cap', 'gb', 'punishes', 'streaming'], ['comcast', 'working', 'service', 'boot']]\n"
     ]
    }
   ],
   "source": [
    "# Remove Stop Words\n",
    "data_words_nostops = remove_stopwords(data_words)\n",
    "\n",
    "# Form Bigrams\n",
    "data_words_bigrams = make_bigrams(data_words_nostops)\n",
    "#create WordNetLemmatizer\n",
    "lemma=WordNetLemmatizer()\n",
    "# Do lemmatization keeping only noun, adj, vb, adv\n",
    "data_lemmatized = [lemmatization(text).split() for text in data_words_bigrams]\n",
    "print(data_lemmatized[:5])"
   ]
  },
  {
   "cell_type": "code",
   "execution_count": 18,
   "metadata": {},
   "outputs": [
    {
     "name": "stdout",
     "output_type": "stream",
     "text": [
      "[[(0, 1), (1, 1), (2, 1), (3, 1)], [(4, 1), (5, 1), (6, 1), (7, 1), (8, 1)], [(3, 1), (8, 1)], [(1, 1), (9, 1), (10, 1), (11, 1), (12, 1), (13, 1), (14, 1), (15, 1)], [(1, 1), (8, 1), (16, 1), (17, 1)], [(18, 1), (19, 1), (20, 1), (21, 1), (22, 1), (23, 1), (24, 1)], [(8, 1), (9, 1), (20, 1), (25, 1), (26, 1)], [(1, 1), (8, 1), (27, 1), (28, 1), (29, 1), (30, 1)], [(1, 1), (31, 1), (32, 1)], [(1, 1), (33, 1), (34, 1), (35, 1), (36, 1)]]\n"
     ]
    }
   ],
   "source": [
    "# Create Dictionary\n",
    "id2word = corpora.Dictionary(data_lemmatized)\n",
    "\n",
    "# Create Corpus\n",
    "texts = data_lemmatized\n",
    "\n",
    "# Term Document Frequency\n",
    "corpus = [id2word.doc2bow(text) for text in texts]\n",
    "\n",
    "# View\n",
    "print(corpus[:10])"
   ]
  },
  {
   "cell_type": "code",
   "execution_count": 19,
   "metadata": {},
   "outputs": [
    {
     "data": {
      "text/plain": [
       "'cable'"
      ]
     },
     "execution_count": 19,
     "metadata": {},
     "output_type": "execute_result"
    }
   ],
   "source": [
    "id2word[0]"
   ]
  },
  {
   "cell_type": "code",
   "execution_count": 20,
   "metadata": {},
   "outputs": [
    {
     "data": {
      "text/plain": [
       "[[('cable', 1), ('comcast', 1), ('internet', 1), ('speed', 1)]]"
      ]
     },
     "execution_count": 20,
     "metadata": {},
     "output_type": "execute_result"
    }
   ],
   "source": [
    "# Human readable format of corpus (term-frequency)\n",
    "[[(id2word[id], freq) for id, freq in cp] for cp in corpus[:1]]"
   ]
  },
  {
   "cell_type": "code",
   "execution_count": 21,
   "metadata": {},
   "outputs": [],
   "source": [
    "lda_model = gensim.models.ldamodel.LdaModel(corpus=corpus,\n",
    "                                           id2word=id2word,\n",
    "                                           num_topics=10, \n",
    "                                           update_every=1,\n",
    "                                           chunksize=100,\n",
    "                                           passes=10,\n",
    "                                           alpha='auto',\n",
    "                                           per_word_topics=True)"
   ]
  },
  {
   "cell_type": "code",
   "execution_count": 22,
   "metadata": {},
   "outputs": [
    {
     "name": "stdout",
     "output_type": "stream",
     "text": [
      "[(0,\n",
      "  '0.099*\"price\" + 0.061*\"switch\" + 0.060*\"bait\" + 0.049*\"refund\" + '\n",
      "  '0.044*\"availability\" + 0.040*\"account\" + 0.026*\"plan\" + 0.021*\"misleading\" '\n",
      "  '+ 0.019*\"bandwidth\" + 0.018*\"gb\"'),\n",
      " (1,\n",
      "  '0.332*\"billing\" + 0.083*\"false\" + 0.041*\"overcharge\" + 0.033*\"significant\" '\n",
      "  '+ 0.032*\"reimburse\" + 0.032*\"admit\" + 0.021*\"unauthorized\" + 0.017*\"fraud\" '\n",
      "  '+ 0.012*\"resolution\" + 0.012*\"improper\"'),\n",
      " (2,\n",
      "  '0.072*\"charged\" + 0.058*\"fee\" + 0.054*\"usage\" + 0.045*\"contract\" + '\n",
      "  '0.037*\"paying\" + 0.030*\"failure\" + 0.029*\"charging\" + 0.024*\"year\" + '\n",
      "  '0.022*\"rate\" + 0.021*\"mb\"'),\n",
      " (3,\n",
      "  '0.118*\"billing\" + 0.107*\"customer\" + 0.077*\"charge\" + 0.075*\"practice\" + '\n",
      "  '0.067*\"unfair\" + 0.058*\"cable\" + 0.042*\"poor\" + 0.028*\"connectivity\" + '\n",
      "  '0.027*\"modem\" + 0.026*\"quality\"'),\n",
      " (4,\n",
      "  '0.185*\"bill\" + 0.044*\"fraudulent\" + 0.030*\"show\" + 0.029*\"incorrect\" + '\n",
      "  '0.026*\"cramming\" + 0.018*\"promotion\" + 0.018*\"claim\" + 0.014*\"said\" + '\n",
      "  '0.014*\"people\" + 0.014*\"way\"'),\n",
      " (5,\n",
      "  '0.364*\"internet\" + 0.127*\"speed\" + 0.121*\"data\" + 0.111*\"cap\" + '\n",
      "  '0.027*\"slow\" + 0.023*\"high\" + 0.017*\"connection\" + 0.014*\"intermittent\" + '\n",
      "  '0.013*\"mi\" + 0.013*\"install\"'),\n",
      " (6,\n",
      "  '0.055*\"equipment\" + 0.045*\"advertising\" + 0.041*\"promised\" + 0.040*\"phone\" '\n",
      "  '+ 0.033*\"business\" + 0.031*\"returned\" + 0.030*\"check\" + 0.029*\"overage\" + '\n",
      "  '0.028*\"miss\" + 0.027*\"email\"'),\n",
      " (7,\n",
      "  '0.606*\"comcast\" + 0.060*\"issue\" + 0.052*\"complaint\" + 0.047*\"xfinity\" + '\n",
      "  '0.029*\"pricing\" + 0.020*\"problem\" + 0.011*\"cost\" + 0.011*\"lied\" + '\n",
      "  '0.009*\"tv\" + 0.007*\"outage\"'),\n",
      " (8,\n",
      "  '0.477*\"service\" + 0.029*\"monthly\" + 0.026*\"without\" + 0.023*\"payment\" + '\n",
      "  '0.021*\"extremely\" + 0.018*\"terrible\" + 0.018*\"day\" + 0.017*\"help\" + '\n",
      "  '0.016*\"get\" + 0.016*\"advertised\"'),\n",
      " (9,\n",
      "  '0.143*\"throttling\" + 0.049*\"access\" + 0.044*\"monopoly\" + 0.043*\"output\" + '\n",
      "  '0.034*\"blocking\" + 0.029*\"hbo_go\" + 0.028*\"time\" + 0.024*\"p\" + 0.019*\"isp\" '\n",
      "  '+ 0.017*\"ordered\"')]\n"
     ]
    }
   ],
   "source": [
    "# Print the Keyword in the 10 topics\n",
    "pprint(lda_model.print_topics())\n",
    "doc_lda = lda_model[corpus]"
   ]
  },
  {
   "cell_type": "markdown",
   "metadata": {},
   "source": [
    "How to interpret this?\n",
    "<br/>\n",
    "Topic 0 is a represented as  '0.099*\"price\" + 0.061*\"switch\" + 0.060*\"bait\" + 0.049*\"refund\" + 0.044*\"availability\" + 0.040*\"account\" + 0.026*\"plan\" + 0.021*\"misleading\" + 0.019*\"bandwidth\" + 0.018*\"gb\"'\n",
    "<br/>\n",
    "It means the top 10 keywords that contribute to this topic are: ‘price’, ‘switch’, ‘bait’.. and so on and the weight of ‘price’ on topic 0 is 0.099."
   ]
  },
  {
   "cell_type": "markdown",
   "metadata": {},
   "source": [
    "<b>Compute Model Perplexity and Coherence Score"
   ]
  },
  {
   "cell_type": "code",
   "execution_count": 23,
   "metadata": {},
   "outputs": [
    {
     "name": "stdout",
     "output_type": "stream",
     "text": [
      "\n",
      "Perplexity:  -6.0493189615045155\n",
      "\n",
      "Coherence Score:  0.6437856159124845\n"
     ]
    }
   ],
   "source": [
    "# Compute Perplexity\n",
    "print('\\nPerplexity: ', lda_model.log_perplexity(corpus))  # a measure of how good the model is. lower the better.\n",
    "\n",
    "# Compute Coherence Score\n",
    "coherence_model_lda = CoherenceModel(model=lda_model, texts=data_lemmatized, dictionary=id2word, coherence='c_v')\n",
    "coherence_lda = coherence_model_lda.get_coherence()\n",
    "print('\\nCoherence Score: ', coherence_lda)"
   ]
  },
  {
   "cell_type": "code",
   "execution_count": 24,
   "metadata": {},
   "outputs": [
    {
     "name": "stderr",
     "output_type": "stream",
     "text": [
      "C:\\ProgramData\\Anaconda3\\lib\\site-packages\\pyLDAvis\\_prepare.py:257: FutureWarning: Sorting because non-concatenation axis is not aligned. A future version\n",
      "of pandas will change to not sort by default.\n",
      "\n",
      "To accept the future behavior, pass 'sort=False'.\n",
      "\n",
      "To retain the current behavior and silence the warning, pass 'sort=True'.\n",
      "\n",
      "  return pd.concat([default_term_info] + list(topic_dfs))\n"
     ]
    },
    {
     "data": {
      "text/html": [
       "\n",
       "<link rel=\"stylesheet\" type=\"text/css\" href=\"https://cdn.rawgit.com/bmabey/pyLDAvis/files/ldavis.v1.0.0.css\">\n",
       "\n",
       "\n",
       "<div id=\"ldavis_el643214991057709769043878670\"></div>\n",
       "<script type=\"text/javascript\">\n",
       "\n",
       "var ldavis_el643214991057709769043878670_data = {\"mdsDat\": {\"x\": [-0.330405989187794, -0.23634573552111499, -0.02352643122243232, 0.13833114896820817, 0.056845271544209666, 0.054315943857070996, 0.06131515983400676, 0.13836148025185463, 0.070085308377287, 0.07102384309870545], \"y\": [-0.28272578665107767, 0.326419372531672, 0.033560301457443445, -0.08389326182042073, 0.014171762011292928, 0.014958914801101893, 0.012504502807107925, -0.05585547165077257, 0.010622797188525506, 0.010236869325127242], \"topics\": [1, 2, 3, 4, 5, 6, 7, 8, 9, 10], \"cluster\": [1, 1, 1, 1, 1, 1, 1, 1, 1, 1], \"Freq\": [25.779298782348633, 18.20299530029297, 13.03056812286377, 11.012672424316406, 7.41511869430542, 6.550915718078613, 5.413440227508545, 4.8915605545043945, 4.172245025634766, 3.5311899185180664]}, \"tinfo\": {\"Category\": [\"Default\", \"Default\", \"Default\", \"Default\", \"Default\", \"Default\", \"Default\", \"Default\", \"Default\", \"Default\", \"Default\", \"Default\", \"Default\", \"Default\", \"Default\", \"Default\", \"Default\", \"Default\", \"Default\", \"Default\", \"Default\", \"Default\", \"Default\", \"Default\", \"Default\", \"Default\", \"Default\", \"Default\", \"Default\", \"Default\", \"Topic1\", \"Topic1\", \"Topic1\", \"Topic1\", \"Topic1\", \"Topic1\", \"Topic1\", \"Topic1\", \"Topic1\", \"Topic1\", \"Topic1\", \"Topic1\", \"Topic1\", \"Topic1\", \"Topic1\", \"Topic1\", \"Topic1\", \"Topic1\", \"Topic1\", \"Topic1\", \"Topic1\", \"Topic1\", \"Topic1\", \"Topic1\", \"Topic1\", \"Topic1\", \"Topic1\", \"Topic1\", \"Topic1\", \"Topic1\", \"Topic2\", \"Topic2\", \"Topic2\", \"Topic2\", \"Topic2\", \"Topic2\", \"Topic2\", \"Topic2\", \"Topic2\", \"Topic2\", \"Topic2\", \"Topic2\", \"Topic2\", \"Topic2\", \"Topic2\", \"Topic2\", \"Topic2\", \"Topic2\", \"Topic2\", \"Topic2\", \"Topic2\", \"Topic2\", \"Topic2\", \"Topic2\", \"Topic2\", \"Topic2\", \"Topic2\", \"Topic2\", \"Topic2\", \"Topic2\", \"Topic3\", \"Topic3\", \"Topic3\", \"Topic3\", \"Topic3\", \"Topic3\", \"Topic3\", \"Topic3\", \"Topic3\", \"Topic3\", \"Topic3\", \"Topic3\", \"Topic3\", \"Topic3\", \"Topic3\", \"Topic3\", \"Topic3\", \"Topic3\", \"Topic3\", \"Topic3\", \"Topic3\", \"Topic3\", \"Topic3\", \"Topic3\", \"Topic3\", \"Topic3\", \"Topic3\", \"Topic3\", \"Topic3\", \"Topic3\", \"Topic4\", \"Topic4\", \"Topic4\", \"Topic4\", \"Topic4\", \"Topic4\", \"Topic4\", \"Topic4\", \"Topic4\", \"Topic4\", \"Topic4\", \"Topic4\", \"Topic4\", \"Topic4\", \"Topic4\", \"Topic4\", \"Topic4\", \"Topic4\", \"Topic4\", \"Topic4\", \"Topic4\", \"Topic4\", \"Topic4\", \"Topic4\", \"Topic4\", \"Topic4\", \"Topic4\", \"Topic4\", \"Topic4\", \"Topic4\", \"Topic4\", \"Topic5\", \"Topic5\", \"Topic5\", \"Topic5\", \"Topic5\", \"Topic5\", \"Topic5\", \"Topic5\", \"Topic5\", \"Topic5\", \"Topic5\", \"Topic5\", \"Topic5\", \"Topic5\", \"Topic5\", \"Topic5\", \"Topic5\", \"Topic5\", \"Topic5\", \"Topic5\", \"Topic5\", \"Topic5\", \"Topic5\", \"Topic5\", \"Topic5\", \"Topic5\", \"Topic5\", \"Topic5\", \"Topic5\", \"Topic5\", \"Topic6\", \"Topic6\", \"Topic6\", \"Topic6\", \"Topic6\", \"Topic6\", \"Topic6\", \"Topic6\", \"Topic6\", \"Topic6\", \"Topic6\", \"Topic6\", \"Topic6\", \"Topic6\", \"Topic6\", \"Topic6\", \"Topic6\", \"Topic6\", \"Topic6\", \"Topic6\", \"Topic6\", \"Topic6\", \"Topic6\", \"Topic6\", \"Topic6\", \"Topic6\", \"Topic6\", \"Topic6\", \"Topic6\", \"Topic6\", \"Topic7\", \"Topic7\", \"Topic7\", \"Topic7\", \"Topic7\", \"Topic7\", \"Topic7\", \"Topic7\", \"Topic7\", \"Topic7\", \"Topic7\", \"Topic7\", \"Topic7\", \"Topic7\", \"Topic7\", \"Topic7\", \"Topic7\", \"Topic7\", \"Topic7\", \"Topic7\", \"Topic7\", \"Topic7\", \"Topic7\", \"Topic7\", \"Topic7\", \"Topic7\", \"Topic7\", \"Topic7\", \"Topic7\", \"Topic7\", \"Topic8\", \"Topic8\", \"Topic8\", \"Topic8\", \"Topic8\", \"Topic8\", \"Topic8\", \"Topic8\", \"Topic8\", \"Topic8\", \"Topic8\", \"Topic8\", \"Topic8\", \"Topic8\", \"Topic8\", \"Topic8\", \"Topic8\", \"Topic8\", \"Topic8\", \"Topic8\", \"Topic8\", \"Topic8\", \"Topic8\", \"Topic8\", \"Topic8\", \"Topic8\", \"Topic8\", \"Topic8\", \"Topic8\", \"Topic8\", \"Topic8\", \"Topic9\", \"Topic9\", \"Topic9\", \"Topic9\", \"Topic9\", \"Topic9\", \"Topic9\", \"Topic9\", \"Topic9\", \"Topic9\", \"Topic9\", \"Topic9\", \"Topic9\", \"Topic9\", \"Topic9\", \"Topic9\", \"Topic9\", \"Topic9\", \"Topic9\", \"Topic9\", \"Topic9\", \"Topic9\", \"Topic9\", \"Topic9\", \"Topic9\", \"Topic9\", \"Topic9\", \"Topic9\", \"Topic9\", \"Topic9\", \"Topic9\", \"Topic10\", \"Topic10\", \"Topic10\", \"Topic10\", \"Topic10\", \"Topic10\", \"Topic10\", \"Topic10\", \"Topic10\", \"Topic10\", \"Topic10\", \"Topic10\", \"Topic10\", \"Topic10\", \"Topic10\", \"Topic10\", \"Topic10\", \"Topic10\", \"Topic10\", \"Topic10\", \"Topic10\", \"Topic10\", \"Topic10\", \"Topic10\", \"Topic10\", \"Topic10\", \"Topic10\", \"Topic10\", \"Topic10\", \"Topic10\"], \"Freq\": [1250.0, 497.0, 529.0, 233.0, 185.0, 176.0, 162.0, 95.0, 62.0, 124.0, 68.0, 67.0, 41.0, 107.0, 59.0, 43.0, 97.0, 43.0, 52.0, 33.0, 34.0, 33.0, 38.0, 29.0, 27.0, 26.0, 61.0, 27.0, 24.0, 22.0, 1249.287841796875, 124.03477478027344, 106.51504516601562, 97.2174072265625, 60.70155334472656, 41.38456344604492, 22.71979331970215, 21.646141052246094, 18.48609161376953, 15.101798057556152, 9.104731559753418, 9.0715970993042, 8.090437889099121, 8.085043907165527, 7.630412578582764, 7.62839412689209, 6.914613723754883, 6.760528087615967, 6.448812961578369, 6.159348011016846, 5.5603346824646, 5.368586540222168, 5.290727138519287, 5.279143333435059, 4.7400665283203125, 3.8555102348327637, 3.829162359237671, 3.7665345668792725, 3.755371570587158, 3.5149118900299072, 529.1307373046875, 184.92095947265625, 175.48342895507812, 161.65330505371094, 39.48752975463867, 33.71845245361328, 24.564664840698242, 20.053483963012695, 18.635847091674805, 18.230133056640625, 14.597625732421875, 14.596029281616211, 14.596027374267578, 10.061637878417969, 9.55675983428955, 8.110374450683594, 7.098494052886963, 4.933364391326904, 4.340247631072998, 3.4058918952941895, 3.2423596382141113, 3.0070366859436035, 2.9822287559509277, 2.7178590297698975, 2.5730397701263428, 2.3292670249938965, 2.239783525466919, 2.0246005058288574, 1.986552119255066, 1.9046053886413574, 497.1866149902344, 29.983217239379883, 26.58795928955078, 24.01165008544922, 21.71376609802246, 18.99435043334961, 18.514726638793945, 17.555801391601562, 16.99989891052246, 16.904613494873047, 16.114368438720703, 15.05478572845459, 11.433263778686523, 9.459641456604004, 8.848660469055176, 8.800190925598145, 8.318297386169434, 8.105308532714844, 8.059066772460938, 7.398188591003418, 7.254006385803223, 6.655564308166504, 5.8492021560668945, 5.80874490737915, 5.744874000549316, 5.407355785369873, 4.946367263793945, 4.933616638183594, 4.6558146476745605, 4.426163673400879, 94.48580932617188, 67.7464599609375, 66.31068420410156, 59.07066345214844, 51.40232849121094, 37.27659225463867, 24.247316360473633, 23.566587448120117, 23.252649307250977, 21.117799758911133, 17.335451126098633, 15.223154067993164, 14.709466934204102, 14.728079795837402, 13.283724784851074, 9.830103874206543, 9.596324920654297, 9.156632423400879, 8.834145545959473, 7.802364349365234, 5.9107232093811035, 5.442474842071533, 4.606731414794922, 3.9264369010925293, 3.6542913913726807, 3.535557985305786, 3.4458096027374268, 3.283212900161743, 3.250596761703491, 3.009073495864868, 103.5716323852539, 42.71376419067383, 34.199161529541016, 32.242401123046875, 26.769535064697266, 21.94934844970703, 17.729040145874023, 17.024263381958008, 14.021605491638184, 13.104447364807129, 12.591754913330078, 12.447275161743164, 10.232458114624023, 9.26623249053955, 8.87743854522705, 8.433679580688477, 7.44673490524292, 6.928937911987305, 6.362460613250732, 6.218446254730225, 6.014204025268555, 5.217201232910156, 5.080066204071045, 4.898747444152832, 4.813545227050781, 4.627897262573242, 4.621002197265625, 4.579535007476807, 4.527031421661377, 4.3849663734436035, 4.367105960845947, 28.778087615966797, 23.366718292236328, 21.67796516418457, 20.875125885009766, 17.457685470581055, 16.10931396484375, 15.657294273376465, 15.353354454040527, 14.49627685546875, 13.923653602600098, 13.73868465423584, 13.408308982849121, 12.29796028137207, 12.172801971435547, 10.892483711242676, 9.17017936706543, 9.0059175491333, 8.596750259399414, 8.574761390686035, 7.1462883949279785, 6.167212963104248, 5.812228679656982, 5.667381763458252, 5.236810684204102, 5.201767921447754, 4.428338050842285, 3.867708683013916, 3.8387603759765625, 3.4685428142547607, 3.4583699703216553, 42.741947174072266, 26.34982681274414, 25.9422550201416, 21.294204711914062, 19.195831298828125, 17.210927963256836, 11.077629089355469, 9.258688926696777, 8.049947738647461, 7.643277645111084, 7.549440860748291, 7.168178081512451, 7.095186233520508, 6.580634117126465, 6.559271812438965, 5.377525806427002, 5.30299711227417, 4.695018291473389, 4.632744312286377, 4.347261428833008, 4.298257827758789, 4.055257320404053, 3.6060872077941895, 3.500077962875366, 3.2905306816101074, 3.265944004058838, 3.244858980178833, 2.9272077083587646, 2.834688663482666, 2.8166747093200684, 32.249000549316406, 15.963910102844238, 12.868507385253906, 12.536527633666992, 12.536527633666992, 8.161312103271484, 6.80531120300293, 4.689940929412842, 4.648830413818359, 4.463864803314209, 4.439757823944092, 3.9025816917419434, 3.7513561248779297, 3.581838369369507, 3.4743471145629883, 3.4496617317199707, 3.2283456325531006, 3.1405222415924072, 3.0043725967407227, 2.9240376949310303, 2.551138162612915, 2.199812889099121, 1.8685685396194458, 1.8120936155319214, 1.7475248575210571, 1.6559278964996338, 129.62220764160156, 0.9594418406486511, 0.7224752306938171, 0.47555720806121826, 0.47555720806121826, 61.643741607666016, 14.740948677062988, 9.920526504516602, 9.523161888122559, 8.789336204528809, 6.03082275390625, 5.908462047576904, 4.825746059417725, 4.717984199523926, 4.651567459106445, 4.609363555908203, 4.804514408111572, 4.206907272338867, 4.0521368980407715, 3.694226026535034, 3.3452093601226807, 3.340803861618042, 3.3367323875427246, 3.2862133979797363, 3.2934114933013916, 3.25176739692688, 3.2514355182647705, 3.00075364112854, 2.949390172958374, 2.8367760181427, 2.6800472736358643, 2.672895908355713, 2.625340223312378, 2.165536403656006, 2.095529317855835, 2.143364667892456, 40.46425247192383, 13.836752891540527, 12.367464065551758, 12.150132179260254, 9.622633934020996, 8.295924186706543, 7.8601603507995605, 6.684693336486816, 5.4476399421691895, 4.9249587059021, 4.8387861251831055, 4.314110279083252, 3.822202682495117, 3.337458610534668, 3.213803768157959, 2.850337505340576, 2.6826910972595215, 2.570019483566284, 2.5593035221099854, 2.2239744663238525, 2.199678659439087, 2.1928117275238037, 2.035557508468628, 1.94223153591156, 1.864009976387024, 1.8405340909957886, 1.8107657432556152, 1.8107657432556152, 1.8107657432556152, 1.3984379768371582], \"Term\": [\"comcast\", \"service\", \"internet\", \"billing\", \"speed\", \"data\", \"cap\", \"customer\", \"bill\", \"issue\", \"charge\", \"practice\", \"throttling\", \"complaint\", \"unfair\", \"price\", \"xfinity\", \"charged\", \"cable\", \"false\", \"fee\", \"usage\", \"poor\", \"equipment\", \"switch\", \"bait\", \"pricing\", \"contract\", \"advertising\", \"refund\", \"comcast\", \"issue\", \"complaint\", \"xfinity\", \"pricing\", \"problem\", \"cost\", \"lied\", \"tv\", \"outage\", \"lie\", \"awful\", \"throttle\", \"non\", \"agreement\", \"shitty\", \"overcharging\", \"signal\", \"failing\", \"attempt\", \"fixing\", \"mail\", \"fixed\", \"scam\", \"supervisor\", \"cyber\", \"corporation\", \"trial\", \"providing\", \"overbilled\", \"internet\", \"speed\", \"data\", \"cap\", \"slow\", \"high\", \"connection\", \"intermittent\", \"mi\", \"install\", \"comcst\", \"xfintity\", \"ypsilanti\", \"mbps\", \"throttled\", \"broadband\", \"provider\", \"work\", \"availabilty\", \"extortion\", \"download\", \"market\", \"upload\", \"consistently\", \"unwarranted\", \"forced\", \"slowed\", \"uncompetitive\", \"peak\", \"m\", \"service\", \"monthly\", \"without\", \"payment\", \"extremely\", \"terrible\", \"day\", \"help\", \"get\", \"advertised\", \"pay\", \"comcasts\", \"lack\", \"low\", \"one\", \"unreliable\", \"please\", \"disconnection\", \"increased\", \"consent\", \"still\", \"notice\", \"transfer\", \"sold\", \"cancelling\", \"slower\", \"wrong\", \"repeatedly\", \"notification\", \"inability\", \"customer\", \"charge\", \"practice\", \"unfair\", \"cable\", \"poor\", \"connectivity\", \"modem\", \"quality\", \"deceptive\", \"inconsistent\", \"sale\", \"monopolistic\", \"unsatisfied\", \"bad\", \"horrible\", \"change\", \"installation\", \"playstation\", \"loss\", \"regarding\", \"lying\", \"u\", \"trade\", \"behavior\", \"giving\", \"since\", \"rental\", \"cheating\", \"continuous\", \"billing\", \"charged\", \"fee\", \"usage\", \"contract\", \"paying\", \"failure\", \"charging\", \"year\", \"rate\", \"mb\", \"limit\", \"meter\", \"provide\", \"billed\", \"unable\", \"working\", \"request\", \"several\", \"technician\", \"refusal\", \"communication\", \"added\", \"line\", \"deliver\", \"used\", \"available\", \"run\", \"area\", \"person\", \"around\", \"equipment\", \"advertising\", \"promised\", \"phone\", \"business\", \"returned\", \"check\", \"overage\", \"miss\", \"email\", \"sent\", \"represented\", \"credit\", \"month\", \"home\", \"cancel\", \"appointment\", \"back\", \"call\", \"wont\", \"excessive\", \"never\", \"option\", \"security\", \"week\", \"continues\", \"competition\", \"expensive\", \"ecobill\", \"wireless\", \"price\", \"switch\", \"bait\", \"refund\", \"availability\", \"account\", \"plan\", \"misleading\", \"bandwidth\", \"gb\", \"bundle\", \"increase\", \"information\", \"slowing\", \"system\", \"support\", \"consumer\", \"streaming\", \"offer\", \"quoted\", \"ca\", \"atlanta\", \"product\", \"recent\", \"new\", \"committing\", \"forcing\", \"netflix\", \"higher\", \"changing\", \"false\", \"overcharge\", \"significant\", \"reimburse\", \"admit\", \"unauthorized\", \"fraud\", \"resolution\", \"improper\", \"provided\", \"dispute\", \"egregious\", \"marketing\", \"promise\", \"paid\", \"predatory\", \"multiple\", \"experience\", \"didnt\", \"end\", \"unreasonable\", \"advertisement\", \"error\", \"shutting\", \"made\", \"threat\", \"billing\", \"inaccurate\", \"faulty\", \"excess\", \"imo\", \"bill\", \"fraudulent\", \"show\", \"incorrect\", \"cramming\", \"promotion\", \"claim\", \"said\", \"way\", \"refuse\", \"term\", \"people\", \"outrageous\", \"disclosure\", \"erroneous\", \"cancelled\", \"increasing\", \"unresolved\", \"ask\", \"regular\", \"rep\", \"offered\", \"fix\", \"agreed\", \"hung\", \"raise\", \"scheduled\", \"address\", \"online\", \"closed\", \"reflect\", \"throttling\", \"access\", \"monopoly\", \"output\", \"blocking\", \"hbo_go\", \"time\", \"p\", \"isp\", \"ordered\", \"much\", \"hbogo\", \"package\", \"device\", \"abuse\", \"hbo\", \"violation\", \"visit\", \"website\", \"sony\", \"possible\", \"cannot\", \"money\", \"maryland\", \"manipulation\", \"performance\", \"bar\", \"choosing\", \"purchased\", \"latency\"], \"Total\": [1250.0, 497.0, 529.0, 233.0, 185.0, 176.0, 162.0, 95.0, 62.0, 124.0, 68.0, 67.0, 41.0, 107.0, 59.0, 43.0, 97.0, 43.0, 52.0, 33.0, 34.0, 33.0, 38.0, 29.0, 27.0, 26.0, 61.0, 27.0, 24.0, 22.0, 1250.0474853515625, 124.79436492919922, 107.27465057373047, 97.97699737548828, 61.46116256713867, 42.144168853759766, 23.479562759399414, 22.40577507019043, 19.24571418762207, 15.861367225646973, 9.864293098449707, 9.83119010925293, 8.850050926208496, 8.84475040435791, 8.390098571777344, 8.389335632324219, 7.674263000488281, 7.521298885345459, 7.208528518676758, 6.919293403625488, 6.320720672607422, 6.1282219886779785, 6.05045223236084, 6.038702487945557, 5.500133514404297, 4.615358829498291, 4.588756084442139, 4.5263190269470215, 4.514968395233154, 4.27682638168335, 529.9066772460938, 185.6968231201172, 176.25924682617188, 162.42913818359375, 40.263370513916016, 34.49433135986328, 25.34050178527832, 20.829404830932617, 19.41208839416504, 19.00632667541504, 15.376649856567383, 15.376380920410156, 15.376379013061523, 10.83748722076416, 10.33257007598877, 8.886222839355469, 7.874339580535889, 5.709324836730957, 5.116082668304443, 4.182308673858643, 4.01825475692749, 3.7829692363739014, 3.7593886852264404, 3.49389910697937, 3.3514623641967773, 3.1051321029663086, 3.0156757831573486, 2.800779342651367, 2.762477159500122, 2.681499481201172, 497.95465087890625, 30.751426696777344, 27.35605812072754, 24.779905319213867, 22.482084274291992, 19.762439727783203, 19.282846450805664, 18.323888778686523, 17.767993927001953, 17.67268180847168, 16.88245964050293, 15.822882652282715, 12.201345443725586, 10.227787017822266, 9.616742134094238, 9.56826114654541, 9.08646011352539, 8.873394012451172, 8.82726764678955, 8.16630744934082, 8.022146224975586, 7.423647403717041, 6.6172919273376465, 6.577178001403809, 6.516514301300049, 6.175421714782715, 5.718075275421143, 5.706692218780518, 5.4238996505737305, 5.194196701049805, 95.26060485839844, 68.52124786376953, 67.0854263305664, 59.845420837402344, 52.17714309692383, 38.05137252807617, 25.022192001342773, 24.341392517089844, 24.027517318725586, 21.892578125, 18.110336303710938, 15.998016357421875, 15.484256744384766, 15.516892433166504, 14.05849552154541, 10.604851722717285, 10.371228218078613, 9.93144416809082, 9.609028816223145, 8.577157020568848, 6.685515403747559, 6.21742057800293, 5.381667137145996, 4.70130729675293, 4.429666996002197, 4.312669277191162, 4.220591068267822, 4.057955265045166, 4.025441646575928, 3.7840542793273926, 233.89291381835938, 43.48279571533203, 34.9681510925293, 33.011375427246094, 27.538543701171875, 22.71839141845703, 18.498044967651367, 17.79324722290039, 14.79058837890625, 13.873486518859863, 13.362859725952148, 13.216249465942383, 11.001476287841797, 10.035216331481934, 9.64651107788086, 9.202665328979492, 8.215715408325195, 7.6980109214782715, 7.131573677062988, 6.98783540725708, 6.783213138580322, 5.986223220825195, 5.849262714385986, 5.667814254760742, 5.582574367523193, 5.396971225738525, 5.390883922576904, 5.348494052886963, 5.296134948730469, 5.154761791229248, 5.136066913604736, 29.561424255371094, 24.150094985961914, 22.461374282836914, 21.658353805541992, 18.240886688232422, 16.89289665222168, 16.440614700317383, 16.13656997680664, 15.279702186584473, 14.706871032714844, 14.522963523864746, 14.198570251464844, 13.081197738647461, 12.956024169921875, 11.675687789916992, 9.95341682434082, 9.789231300354004, 9.380191802978516, 9.357987403869629, 7.929629802703857, 6.950550556182861, 6.595446586608887, 6.450814723968506, 6.020077705383301, 5.984978199005127, 5.21163272857666, 4.650966644287109, 4.6219706535339355, 4.252633571624756, 4.241657733917236, 43.52449035644531, 27.132360458374023, 26.724790573120117, 22.077003479003906, 19.978410720825195, 17.993467330932617, 11.86021900177002, 10.04132080078125, 8.832514762878418, 8.425836563110352, 8.331957817077637, 7.950706481933594, 7.8777642250061035, 7.363231658935547, 7.3418869972229, 6.160127639770508, 6.085628986358643, 5.4778828620910645, 5.415347576141357, 5.130378246307373, 5.081056118011475, 4.837907314300537, 4.3886871337890625, 4.28377628326416, 4.073043346405029, 4.048666477203369, 4.027420520782471, 3.710048198699951, 3.6173033714294434, 3.5995655059814453, 33.037776947021484, 16.75261688232422, 13.657577514648438, 13.328696250915527, 13.328696250915527, 8.950029373168945, 7.593986511230469, 5.478673934936523, 5.437513828277588, 5.25259256362915, 5.228564262390137, 4.694226264953613, 4.5401291847229, 4.370608329772949, 4.263104438781738, 4.238429546356201, 4.017041206359863, 3.9317328929901123, 3.7939252853393555, 3.7127740383148193, 3.3416764736175537, 2.9885122776031494, 2.6572415828704834, 2.6009647846221924, 2.5364139080047607, 2.4447362422943115, 233.89291381835938, 1.7481606006622314, 1.5111558437347412, 1.2739448547363281, 1.2739448547363281, 62.431053161621094, 15.528239250183105, 10.707918167114258, 10.310460090637207, 9.576932907104492, 6.818142890930176, 6.695824146270752, 5.613114833831787, 5.505344390869141, 5.438824653625488, 5.396683692932129, 5.648890018463135, 4.994335174560547, 4.8397216796875, 4.481605529785156, 4.132612228393555, 4.128342151641846, 4.1241230964660645, 4.073581218719482, 4.082943439483643, 4.039094924926758, 4.038818359375, 3.7881319522857666, 3.7366816997528076, 3.6248631477355957, 3.4681384563446045, 3.4618096351623535, 3.412632465362549, 2.952820062637329, 2.8828485012054443, 2.9636425971984863, 41.255088806152344, 14.627610206604004, 13.158292770385742, 12.949054718017578, 10.413448333740234, 9.0867338180542, 8.651039123535156, 7.475500106811523, 6.238727569580078, 5.71600341796875, 5.629733085632324, 5.104918956756592, 4.613070487976074, 4.128267765045166, 4.013598442077637, 3.6411824226379395, 3.4736390113830566, 3.3611502647399902, 3.350160598754883, 3.0147781372070312, 2.990525960922241, 2.983715772628784, 2.826425552368164, 2.7337591648101807, 2.6548726558685303, 2.631361961364746, 2.618716239929199, 2.618716239929199, 2.618716239929199, 2.190310478210449], \"loglift\": [30.0, 29.0, 28.0, 27.0, 26.0, 25.0, 24.0, 23.0, 22.0, 21.0, 20.0, 19.0, 18.0, 17.0, 16.0, 15.0, 14.0, 13.0, 12.0, 11.0, 10.0, 9.0, 8.0, 7.0, 6.0, 5.0, 4.0, 3.0, 2.0, 1.0, 1.3550000190734863, 1.3494999408721924, 1.3485000133514404, 1.3478000164031982, 1.3431999683380127, 1.337399959564209, 1.322700023651123, 1.3210999965667725, 1.3152999877929688, 1.30649995803833, 1.2755000591278076, 1.2752000093460083, 1.2659000158309937, 1.2657999992370605, 1.260699987411499, 1.2604999542236328, 1.2513999938964844, 1.2489999532699585, 1.2441999912261963, 1.239300012588501, 1.2273999452590942, 1.2232999801635742, 1.2214000225067139, 1.2211999893188477, 1.2069000005722046, 1.1756999492645264, 1.1746000051498413, 1.1718000173568726, 1.1713999509811401, 1.1593999862670898, 1.7021000385284424, 1.6993999481201172, 1.6992000341415405, 1.698799967765808, 1.6841000318527222, 1.680799961090088, 1.6725000143051147, 1.6655999422073364, 1.6627999544143677, 1.6619000434875488, 1.6516000032424927, 1.6514999866485596, 1.6514999866485596, 1.6292999982833862, 1.625499963760376, 1.6122000217437744, 1.5999000072479248, 1.5575000047683716, 1.5391000509262085, 1.4982000589370728, 1.4889999628067017, 1.4739999771118164, 1.472000002861023, 1.4523999691009521, 1.4392999410629272, 1.416100025177002, 1.4061000347137451, 1.37909996509552, 1.373900055885315, 1.3615000247955322, 2.03629994392395, 2.0125999450683594, 2.009399890899658, 2.0064001083374023, 2.0030999183654785, 1.9982000589370728, 1.9972000122070312, 1.9951000213623047, 1.9937000274658203, 1.993399977684021, 1.9912999868392944, 1.9881000518798828, 1.9729000329971313, 1.9598000049591064, 1.9545999765396118, 1.954200029373169, 1.9494999647140503, 1.9472999572753906, 1.9467999935150146, 1.9391000270843506, 1.9371999502182007, 1.9286999702453613, 1.9144999980926514, 1.913599967956543, 1.9118000268936157, 1.9050999879837036, 1.892899990081787, 1.892300009727478, 1.885200023651123, 1.8779000043869019, 2.197999954223633, 2.1947999000549316, 2.194499969482422, 2.1930999755859375, 2.191200017929077, 2.1856000423431396, 2.1747000217437744, 2.173799991607666, 2.17330002784729, 2.170099973678589, 2.162400007247925, 2.1565001010894775, 2.1547999382019043, 2.1540000438690186, 2.149399995803833, 2.1303000450134277, 2.128499984741211, 2.1249001026153564, 2.121999979019165, 2.1113998889923096, 2.082900047302246, 2.072999954223633, 2.050600051879883, 2.0260000228881836, 2.013700008392334, 2.0074000358581543, 2.0032999515533447, 1.9943000078201294, 1.992300033569336, 1.9769999980926514, 1.3914999961853027, 2.5838000774383545, 2.579400062561035, 2.5780999660491943, 2.5732998847961426, 2.567199945449829, 2.5592000484466553, 2.557499885559082, 2.54830002784729, 2.544600009918213, 2.5422000885009766, 2.5416998863220215, 2.5292000770568848, 2.521899938583374, 2.5185999870300293, 2.514400005340576, 2.5034000873565674, 2.4964001178741455, 2.487499952316284, 2.484999895095825, 2.481300115585327, 2.464099884033203, 2.460700035095215, 2.4558000564575195, 2.453399896621704, 2.4479000568389893, 2.4475998878479004, 2.4463999271392822, 2.444700002670288, 2.4398999214172363, 2.439500093460083, 2.698699951171875, 2.6926000118255615, 2.6900999546051025, 2.688699960708618, 2.6816999912261963, 2.678100109100342, 2.6767001152038574, 2.675800085067749, 2.6728999614715576, 2.670799970626831, 2.6700000762939453, 2.668299913406372, 2.663800001144409, 2.6631999015808105, 2.656100034713745, 2.6435999870300293, 2.642199993133545, 2.6382999420166016, 2.638200044631958, 2.6215999126434326, 2.6059999465942383, 2.5992000102996826, 2.596100091934204, 2.586199998855591, 2.5852999687194824, 2.562700033187866, 2.5411999225616455, 2.539900064468384, 2.5218000411987305, 2.521399974822998, 2.898099899291992, 2.88700008392334, 2.8866000175476074, 2.880199909210205, 2.876300096511841, 2.871799945831299, 2.8480000495910645, 2.835099935531616, 2.823499917984009, 2.8187999725341797, 2.817699909210205, 2.812700033187866, 2.8117001056671143, 2.8039000034332275, 2.8036000728607178, 2.780400037765503, 2.778599977493286, 2.7620999813079834, 2.760200023651123, 2.750699996948242, 2.749000072479248, 2.739799976348877, 2.719899892807007, 2.714200019836426, 2.702899932861328, 2.7014000415802, 2.700200080871582, 2.67930006980896, 2.672499895095825, 2.6710000038146973, 2.993499994277954, 2.969399929046631, 2.9581000804901123, 2.956399917602539, 2.956399917602539, 2.9254000186920166, 2.9079999923706055, 2.8622000217437744, 2.8610000610351562, 2.8550000190734863, 2.854099988937378, 2.8329999446868896, 2.8268001079559326, 2.8185999393463135, 2.8131000995635986, 2.8117001056671143, 2.799099922180176, 2.7929999828338623, 2.7843000888824463, 2.7788000106811523, 2.7476999759674072, 2.7112998962402344, 2.6654999256134033, 2.6563000679016113, 2.6451001167297363, 2.6280999183654785, 2.4274001121520996, 2.4177000522613525, 2.2797000408172607, 2.0322999954223633, 2.0322999954223633, 3.1640000343322754, 3.1247000694274902, 3.1003000736236572, 3.0973000526428223, 3.09089994430542, 3.053999900817871, 3.0515999794006348, 3.025599956512451, 3.02239990234375, 3.020400047302246, 3.0190000534057617, 3.0148000717163086, 3.0051000118255615, 2.9990999698638916, 2.9835000038146973, 2.9653000831604004, 2.965100049972534, 2.964900016784668, 2.961899995803833, 2.9618000984191895, 2.95989990234375, 2.95989990234375, 2.943700075149536, 2.9400999546051025, 2.9316000938415527, 2.9189000129699707, 2.918100118637085, 2.914400100708008, 2.8666000366210938, 2.8577001094818115, 2.8526999950408936, 3.324199914932251, 3.2880001068115234, 3.281599998474121, 3.279900074005127, 3.2646000385284424, 3.252500057220459, 3.2476999759674072, 3.2316999435424805, 3.207900047302246, 3.1946001052856445, 3.1921000480651855, 3.1751999855041504, 3.1554999351501465, 3.1308999061584473, 3.121299982070923, 3.0987000465393066, 3.085200071334839, 3.075200080871582, 3.0743000507354736, 3.039299964904785, 3.036400079727173, 3.035599946975708, 3.0153000354766846, 3.001699924468994, 2.9899001121520996, 2.9860999584198, 2.974600076675415, 2.974600076675415, 2.974600076675415, 2.8947999477386475], \"logprob\": [30.0, 29.0, 28.0, 27.0, 26.0, 25.0, 24.0, 23.0, 22.0, 21.0, 20.0, 19.0, 18.0, 17.0, 16.0, 15.0, 14.0, 13.0, 12.0, 11.0, 10.0, 9.0, 8.0, 7.0, 6.0, 5.0, 4.0, 3.0, 2.0, 1.0, -0.5001000165939331, -2.8099000453948975, -2.9621999263763428, -3.053499937057495, -3.5244998931884766, -3.907599925994873, -4.507199764251709, -4.555600166320801, -4.713500022888184, -4.9156999588012695, -5.4217000007629395, -5.425300121307373, -5.53980016708374, -5.540500164031982, -5.598299980163574, -5.598599910736084, -5.696800231933594, -5.719399929046631, -5.766600131988525, -5.8125, -5.91480016708374, -5.949900150299072, -5.9644999504089355, -5.966700077056885, -6.074399948120117, -6.281000137329102, -6.287799835205078, -6.304299831390381, -6.307300090789795, -6.373499870300293, -1.011299967765808, -2.0625998973846436, -2.1149001121520996, -2.197000026702881, -3.6064999103546143, -3.764400005340576, -4.081200122833252, -4.28410005569458, -4.357399940490723, -4.37939977645874, -4.601600170135498, -4.6016998291015625, -4.6016998291015625, -4.973800182342529, -5.025199890136719, -5.189300060272217, -5.3225998878479, -5.686500072479248, -5.814599990844727, -6.057000160217285, -6.106200218200684, -6.18149995803833, -6.189799785614014, -6.282599925994873, -6.337399959564209, -6.4369001388549805, -6.476099967956543, -6.577099800109863, -6.596099853515625, -6.638199806213379, -0.7391999959945679, -3.547600030899048, -3.6677000522613525, -3.769700050354004, -3.870300054550171, -4.0040998458862305, -4.029600143432617, -4.082799911499023, -4.114999771118164, -4.12060022354126, -4.168499946594238, -4.236499786376953, -4.51170015335083, -4.701200008392334, -4.767899990081787, -4.773399829864502, -4.829699993133545, -4.8557000160217285, -4.861400127410889, -4.947000026702881, -4.966599941253662, -5.052700042724609, -5.1819000244140625, -5.188799858093262, -5.199900150299072, -5.26039981842041, -5.3495001792907715, -5.352099895477295, -5.410099983215332, -5.460700035095215, -2.2314999103546143, -2.564199924468994, -2.585599899291992, -2.701200008392334, -2.8403000831604004, -3.161600112915039, -3.591599941253662, -3.6201000213623047, -3.633500099182129, -3.72979998588562, -3.9272000789642334, -4.05709981918335, -4.0914998054504395, -4.090199947357178, -4.193399906158447, -4.494500160217285, -4.518599987030029, -4.565499782562256, -4.60129976272583, -4.725500106811523, -5.003200054168701, -5.085700035095215, -5.252399921417236, -5.412199974060059, -5.484000205993652, -5.517099857330322, -5.542799949645996, -5.591100215911865, -5.601099967956543, -5.678299903869629, -2.139699935913086, -2.6298999786376953, -2.8522000312805176, -2.911099910736084, -3.0971999168395996, -3.2957000732421875, -3.509200096130371, -3.549799919128418, -3.743799924850464, -3.811500072479248, -3.8513998985290527, -3.8629000186920166, -4.058899879455566, -4.1579999923706055, -4.200900077819824, -4.252200126647949, -4.3765997886657715, -4.448699951171875, -4.533999919891357, -4.5569000244140625, -4.5903000831604, -4.732500076293945, -4.759099960327148, -4.795400142669678, -4.813000202178955, -4.85230016708374, -4.853799819946289, -4.862800121307373, -4.8744001388549805, -4.906199932098389, -4.910299777984619, -2.900899887084961, -3.1092000007629395, -3.1842000484466553, -3.22189998626709, -3.400700092315674, -3.481100082397461, -3.5095999240875244, -3.5292000770568848, -3.5866000652313232, -3.6268999576568604, -3.6403000354766846, -3.664599895477295, -3.7511000633239746, -3.7613000869750977, -3.8724000453948975, -4.044600009918213, -4.062600135803223, -4.109099864959717, -4.111700057983398, -4.293900012969971, -4.441299915313721, -4.500500202178955, -4.5258002281188965, -4.604800224304199, -4.611499786376953, -4.772500038146973, -4.907800197601318, -4.91540002822876, -5.0167999267578125, -5.019700050354004, -2.3145999908447266, -2.79830002784729, -2.8138999938964844, -3.011399984359741, -3.1150999069213867, -3.2242000102996826, -3.664900064468384, -3.8441998958587646, -3.984100103378296, -4.035999774932861, -4.048299789428711, -4.100100040435791, -4.110400199890137, -4.185699939727783, -4.188899993896484, -4.387599945068359, -4.401500225067139, -4.5233001708984375, -4.536600112915039, -4.600200176239014, -4.611599922180176, -4.6697998046875, -4.787199974060059, -4.816999912261963, -4.878699779510498, -4.886199951171875, -4.8927001953125, -4.995699882507324, -5.027900218963623, -5.034200191497803, -2.4948999881744385, -3.1981000900268555, -3.413599967956543, -3.4398000240325928, -3.4398000240325928, -3.86899995803833, -4.0507001876831055, -4.422999858856201, -4.43179988861084, -4.472400188446045, -4.477799892425537, -4.606800079345703, -4.646299839019775, -4.692500114440918, -4.7230000495910645, -4.730100154876709, -4.79640007019043, -4.823999881744385, -4.868299961090088, -4.895400047302246, -5.031899929046631, -5.179999828338623, -5.343200206756592, -5.373899936676025, -5.410200119018555, -5.464099884033203, -1.1038000583648682, -6.009799957275391, -6.293499946594238, -6.711699962615967, -6.711699962615967, -1.687999963760376, -3.1187000274658203, -3.5148000717163086, -3.5555999279022217, -3.6357998847961426, -4.012499809265137, -4.0329999923706055, -4.235400199890137, -4.257999897003174, -4.272200107574463, -4.281300067901611, -4.239799976348877, -4.372600078582764, -4.410099983215332, -4.502600193023682, -4.601799964904785, -4.603099822998047, -4.604400157928467, -4.61959981918335, -4.617400169372559, -4.630199909210205, -4.630300045013428, -4.7104997634887695, -4.727799892425537, -4.76669979095459, -4.823500156402588, -4.826200008392334, -4.844099998474121, -5.0366997718811035, -5.0696001052856445, -5.046999931335449, -1.9421000480651855, -3.015199899673462, -3.127500057220459, -3.14520001411438, -3.3784000873565674, -3.5267999172210693, -3.580699920654297, -3.7427000999450684, -3.9474000930786133, -4.0482001304626465, -4.065899848937988, -4.180600166320801, -4.301700115203857, -4.437300205230713, -4.475100040435791, -4.595099925994873, -4.655700206756592, -4.698599815368652, -4.7027997970581055, -4.843200206756592, -4.8541998863220215, -4.857399940490723, -4.93179988861084, -4.978700160980225, -5.019800186157227, -5.03249979019165, -5.048799991607666, -5.048799991607666, -5.048799991607666, -5.307199954986572]}, \"token.table\": {\"Topic\": [10, 10, 7, 5, 9, 8, 3, 8, 6, 9, 1, 6, 5, 5, 9, 7, 1, 7, 2, 5, 1, 6, 4, 7, 7, 10, 4, 9, 5, 4, 8, 10, 2, 7, 6, 7, 4, 6, 6, 9, 3, 10, 2, 4, 7, 4, 5, 5, 4, 6, 10, 9, 9, 1, 3, 2, 7, 5, 6, 1, 2, 4, 3, 2, 7, 6, 4, 5, 1, 1, 9, 6, 4, 1, 2, 3, 4, 5, 10, 8, 9, 3, 8, 2, 6, 8, 6, 8, 6, 9, 8, 6, 6, 8, 2, 3, 1, 5, 8, 8, 5, 9, 1, 1, 2, 7, 8, 9, 7, 3, 4, 10, 10, 10, 3, 2, 7, 6, 4, 9, 8, 3, 8, 4, 9, 7, 3, 9, 7, 2, 4, 2, 2, 10, 1, 3, 10, 1, 1, 5, 5, 4, 3, 4, 2, 8, 1, 10, 2, 8, 10, 5, 2, 5, 2, 7, 6, 4, 10, 4, 10, 6, 3, 10, 8, 7, 6, 7, 1, 3, 3, 7, 9, 3, 9, 6, 10, 1, 10, 9, 6, 1, 8, 1, 10, 10, 8, 3, 5, 3, 2, 9, 10, 5, 6, 7, 4, 3, 4, 10, 4, 8, 7, 1, 1, 7, 8, 6, 9, 5, 8, 2, 1, 10, 4, 7, 9, 5, 7, 9, 7, 5, 9, 4, 9, 8, 4, 9, 3, 6, 5, 8, 6, 5, 9, 4, 1, 9, 6, 6, 3, 5, 1, 9, 8, 1, 8, 4, 2, 2, 3, 7, 3, 10, 2, 3, 7, 1, 7, 7, 7, 5, 9, 3, 8, 1, 2, 10, 10, 4, 3, 1, 1, 4, 5, 8, 2, 4, 8, 3, 9, 4, 2, 2, 5, 5, 10, 10, 9, 10, 6, 6, 3, 6, 2, 5, 3, 1, 2, 5, 2], \"Freq\": [0.7474589347839355, 0.957094132900238, 0.944787323474884, 0.8548085689544678, 0.8790867328643799, 0.9753392338752747, 0.9619366526603699, 0.6692293286323547, 0.952377200126648, 0.8028513789176941, 0.9535048604011536, 0.9193776249885559, 0.9440847039222717, 0.7788060307502747, 0.7364526987075806, 0.8268037438392639, 0.8671405911445618, 0.9510266184806824, 0.7818481922149658, 0.9274916648864746, 0.9154537916183472, 0.9594686627388, 0.9247077703475952, 0.9728794693946838, 0.9057443141937256, 0.7637329697608948, 0.9030024409294128, 0.9930955171585083, 0.9329798221588135, 0.4446479380130768, 0.5558099150657654, 0.9602966904640198, 0.9002700448036194, 0.9601584672927856, 0.9319722652435303, 0.7872378826141357, 0.9774394631385803, 0.9617452621459961, 0.9042121171951294, 0.7259330749511719, 0.920737624168396, 0.6703051328659058, 0.9973580241203308, 0.9642059803009033, 0.8334339261054993, 0.992392897605896, 0.9888968467712402, 0.9554186463356018, 0.7452598214149475, 0.9731996059417725, 0.7637329697608948, 0.8960808515548706, 0.6937582492828369, 0.9991620182991028, 0.9479941129684448, 0.9755050539970398, 0.7409847378730774, 0.8352511525154114, 0.8600362539291382, 0.9974397420883179, 0.986562967300415, 0.9591485857963562, 0.8571805357933044, 0.8586395382881165, 0.821607768535614, 0.7675138115882874, 0.7928004860877991, 0.9804440140724182, 0.8716959357261658, 0.9795753359794617, 0.9397580623626709, 0.9173471927642822, 0.9867667555809021, 0.8666715025901794, 0.9928557276725769, 0.9853317141532898, 0.9592291712760925, 0.8956441283226013, 0.7266970276832581, 0.7907377481460571, 0.8264937996864319, 0.9015715718269348, 0.7650283575057983, 0.7465927600860596, 0.7054452300071716, 0.8521106243133545, 0.9519360065460205, 0.8080211877822876, 0.9810082316398621, 0.8925372958183289, 0.7526602149009705, 0.8632409572601318, 0.8654317259788513, 0.7630223035812378, 0.7173071503639221, 0.9785569310188293, 0.8323473930358887, 0.973075807094574, 0.9685881733894348, 0.6617451310157776, 0.9723133444786072, 0.791947066783905, 0.8263844847679138, 0.9492588639259338, 0.6440950036048889, 0.7448936700820923, 0.9217820167541504, 0.9659820199012756, 0.9494606256484985, 0.9567765593528748, 0.9274998307228088, 0.8239082098007202, 0.8804043531417847, 0.7835580110549927, 0.9823242425918579, 0.9856691956520081, 0.8293470740318298, 0.9421286582946777, 0.9429646134376526, 0.8276174664497375, 0.9195379018783569, 0.7700902223587036, 0.5720298290252686, 0.9386904835700989, 0.9698888063430786, 0.8804249167442322, 0.9062827229499817, 0.7266839742660522, 0.8885769844055176, 0.947053074836731, 0.9062126278877258, 0.9601810574531555, 0.9982889890670776, 0.801445484161377, 0.9936345815658569, 0.9015399217605591, 0.4565562903881073, 0.912381649017334, 0.9818897247314453, 0.9079731702804565, 0.8821743130683899, 0.9327099919319153, 0.8799557685852051, 0.8041920065879822, 0.7458513379096985, 0.7885148525238037, 0.8158973455429077, 0.7533317804336548, 0.7930278778076172, 0.8810322284698486, 0.7315933704376221, 0.9728456735610962, 0.922723114490509, 0.9089689254760742, 0.9787715673446655, 0.8962964415550232, 0.9162482023239136, 0.9859747886657715, 0.7076075077056885, 0.968725860118866, 0.9119724035263062, 0.9262100458145142, 0.9755644798278809, 0.8881415724754333, 0.7468183040618896, 0.8086148500442505, 0.9097185134887695, 0.736549973487854, 0.9044913053512573, 0.9429327249526978, 0.9218459725379944, 0.9233017563819885, 0.7427915334701538, 0.9358678460121155, 0.6773186326026917, 0.9301150441169739, 0.8747370839118958, 0.9456940293312073, 0.9267085790634155, 0.8009073734283447, 0.9295655488967896, 0.9352729320526123, 0.955074667930603, 0.9121397137641907, 0.9363921880722046, 0.8671014308929443, 0.703712522983551, 0.947729229927063, 0.9683784246444702, 0.9685267210006714, 0.723987877368927, 0.8851296305656433, 0.7600626945495605, 0.7759815454483032, 0.9696027636528015, 0.9274702072143555, 0.9366191029548645, 0.8804308772087097, 0.9723696708679199, 0.668778657913208, 0.9838202595710754, 0.707809329032898, 0.987949550151825, 0.99249666929245, 0.9728510975837708, 0.9114342927932739, 0.9152044057846069, 0.9794592261314392, 0.8800050020217896, 0.8968416452407837, 0.761528730392456, 0.8889634609222412, 0.8859419822692871, 0.7637329697608948, 0.9572358131408691, 0.7796695828437805, 0.8650173544883728, 0.9370391368865967, 0.9337555766105652, 0.6748452186584473, 0.9512160420417786, 0.8845365643501282, 0.919316291809082, 0.8974626064300537, 0.734764039516449, 0.9753392338752747, 0.7392885684967041, 0.7427406311035156, 0.8761643171310425, 0.9155851602554321, 0.9093257784843445, 0.9126296043395996, 0.9471436738967896, 0.934842586517334, 0.8907710313796997, 0.937616229057312, 0.8279924392700195, 0.8665987849235535, 0.8305540680885315, 0.9639905691146851, 0.9980828762054443, 0.841329038143158, 0.9535915851593018, 0.9338883757591248, 0.7689454555511475, 0.9306902885437012, 0.951852560043335, 0.7108009457588196, 0.9686223268508911, 0.6632012724876404, 0.809661328792572, 0.950669527053833, 0.9122453331947327, 0.6633987426757812, 0.9962475299835205, 0.8725844621658325, 0.912761390209198, 0.9090688228607178, 0.8116714954376221, 0.9582653045654297, 0.9534333348274231, 0.8586350083351135, 0.9264948964118958, 0.9614197611808777, 0.818084180355072, 0.9039496183395386, 0.9678134322166443, 0.9695773720741272, 0.9247444272041321, 0.850827157497406, 0.9067153334617615, 0.8837202787399292, 0.9352731704711914, 0.9290801286697388, 0.8693133592605591, 0.8938518166542053, 0.7140869498252869, 0.985873281955719, 0.8977530002593994, 0.9406097531318665, 0.7274273633956909, 0.9666883945465088, 0.8951316475868225, 0.7980020642280579, 0.9693627953529358, 0.9264455437660217, 0.8636475801467896, 0.892551600933075, 0.9082083702087402, 0.8954794406890869, 0.8354249596595764, 0.707270622253418, 0.9869843125343323, 0.8827650547027588, 0.8757603168487549, 0.8520256280899048, 0.8744201064109802, 0.9900283217430115, 0.9755221605300903, 0.9465478658676147, 0.9755222797393799], \"Term\": [\"abuse\", \"access\", \"account\", \"added\", \"address\", \"admit\", \"advertised\", \"advertisement\", \"advertising\", \"agreed\", \"agreement\", \"appointment\", \"area\", \"around\", \"ask\", \"atlanta\", \"attempt\", \"availability\", \"availabilty\", \"available\", \"awful\", \"back\", \"bad\", \"bait\", \"bandwidth\", \"bar\", \"behavior\", \"bill\", \"billed\", \"billing\", \"billing\", \"blocking\", \"broadband\", \"bundle\", \"business\", \"ca\", \"cable\", \"call\", \"cancel\", \"cancelled\", \"cancelling\", \"cannot\", \"cap\", \"change\", \"changing\", \"charge\", \"charged\", \"charging\", \"cheating\", \"check\", \"choosing\", \"claim\", \"closed\", \"comcast\", \"comcasts\", \"comcst\", \"committing\", \"communication\", \"competition\", \"complaint\", \"connection\", \"connectivity\", \"consent\", \"consistently\", \"consumer\", \"continues\", \"continuous\", \"contract\", \"corporation\", \"cost\", \"cramming\", \"credit\", \"customer\", \"cyber\", \"data\", \"day\", \"deceptive\", \"deliver\", \"device\", \"didnt\", \"disclosure\", \"disconnection\", \"dispute\", \"download\", \"ecobill\", \"egregious\", \"email\", \"end\", \"equipment\", \"erroneous\", \"error\", \"excessive\", \"expensive\", \"experience\", \"extortion\", \"extremely\", \"failing\", \"failure\", \"false\", \"faulty\", \"fee\", \"fix\", \"fixed\", \"fixing\", \"forced\", \"forcing\", \"fraud\", \"fraudulent\", \"gb\", \"get\", \"giving\", \"hbo\", \"hbo_go\", \"hbogo\", \"help\", \"high\", \"higher\", \"home\", \"horrible\", \"hung\", \"improper\", \"inability\", \"inaccurate\", \"inconsistent\", \"incorrect\", \"increase\", \"increased\", \"increasing\", \"information\", \"install\", \"installation\", \"intermittent\", \"internet\", \"isp\", \"issue\", \"lack\", \"latency\", \"lie\", \"lied\", \"limit\", \"line\", \"loss\", \"low\", \"lying\", \"m\", \"made\", \"mail\", \"manipulation\", \"market\", \"marketing\", \"maryland\", \"mb\", \"mbps\", \"meter\", \"mi\", \"misleading\", \"miss\", \"modem\", \"money\", \"monopolistic\", \"monopoly\", \"month\", \"monthly\", \"much\", \"multiple\", \"netflix\", \"never\", \"new\", \"non\", \"notice\", \"notification\", \"offer\", \"offered\", \"one\", \"online\", \"option\", \"ordered\", \"outage\", \"output\", \"outrageous\", \"overage\", \"overbilled\", \"overcharge\", \"overcharging\", \"p\", \"package\", \"paid\", \"pay\", \"paying\", \"payment\", \"peak\", \"people\", \"performance\", \"person\", \"phone\", \"plan\", \"playstation\", \"please\", \"poor\", \"possible\", \"practice\", \"predatory\", \"price\", \"pricing\", \"problem\", \"product\", \"promise\", \"promised\", \"promotion\", \"provide\", \"provided\", \"provider\", \"providing\", \"purchased\", \"quality\", \"quoted\", \"raise\", \"rate\", \"recent\", \"reflect\", \"refund\", \"refusal\", \"refuse\", \"regarding\", \"regular\", \"reimburse\", \"rental\", \"rep\", \"repeatedly\", \"represented\", \"request\", \"resolution\", \"returned\", \"run\", \"said\", \"sale\", \"scam\", \"scheduled\", \"security\", \"sent\", \"service\", \"several\", \"shitty\", \"show\", \"shutting\", \"signal\", \"significant\", \"since\", \"slow\", \"slowed\", \"slower\", \"slowing\", \"sold\", \"sony\", \"speed\", \"still\", \"streaming\", \"supervisor\", \"support\", \"switch\", \"system\", \"technician\", \"term\", \"terrible\", \"threat\", \"throttle\", \"throttled\", \"throttling\", \"time\", \"trade\", \"transfer\", \"trial\", \"tv\", \"u\", \"unable\", \"unauthorized\", \"uncompetitive\", \"unfair\", \"unreasonable\", \"unreliable\", \"unresolved\", \"unsatisfied\", \"unwarranted\", \"upload\", \"usage\", \"used\", \"violation\", \"visit\", \"way\", \"website\", \"week\", \"wireless\", \"without\", \"wont\", \"work\", \"working\", \"wrong\", \"xfinity\", \"xfintity\", \"year\", \"ypsilanti\"]}, \"R\": 30, \"lambda.step\": 0.01, \"plot.opts\": {\"xlab\": \"PC1\", \"ylab\": \"PC2\"}, \"topic.order\": [8, 6, 9, 4, 3, 7, 1, 2, 5, 10]};\n",
       "\n",
       "function LDAvis_load_lib(url, callback){\n",
       "  var s = document.createElement('script');\n",
       "  s.src = url;\n",
       "  s.async = true;\n",
       "  s.onreadystatechange = s.onload = callback;\n",
       "  s.onerror = function(){console.warn(\"failed to load library \" + url);};\n",
       "  document.getElementsByTagName(\"head\")[0].appendChild(s);\n",
       "}\n",
       "\n",
       "if(typeof(LDAvis) !== \"undefined\"){\n",
       "   // already loaded: just create the visualization\n",
       "   !function(LDAvis){\n",
       "       new LDAvis(\"#\" + \"ldavis_el643214991057709769043878670\", ldavis_el643214991057709769043878670_data);\n",
       "   }(LDAvis);\n",
       "}else if(typeof define === \"function\" && define.amd){\n",
       "   // require.js is available: use it to load d3/LDAvis\n",
       "   require.config({paths: {d3: \"https://cdnjs.cloudflare.com/ajax/libs/d3/3.5.5/d3.min\"}});\n",
       "   require([\"d3\"], function(d3){\n",
       "      window.d3 = d3;\n",
       "      LDAvis_load_lib(\"https://cdn.rawgit.com/bmabey/pyLDAvis/files/ldavis.v1.0.0.js\", function(){\n",
       "        new LDAvis(\"#\" + \"ldavis_el643214991057709769043878670\", ldavis_el643214991057709769043878670_data);\n",
       "      });\n",
       "    });\n",
       "}else{\n",
       "    // require.js not available: dynamically load d3 & LDAvis\n",
       "    LDAvis_load_lib(\"https://cdnjs.cloudflare.com/ajax/libs/d3/3.5.5/d3.min.js\", function(){\n",
       "         LDAvis_load_lib(\"https://cdn.rawgit.com/bmabey/pyLDAvis/files/ldavis.v1.0.0.js\", function(){\n",
       "                 new LDAvis(\"#\" + \"ldavis_el643214991057709769043878670\", ldavis_el643214991057709769043878670_data);\n",
       "            })\n",
       "         });\n",
       "}\n",
       "</script>"
      ],
      "text/plain": [
       "PreparedData(topic_coordinates=              x         y  topics  cluster       Freq\n",
       "topic                                                \n",
       "7     -0.330406 -0.282726       1        1  25.779299\n",
       "5     -0.236346  0.326419       2        1  18.202995\n",
       "8     -0.023526  0.033560       3        1  13.030568\n",
       "3      0.138331 -0.083893       4        1  11.012672\n",
       "2      0.056845  0.014172       5        1   7.415119\n",
       "6      0.054316  0.014959       6        1   6.550916\n",
       "0      0.061315  0.012505       7        1   5.413440\n",
       "1      0.138361 -0.055855       8        1   4.891561\n",
       "4      0.070085  0.010623       9        1   4.172245\n",
       "9      0.071024  0.010237      10        1   3.531190, topic_info=     Category         Freq          Term        Total  loglift  logprob\n",
       "1     Default  1250.000000       comcast  1250.000000  30.0000  30.0000\n",
       "8     Default   497.000000       service   497.000000  29.0000  29.0000\n",
       "2     Default   529.000000      internet   529.000000  28.0000  28.0000\n",
       "38    Default   233.000000       billing   233.000000  27.0000  27.0000\n",
       "3     Default   185.000000         speed   185.000000  26.0000  26.0000\n",
       "20    Default   176.000000          data   176.000000  25.0000  25.0000\n",
       "9     Default   162.000000           cap   162.000000  24.0000  24.0000\n",
       "69    Default    95.000000      customer    95.000000  23.0000  23.0000\n",
       "148   Default    62.000000          bill    62.000000  22.0000  22.0000\n",
       "79    Default   124.000000         issue   124.000000  21.0000  21.0000\n",
       "189   Default    68.000000        charge    68.000000  20.0000  20.0000\n",
       "71    Default    67.000000      practice    67.000000  19.0000  19.0000\n",
       "25    Default    41.000000    throttling    41.000000  18.0000  18.0000\n",
       "56    Default   107.000000     complaint   107.000000  17.0000  17.0000\n",
       "201   Default    59.000000        unfair    59.000000  16.0000  16.0000\n",
       "35    Default    43.000000         price    43.000000  15.0000  15.0000\n",
       "87    Default    97.000000       xfinity    97.000000  14.0000  14.0000\n",
       "309   Default    43.000000       charged    43.000000  13.0000  13.0000\n",
       "0     Default    52.000000         cable    52.000000  12.0000  12.0000\n",
       "115   Default    33.000000         false    33.000000  11.0000  11.0000\n",
       "21    Default    34.000000           fee    34.000000  10.0000  10.0000\n",
       "15    Default    33.000000         usage    33.000000   9.0000   9.0000\n",
       "199   Default    38.000000          poor    38.000000   8.0000   8.0000\n",
       "59    Default    29.000000     equipment    29.000000   7.0000   7.0000\n",
       "73    Default    27.000000        switch    27.000000   6.0000   6.0000\n",
       "72    Default    26.000000          bait    26.000000   5.0000   5.0000\n",
       "213   Default    61.000000       pricing    61.000000   4.0000   4.0000\n",
       "75    Default    27.000000      contract    27.000000   3.0000   3.0000\n",
       "207   Default    24.000000   advertising    24.000000   2.0000   2.0000\n",
       "281   Default    22.000000        refund    22.000000   1.0000   1.0000\n",
       "...       ...          ...           ...          ...      ...      ...\n",
       "25    Topic10    40.464252    throttling    41.255089   3.3242  -1.9421\n",
       "45    Topic10    13.836753        access    14.627610   3.2880  -3.0152\n",
       "67    Topic10    12.367464      monopoly    13.158293   3.2816  -3.1275\n",
       "1248  Topic10    12.150132        output    12.949055   3.2799  -3.1452\n",
       "46    Topic10     9.622634      blocking    10.413448   3.2646  -3.3784\n",
       "48    Topic10     8.295924        hbo_go     9.086734   3.2525  -3.5268\n",
       "68    Topic10     7.860160          time     8.651039   3.2477  -3.5807\n",
       "235   Topic10     6.684693             p     7.475500   3.2317  -3.7427\n",
       "22    Topic10     5.447640           isp     6.238728   3.2079  -3.9474\n",
       "968   Topic10     4.924959       ordered     5.716003   3.1946  -4.0482\n",
       "139   Topic10     4.838786          much     5.629733   3.1921  -4.0659\n",
       "271   Topic10     4.314110         hbogo     5.104919   3.1752  -4.1806\n",
       "255   Topic10     3.822203       package     4.613070   3.1555  -4.3017\n",
       "426   Topic10     3.337459        device     4.128268   3.1309  -4.4373\n",
       "1149  Topic10     3.213804         abuse     4.013598   3.1213  -4.4751\n",
       "759   Topic10     2.850338           hbo     3.641182   3.0987  -4.5951\n",
       "827   Topic10     2.682691     violation     3.473639   3.0852  -4.6557\n",
       "821   Topic10     2.570019         visit     3.361150   3.0752  -4.6986\n",
       "856   Topic10     2.559304       website     3.350161   3.0743  -4.7028\n",
       "51    Topic10     2.223974          sony     3.014778   3.0393  -4.8432\n",
       "518   Topic10     2.199679      possible     2.990526   3.0364  -4.8542\n",
       "665   Topic10     2.192812        cannot     2.983716   3.0356  -4.8574\n",
       "138   Topic10     2.035558         money     2.826426   3.0153  -4.9318\n",
       "258   Topic10     1.942232      maryland     2.733759   3.0017  -4.9787\n",
       "380   Topic10     1.864010  manipulation     2.654873   2.9899  -5.0198\n",
       "381   Topic10     1.840534   performance     2.631362   2.9861  -5.0325\n",
       "1189  Topic10     1.810766           bar     2.618716   2.9746  -5.0488\n",
       "1190  Topic10     1.810766      choosing     2.618716   2.9746  -5.0488\n",
       "1191  Topic10     1.810766     purchased     2.618716   2.9746  -5.0488\n",
       "884   Topic10     1.398438       latency     2.190310   2.8948  -5.3072\n",
       "\n",
       "[333 rows x 6 columns], token_table=      Topic      Freq           Term\n",
       "term                                \n",
       "1149     10  0.747459          abuse\n",
       "45       10  0.957094         access\n",
       "170       7  0.944787        account\n",
       "151       5  0.854809          added\n",
       "190       9  0.879087        address\n",
       "1246      8  0.975339          admit\n",
       "284       3  0.961937     advertised\n",
       "350       8  0.669229  advertisement\n",
       "207       6  0.952377    advertising\n",
       "538       9  0.802851         agreed\n",
       "324       1  0.953505      agreement\n",
       "643       6  0.919378    appointment\n",
       "474       5  0.944085           area\n",
       "412       5  0.778806         around\n",
       "33        9  0.736453            ask\n",
       "182       7  0.826804        atlanta\n",
       "669       1  0.867141        attempt\n",
       "57        7  0.951027   availability\n",
       "808       2  0.781848    availabilty\n",
       "34        5  0.927492      available\n",
       "311       1  0.915454          awful\n",
       "447       6  0.959469           back\n",
       "187       4  0.924708            bad\n",
       "72        7  0.972879           bait\n",
       "97        7  0.905744      bandwidth\n",
       "1189     10  0.763733            bar\n",
       "317       4  0.903002       behavior\n",
       "148       9  0.993096           bill\n",
       "65        5  0.932980         billed\n",
       "38        4  0.444648        billing\n",
       "...     ...       ...            ...\n",
       "145       1  0.883720          trial\n",
       "196       1  0.935273             tv\n",
       "688       4  0.929080              u\n",
       "81        5  0.869313         unable\n",
       "240       8  0.893852   unauthorized\n",
       "951       2  0.714087  uncompetitive\n",
       "201       4  0.985873         unfair\n",
       "26        8  0.897753   unreasonable\n",
       "609       3  0.940610     unreliable\n",
       "467       9  0.727427     unresolved\n",
       "1249      4  0.966688    unsatisfied\n",
       "1013      2  0.895132    unwarranted\n",
       "215       2  0.798002         upload\n",
       "15        5  0.969363          usage\n",
       "742       5  0.926446           used\n",
       "827      10  0.863648      violation\n",
       "821      10  0.892552          visit\n",
       "723       9  0.908208            way\n",
       "856      10  0.895479        website\n",
       "260       6  0.835425           week\n",
       "421       6  0.707271       wireless\n",
       "129       3  0.986984        without\n",
       "159       6  0.882765           wont\n",
       "348       2  0.875760           work\n",
       "17        5  0.852026        working\n",
       "1112      3  0.874420          wrong\n",
       "87        1  0.990028        xfinity\n",
       "1243      2  0.975522       xfintity\n",
       "114       5  0.946548           year\n",
       "1250      2  0.975522      ypsilanti\n",
       "\n",
       "[301 rows x 3 columns], R=30, lambda_step=0.01, plot_opts={'xlab': 'PC1', 'ylab': 'PC2'}, topic_order=[8, 6, 9, 4, 3, 7, 1, 2, 5, 10])"
      ]
     },
     "execution_count": 24,
     "metadata": {},
     "output_type": "execute_result"
    }
   ],
   "source": [
    "# Visualize the topics\n",
    "pyLDAvis.enable_notebook()\n",
    "vis = pyLDAvis.gensim.prepare(lda_model, corpus, id2word)\n",
    "vis"
   ]
  },
  {
   "cell_type": "markdown",
   "metadata": {},
   "source": [
    "# Problem 1.3"
   ]
  },
  {
   "cell_type": "markdown",
   "metadata": {},
   "source": [
    "Create a new categorical variable with value as Open and Closed. Open & Pending is to be categorized as Open and Closed & Solved is to be categorized as Closed."
   ]
  },
  {
   "cell_type": "code",
   "execution_count": 63,
   "metadata": {},
   "outputs": [
    {
     "data": {
      "text/plain": [
       "array(['Closed', 'Open', 'Solved', 'Pending'], dtype=object)"
      ]
     },
     "execution_count": 63,
     "metadata": {},
     "output_type": "execute_result"
    }
   ],
   "source": [
    "df['Status'].unique()"
   ]
  },
  {
   "cell_type": "code",
   "execution_count": 66,
   "metadata": {},
   "outputs": [
    {
     "data": {
      "text/plain": [
       "0    Closed\n",
       "1    Closed\n",
       "2    Closed\n",
       "3      Open\n",
       "4    Closed\n",
       "Name: ModifiedStatus, dtype: object"
      ]
     },
     "execution_count": 66,
     "metadata": {},
     "output_type": "execute_result"
    }
   ],
   "source": [
    "df['ModifiedStatus']=[\"Open\" if status=='Open' or status=='Pending' else \"Closed\" for status in df['Status']]\n",
    "df['ModifiedStatus'].head()"
   ]
  },
  {
   "cell_type": "markdown",
   "metadata": {},
   "source": [
    "#  Problem 1.4"
   ]
  },
  {
   "cell_type": "markdown",
   "metadata": {},
   "source": [
    "Provide state wise status of complaints in a stacked bar chart. Use the categorized variable from Q3. Provide insights on:\n",
    "<li>A.\tWhich state has the maximum complaints</li>\n",
    "<li>B.\tWhich state has the highest percentage of unresolved complaints</li>\n"
   ]
  },
  {
   "cell_type": "code",
   "execution_count": 75,
   "metadata": {},
   "outputs": [
    {
     "data": {
      "text/html": [
       "<div>\n",
       "<style scoped>\n",
       "    .dataframe tbody tr th:only-of-type {\n",
       "        vertical-align: middle;\n",
       "    }\n",
       "\n",
       "    .dataframe tbody tr th {\n",
       "        vertical-align: top;\n",
       "    }\n",
       "\n",
       "    .dataframe thead th {\n",
       "        text-align: right;\n",
       "    }\n",
       "</style>\n",
       "<table border=\"1\" class=\"dataframe\">\n",
       "  <thead>\n",
       "    <tr style=\"text-align: right;\">\n",
       "      <th></th>\n",
       "      <th>State</th>\n",
       "      <th>Count</th>\n",
       "    </tr>\n",
       "  </thead>\n",
       "  <tbody>\n",
       "    <tr>\n",
       "      <th>0</th>\n",
       "      <td>Georgia</td>\n",
       "      <td>288</td>\n",
       "    </tr>\n",
       "    <tr>\n",
       "      <th>1</th>\n",
       "      <td>Florida</td>\n",
       "      <td>240</td>\n",
       "    </tr>\n",
       "    <tr>\n",
       "      <th>2</th>\n",
       "      <td>California</td>\n",
       "      <td>220</td>\n",
       "    </tr>\n",
       "    <tr>\n",
       "      <th>3</th>\n",
       "      <td>Illinois</td>\n",
       "      <td>164</td>\n",
       "    </tr>\n",
       "    <tr>\n",
       "      <th>4</th>\n",
       "      <td>Tennessee</td>\n",
       "      <td>143</td>\n",
       "    </tr>\n",
       "    <tr>\n",
       "      <th>5</th>\n",
       "      <td>Pennsylvania</td>\n",
       "      <td>130</td>\n",
       "    </tr>\n",
       "    <tr>\n",
       "      <th>6</th>\n",
       "      <td>Michigan</td>\n",
       "      <td>115</td>\n",
       "    </tr>\n",
       "    <tr>\n",
       "      <th>7</th>\n",
       "      <td>Washington</td>\n",
       "      <td>98</td>\n",
       "    </tr>\n",
       "    <tr>\n",
       "      <th>8</th>\n",
       "      <td>Colorado</td>\n",
       "      <td>80</td>\n",
       "    </tr>\n",
       "    <tr>\n",
       "      <th>9</th>\n",
       "      <td>Maryland</td>\n",
       "      <td>78</td>\n",
       "    </tr>\n",
       "  </tbody>\n",
       "</table>\n",
       "</div>"
      ],
      "text/plain": [
       "          State  Count\n",
       "0       Georgia    288\n",
       "1       Florida    240\n",
       "2    California    220\n",
       "3      Illinois    164\n",
       "4     Tennessee    143\n",
       "5  Pennsylvania    130\n",
       "6      Michigan    115\n",
       "7    Washington     98\n",
       "8      Colorado     80\n",
       "9      Maryland     78"
      ]
     },
     "execution_count": 75,
     "metadata": {},
     "output_type": "execute_result"
    }
   ],
   "source": [
    "#A. which state has the maximum complaints\n",
    "df_statewise_complaints=df.groupby([\"State\"]).size().sort_values(ascending=False).to_frame().reset_index().rename({0: \"Count\"}, axis=1)\n",
    "df_statewise_complaints.head(10)"
   ]
  },
  {
   "cell_type": "code",
   "execution_count": 76,
   "metadata": {},
   "outputs": [
    {
     "data": {
      "text/plain": [
       "'Georgia'"
      ]
     },
     "execution_count": 76,
     "metadata": {},
     "output_type": "execute_result"
    }
   ],
   "source": [
    "#state having maximum complaints\n",
    "df_statewise_complaints['State'][0]"
   ]
  },
  {
   "cell_type": "code",
   "execution_count": 77,
   "metadata": {},
   "outputs": [
    {
     "data": {
      "text/html": [
       "<div>\n",
       "<style scoped>\n",
       "    .dataframe tbody tr th:only-of-type {\n",
       "        vertical-align: middle;\n",
       "    }\n",
       "\n",
       "    .dataframe tbody tr th {\n",
       "        vertical-align: top;\n",
       "    }\n",
       "\n",
       "    .dataframe thead th {\n",
       "        text-align: right;\n",
       "    }\n",
       "</style>\n",
       "<table border=\"1\" class=\"dataframe\">\n",
       "  <thead>\n",
       "    <tr style=\"text-align: right;\">\n",
       "      <th>ModifiedStatus</th>\n",
       "      <th>Closed</th>\n",
       "      <th>Open</th>\n",
       "    </tr>\n",
       "    <tr>\n",
       "      <th>State</th>\n",
       "      <th></th>\n",
       "      <th></th>\n",
       "    </tr>\n",
       "  </thead>\n",
       "  <tbody>\n",
       "    <tr>\n",
       "      <th>Alabama</th>\n",
       "      <td>17.0</td>\n",
       "      <td>9.0</td>\n",
       "    </tr>\n",
       "    <tr>\n",
       "      <th>Arizona</th>\n",
       "      <td>14.0</td>\n",
       "      <td>6.0</td>\n",
       "    </tr>\n",
       "    <tr>\n",
       "      <th>Arkansas</th>\n",
       "      <td>6.0</td>\n",
       "      <td>NaN</td>\n",
       "    </tr>\n",
       "    <tr>\n",
       "      <th>California</th>\n",
       "      <td>159.0</td>\n",
       "      <td>61.0</td>\n",
       "    </tr>\n",
       "    <tr>\n",
       "      <th>Colorado</th>\n",
       "      <td>58.0</td>\n",
       "      <td>22.0</td>\n",
       "    </tr>\n",
       "    <tr>\n",
       "      <th>Connecticut</th>\n",
       "      <td>9.0</td>\n",
       "      <td>3.0</td>\n",
       "    </tr>\n",
       "    <tr>\n",
       "      <th>Delaware</th>\n",
       "      <td>8.0</td>\n",
       "      <td>4.0</td>\n",
       "    </tr>\n",
       "    <tr>\n",
       "      <th>District Of Columbia</th>\n",
       "      <td>14.0</td>\n",
       "      <td>2.0</td>\n",
       "    </tr>\n",
       "    <tr>\n",
       "      <th>District of Columbia</th>\n",
       "      <td>1.0</td>\n",
       "      <td>NaN</td>\n",
       "    </tr>\n",
       "    <tr>\n",
       "      <th>Florida</th>\n",
       "      <td>201.0</td>\n",
       "      <td>39.0</td>\n",
       "    </tr>\n",
       "    <tr>\n",
       "      <th>Georgia</th>\n",
       "      <td>208.0</td>\n",
       "      <td>80.0</td>\n",
       "    </tr>\n",
       "    <tr>\n",
       "      <th>Illinois</th>\n",
       "      <td>135.0</td>\n",
       "      <td>29.0</td>\n",
       "    </tr>\n",
       "    <tr>\n",
       "      <th>Indiana</th>\n",
       "      <td>50.0</td>\n",
       "      <td>9.0</td>\n",
       "    </tr>\n",
       "    <tr>\n",
       "      <th>Iowa</th>\n",
       "      <td>1.0</td>\n",
       "      <td>NaN</td>\n",
       "    </tr>\n",
       "    <tr>\n",
       "      <th>Kansas</th>\n",
       "      <td>1.0</td>\n",
       "      <td>1.0</td>\n",
       "    </tr>\n",
       "    <tr>\n",
       "      <th>Kentucky</th>\n",
       "      <td>4.0</td>\n",
       "      <td>3.0</td>\n",
       "    </tr>\n",
       "    <tr>\n",
       "      <th>Louisiana</th>\n",
       "      <td>12.0</td>\n",
       "      <td>1.0</td>\n",
       "    </tr>\n",
       "    <tr>\n",
       "      <th>Maine</th>\n",
       "      <td>3.0</td>\n",
       "      <td>2.0</td>\n",
       "    </tr>\n",
       "    <tr>\n",
       "      <th>Maryland</th>\n",
       "      <td>63.0</td>\n",
       "      <td>15.0</td>\n",
       "    </tr>\n",
       "    <tr>\n",
       "      <th>Massachusetts</th>\n",
       "      <td>50.0</td>\n",
       "      <td>11.0</td>\n",
       "    </tr>\n",
       "    <tr>\n",
       "      <th>Michigan</th>\n",
       "      <td>92.0</td>\n",
       "      <td>23.0</td>\n",
       "    </tr>\n",
       "    <tr>\n",
       "      <th>Minnesota</th>\n",
       "      <td>29.0</td>\n",
       "      <td>4.0</td>\n",
       "    </tr>\n",
       "    <tr>\n",
       "      <th>Mississippi</th>\n",
       "      <td>23.0</td>\n",
       "      <td>16.0</td>\n",
       "    </tr>\n",
       "    <tr>\n",
       "      <th>Missouri</th>\n",
       "      <td>3.0</td>\n",
       "      <td>1.0</td>\n",
       "    </tr>\n",
       "    <tr>\n",
       "      <th>Montana</th>\n",
       "      <td>1.0</td>\n",
       "      <td>NaN</td>\n",
       "    </tr>\n",
       "    <tr>\n",
       "      <th>Nevada</th>\n",
       "      <td>1.0</td>\n",
       "      <td>NaN</td>\n",
       "    </tr>\n",
       "    <tr>\n",
       "      <th>New Hampshire</th>\n",
       "      <td>8.0</td>\n",
       "      <td>4.0</td>\n",
       "    </tr>\n",
       "    <tr>\n",
       "      <th>New Jersey</th>\n",
       "      <td>56.0</td>\n",
       "      <td>19.0</td>\n",
       "    </tr>\n",
       "    <tr>\n",
       "      <th>New Mexico</th>\n",
       "      <td>11.0</td>\n",
       "      <td>4.0</td>\n",
       "    </tr>\n",
       "    <tr>\n",
       "      <th>New York</th>\n",
       "      <td>6.0</td>\n",
       "      <td>NaN</td>\n",
       "    </tr>\n",
       "    <tr>\n",
       "      <th>North Carolina</th>\n",
       "      <td>3.0</td>\n",
       "      <td>NaN</td>\n",
       "    </tr>\n",
       "    <tr>\n",
       "      <th>Ohio</th>\n",
       "      <td>3.0</td>\n",
       "      <td>NaN</td>\n",
       "    </tr>\n",
       "    <tr>\n",
       "      <th>Oregon</th>\n",
       "      <td>36.0</td>\n",
       "      <td>13.0</td>\n",
       "    </tr>\n",
       "    <tr>\n",
       "      <th>Pennsylvania</th>\n",
       "      <td>110.0</td>\n",
       "      <td>20.0</td>\n",
       "    </tr>\n",
       "    <tr>\n",
       "      <th>Rhode Island</th>\n",
       "      <td>1.0</td>\n",
       "      <td>NaN</td>\n",
       "    </tr>\n",
       "    <tr>\n",
       "      <th>South Carolina</th>\n",
       "      <td>15.0</td>\n",
       "      <td>3.0</td>\n",
       "    </tr>\n",
       "    <tr>\n",
       "      <th>Tennessee</th>\n",
       "      <td>96.0</td>\n",
       "      <td>47.0</td>\n",
       "    </tr>\n",
       "    <tr>\n",
       "      <th>Texas</th>\n",
       "      <td>49.0</td>\n",
       "      <td>22.0</td>\n",
       "    </tr>\n",
       "    <tr>\n",
       "      <th>Utah</th>\n",
       "      <td>16.0</td>\n",
       "      <td>6.0</td>\n",
       "    </tr>\n",
       "    <tr>\n",
       "      <th>Vermont</th>\n",
       "      <td>2.0</td>\n",
       "      <td>1.0</td>\n",
       "    </tr>\n",
       "    <tr>\n",
       "      <th>Virginia</th>\n",
       "      <td>49.0</td>\n",
       "      <td>11.0</td>\n",
       "    </tr>\n",
       "    <tr>\n",
       "      <th>Washington</th>\n",
       "      <td>75.0</td>\n",
       "      <td>23.0</td>\n",
       "    </tr>\n",
       "    <tr>\n",
       "      <th>West Virginia</th>\n",
       "      <td>8.0</td>\n",
       "      <td>3.0</td>\n",
       "    </tr>\n",
       "  </tbody>\n",
       "</table>\n",
       "</div>"
      ],
      "text/plain": [
       "ModifiedStatus        Closed  Open\n",
       "State                             \n",
       "Alabama                 17.0   9.0\n",
       "Arizona                 14.0   6.0\n",
       "Arkansas                 6.0   NaN\n",
       "California             159.0  61.0\n",
       "Colorado                58.0  22.0\n",
       "Connecticut              9.0   3.0\n",
       "Delaware                 8.0   4.0\n",
       "District Of Columbia    14.0   2.0\n",
       "District of Columbia     1.0   NaN\n",
       "Florida                201.0  39.0\n",
       "Georgia                208.0  80.0\n",
       "Illinois               135.0  29.0\n",
       "Indiana                 50.0   9.0\n",
       "Iowa                     1.0   NaN\n",
       "Kansas                   1.0   1.0\n",
       "Kentucky                 4.0   3.0\n",
       "Louisiana               12.0   1.0\n",
       "Maine                    3.0   2.0\n",
       "Maryland                63.0  15.0\n",
       "Massachusetts           50.0  11.0\n",
       "Michigan                92.0  23.0\n",
       "Minnesota               29.0   4.0\n",
       "Mississippi             23.0  16.0\n",
       "Missouri                 3.0   1.0\n",
       "Montana                  1.0   NaN\n",
       "Nevada                   1.0   NaN\n",
       "New Hampshire            8.0   4.0\n",
       "New Jersey              56.0  19.0\n",
       "New Mexico              11.0   4.0\n",
       "New York                 6.0   NaN\n",
       "North Carolina           3.0   NaN\n",
       "Ohio                     3.0   NaN\n",
       "Oregon                  36.0  13.0\n",
       "Pennsylvania           110.0  20.0\n",
       "Rhode Island             1.0   NaN\n",
       "South Carolina          15.0   3.0\n",
       "Tennessee               96.0  47.0\n",
       "Texas                   49.0  22.0\n",
       "Utah                    16.0   6.0\n",
       "Vermont                  2.0   1.0\n",
       "Virginia                49.0  11.0\n",
       "Washington              75.0  23.0\n",
       "West Virginia            8.0   3.0"
      ]
     },
     "execution_count": 77,
     "metadata": {},
     "output_type": "execute_result"
    }
   ],
   "source": [
    "#B.Which state has the highest percentage of unresolved complaints\n",
    "status_complaints = df.groupby([\"State\", \"ModifiedStatus\"]).size().unstack()\n",
    "status_complaints"
   ]
  },
  {
   "cell_type": "code",
   "execution_count": 92,
   "metadata": {},
   "outputs": [
    {
     "data": {
      "image/png": "[encoded data removed]",
      "text/plain": [
       "<Figure size 1440x2160 with 1 Axes>"
      ]
     },
     "metadata": {
      "needs_background": "light"
     },
     "output_type": "display_data"
    }
   ],
   "source": [
    "status_complaints=status_complaints.fillna(0)\n",
    "status_complaints.plot(kind=\"barh\", figsize=(20,30), stacked=True)\n",
    "plt.rcParams.update({\"font.size\": 30})"
   ]
  },
  {
   "cell_type": "code",
   "execution_count": 91,
   "metadata": {},
   "outputs": [
    {
     "data": {
      "text/plain": [
       "'Georgia'"
      ]
     },
     "execution_count": 91,
     "metadata": {},
     "output_type": "execute_result"
    }
   ],
   "source": [
    "status_complaints.loc[status_complaints['Open'].idxmax()].name"
   ]
  },
  {
   "cell_type": "markdown",
   "metadata": {},
   "source": [
    "# Problem 1.4"
   ]
  },
  {
   "cell_type": "markdown",
   "metadata": {},
   "source": [
    "Provide the percentage of complaints resolved till date, which were received through the Internet and customer care calls."
   ]
  },
  {
   "cell_type": "code",
   "execution_count": 96,
   "metadata": {},
   "outputs": [
    {
     "data": {
      "text/html": [
       "<div>\n",
       "<style scoped>\n",
       "    .dataframe tbody tr th:only-of-type {\n",
       "        vertical-align: middle;\n",
       "    }\n",
       "\n",
       "    .dataframe tbody tr th {\n",
       "        vertical-align: top;\n",
       "    }\n",
       "\n",
       "    .dataframe thead th {\n",
       "        text-align: right;\n",
       "    }\n",
       "</style>\n",
       "<table border=\"1\" class=\"dataframe\">\n",
       "  <thead>\n",
       "    <tr style=\"text-align: right;\">\n",
       "      <th>ModifiedStatus</th>\n",
       "      <th>Closed</th>\n",
       "      <th>Open</th>\n",
       "      <th>% of Resolved</th>\n",
       "    </tr>\n",
       "    <tr>\n",
       "      <th>Received Via</th>\n",
       "      <th></th>\n",
       "      <th></th>\n",
       "      <th></th>\n",
       "    </tr>\n",
       "  </thead>\n",
       "  <tbody>\n",
       "    <tr>\n",
       "      <th>Customer Care Call</th>\n",
       "      <td>864</td>\n",
       "      <td>255</td>\n",
       "      <td>77.211796</td>\n",
       "    </tr>\n",
       "    <tr>\n",
       "      <th>Internet</th>\n",
       "      <td>843</td>\n",
       "      <td>262</td>\n",
       "      <td>76.289593</td>\n",
       "    </tr>\n",
       "  </tbody>\n",
       "</table>\n",
       "</div>"
      ],
      "text/plain": [
       "ModifiedStatus      Closed  Open  % of Resolved\n",
       "Received Via                                   \n",
       "Customer Care Call     864   255      77.211796\n",
       "Internet               843   262      76.289593"
      ]
     },
     "execution_count": 96,
     "metadata": {},
     "output_type": "execute_result"
    }
   ],
   "source": [
    "status_received_via = df.groupby([\"Received Via\", \"ModifiedStatus\"]).size().unstack()\n",
    "status_received_via['% of Resolved']=100*status_received_via['Closed']/(status_received_via['Closed']+status_received_via['Open'])\n",
    "status_received_via"
   ]
  }
 ],
 "metadata": {
  "kernelspec": {
   "display_name": "Python 3",
   "language": "python",
   "name": "python3"
  },
  "language_info": {
   "codemirror_mode": {
    "name": "ipython",
    "version": 3
   },
   "file_extension": ".py",
   "mimetype": "text/x-python",
   "name": "python",
   "nbconvert_exporter": "python",
   "pygments_lexer": "ipython3",
   "version": "3.7.3"
  }
 },
 "nbformat": 4,
 "nbformat_minor": 2
}
