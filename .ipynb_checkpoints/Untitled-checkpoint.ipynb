{
 "cells": [
  {
   "cell_type": "code",
   "execution_count": 66,
   "metadata": {},
   "outputs": [],
   "source": [
    "import pandas as pd\n",
    "import numpy as np\n",
    "import matplotlib.pyplot as plt\n",
    "%matplotlib inline\n",
    "\n",
    "from pprint import pprint"
   ]
  },
  {
   "cell_type": "code",
   "execution_count": 2,
   "metadata": {},
   "outputs": [
    {
     "data": {
      "text/html": [
       "<div>\n",
       "<style scoped>\n",
       "    .dataframe tbody tr th:only-of-type {\n",
       "        vertical-align: middle;\n",
       "    }\n",
       "\n",
       "    .dataframe tbody tr th {\n",
       "        vertical-align: top;\n",
       "    }\n",
       "\n",
       "    .dataframe thead th {\n",
       "        text-align: right;\n",
       "    }\n",
       "</style>\n",
       "<table border=\"1\" class=\"dataframe\">\n",
       "  <thead>\n",
       "    <tr style=\"text-align: right;\">\n",
       "      <th></th>\n",
       "      <th>Ticket #</th>\n",
       "      <th>Customer Complaint</th>\n",
       "      <th>Date</th>\n",
       "      <th>Date_month_year</th>\n",
       "      <th>Time</th>\n",
       "      <th>Received Via</th>\n",
       "      <th>City</th>\n",
       "      <th>State</th>\n",
       "      <th>Zip code</th>\n",
       "      <th>Status</th>\n",
       "      <th>Filing on Behalf of Someone</th>\n",
       "    </tr>\n",
       "  </thead>\n",
       "  <tbody>\n",
       "    <tr>\n",
       "      <th>0</th>\n",
       "      <td>250635</td>\n",
       "      <td>Comcast Cable Internet Speeds</td>\n",
       "      <td>22-04-15</td>\n",
       "      <td>2015-04-22</td>\n",
       "      <td>2019-10-20 15:53:50</td>\n",
       "      <td>Customer Care Call</td>\n",
       "      <td>Abingdon</td>\n",
       "      <td>Maryland</td>\n",
       "      <td>21009</td>\n",
       "      <td>Closed</td>\n",
       "      <td>No</td>\n",
       "    </tr>\n",
       "    <tr>\n",
       "      <th>1</th>\n",
       "      <td>223441</td>\n",
       "      <td>Payment disappear - service got disconnected</td>\n",
       "      <td>04-08-15</td>\n",
       "      <td>2015-08-04</td>\n",
       "      <td>2019-10-20 10:22:56</td>\n",
       "      <td>Internet</td>\n",
       "      <td>Acworth</td>\n",
       "      <td>Georgia</td>\n",
       "      <td>30102</td>\n",
       "      <td>Closed</td>\n",
       "      <td>No</td>\n",
       "    </tr>\n",
       "    <tr>\n",
       "      <th>2</th>\n",
       "      <td>242732</td>\n",
       "      <td>Speed and Service</td>\n",
       "      <td>18-04-15</td>\n",
       "      <td>2015-04-18</td>\n",
       "      <td>2019-10-20 09:55:47</td>\n",
       "      <td>Internet</td>\n",
       "      <td>Acworth</td>\n",
       "      <td>Georgia</td>\n",
       "      <td>30101</td>\n",
       "      <td>Closed</td>\n",
       "      <td>Yes</td>\n",
       "    </tr>\n",
       "  </tbody>\n",
       "</table>\n",
       "</div>"
      ],
      "text/plain": [
       "  Ticket #                            Customer Complaint      Date  \\\n",
       "0   250635                 Comcast Cable Internet Speeds  22-04-15   \n",
       "1   223441  Payment disappear - service got disconnected  04-08-15   \n",
       "2   242732                             Speed and Service  18-04-15   \n",
       "\n",
       "  Date_month_year                Time        Received Via      City     State  \\\n",
       "0      2015-04-22 2019-10-20 15:53:50  Customer Care Call  Abingdon  Maryland   \n",
       "1      2015-08-04 2019-10-20 10:22:56            Internet   Acworth   Georgia   \n",
       "2      2015-04-18 2019-10-20 09:55:47            Internet   Acworth   Georgia   \n",
       "\n",
       "   Zip code  Status Filing on Behalf of Someone  \n",
       "0     21009  Closed                          No  \n",
       "1     30102  Closed                          No  \n",
       "2     30101  Closed                         Yes  "
      ]
     },
     "execution_count": 2,
     "metadata": {},
     "output_type": "execute_result"
    }
   ],
   "source": [
    "df=pd.read_csv('Comcast_telecom_complaints_data.csv' ,parse_dates=['Date_month_year','Time'])\n",
    "df.head(3)"
   ]
  },
  {
   "cell_type": "code",
   "execution_count": 3,
   "metadata": {},
   "outputs": [
    {
     "data": {
      "text/plain": [
       "Ticket #                               object\n",
       "Customer Complaint                     object\n",
       "Date                                   object\n",
       "Date_month_year                datetime64[ns]\n",
       "Time                           datetime64[ns]\n",
       "Received Via                           object\n",
       "City                                   object\n",
       "State                                  object\n",
       "Zip code                                int64\n",
       "Status                                 object\n",
       "Filing on Behalf of Someone            object\n",
       "dtype: object"
      ]
     },
     "execution_count": 3,
     "metadata": {},
     "output_type": "execute_result"
    }
   ],
   "source": [
    "df.dtypes"
   ]
  },
  {
   "cell_type": "markdown",
   "metadata": {},
   "source": [
    "# Problem 1.1:"
   ]
  },
  {
   "cell_type": "markdown",
   "metadata": {},
   "source": [
    "Provide the trend chart for the number of complaints at monthly and daily granularity levels."
   ]
  },
  {
   "cell_type": "code",
   "execution_count": 4,
   "metadata": {},
   "outputs": [
    {
     "data": {
      "text/plain": [
       "<matplotlib.axes._subplots.AxesSubplot at 0x19aa07b8a58>"
      ]
     },
     "execution_count": 4,
     "metadata": {},
     "output_type": "execute_result"
    },
    {
     "data": {
      "image/png": "[encoded data removed]",
      "text/plain": [
       "<Figure size 432x288 with 1 Axes>"
      ]
     },
     "metadata": {
      "needs_background": "light"
     },
     "output_type": "display_data"
    }
   ],
   "source": [
    "#trends of number of complaints at daily\n",
    "df_days=pd.DataFrame(df['Date_month_year'].value_counts())\n",
    "df_days.sort_index().plot()"
   ]
  },
  {
   "cell_type": "code",
   "execution_count": 5,
   "metadata": {},
   "outputs": [],
   "source": [
    "#trends of number of complaints at monthly\n",
    "df['Month_Year']=df['Date_month_year'].dt.to_period('M')\n",
    "df_month=pd.DataFrame(df['Month_Year'].value_counts())"
   ]
  },
  {
   "cell_type": "code",
   "execution_count": 6,
   "metadata": {},
   "outputs": [
    {
     "data": {
      "text/plain": [
       "<matplotlib.axes._subplots.AxesSubplot at 0x19aa376ebe0>"
      ]
     },
     "execution_count": 6,
     "metadata": {},
     "output_type": "execute_result"
    },
    {
     "data": {
      "image/png": "[encoded data removed]",
      "text/plain": [
       "<Figure size 432x288 with 1 Axes>"
      ]
     },
     "metadata": {
      "needs_background": "light"
     },
     "output_type": "display_data"
    }
   ],
   "source": [
    "df_month.sort_index().plot()"
   ]
  },
  {
   "cell_type": "markdown",
   "metadata": {},
   "source": [
    "# Problem 1.2"
   ]
  },
  {
   "cell_type": "markdown",
   "metadata": {},
   "source": [
    "Provide a table with the frequency of complaint types. Which complaint types are maximum i.e., around internet, network issues, or across any other domains."
   ]
  },
  {
   "cell_type": "markdown",
   "metadata": {},
   "source": [
    "<b>this is a  problem of Topic Modeling which is a branch of NLP"
   ]
  },
  {
   "cell_type": "code",
   "execution_count": 7,
   "metadata": {},
   "outputs": [
    {
     "name": "stderr",
     "output_type": "stream",
     "text": [
      "C:\\ProgramData\\Anaconda3\\lib\\site-packages\\ipykernel_launcher.py:2: SettingWithCopyWarning: \n",
      "A value is trying to be set on a copy of a slice from a DataFrame.\n",
      "Try using .loc[row_indexer,col_indexer] = value instead\n",
      "\n",
      "See the caveats in the documentation: http://pandas.pydata.org/pandas-docs/stable/indexing.html#indexing-view-versus-copy\n",
      "  \n"
     ]
    }
   ],
   "source": [
    "data_text = df[['Customer Complaint']]\n",
    "data_text['index'] = data_text.index\n",
    "documents = data_text\n"
   ]
  },
  {
   "cell_type": "code",
   "execution_count": 8,
   "metadata": {},
   "outputs": [
    {
     "name": "stdout",
     "output_type": "stream",
     "text": [
      "2224\n",
      "                                  Customer Complaint  index\n",
      "0                      Comcast Cable Internet Speeds      0\n",
      "1       Payment disappear - service got disconnected      1\n",
      "2                                  Speed and Service      2\n",
      "3  Comcast Imposed a New Usage Cap of 300GB that ...      3\n",
      "4         Comcast not working and no service to boot      4\n"
     ]
    }
   ],
   "source": [
    "print(len(documents))\n",
    "print(documents[:5])"
   ]
  },
  {
   "cell_type": "code",
   "execution_count": 41,
   "metadata": {},
   "outputs": [],
   "source": [
    "# Gensim\n",
    "import gensim\n",
    "import gensim.corpora as corpora\n",
    "from gensim.utils import simple_preprocess\n",
    "from gensim.models import CoherenceModel\n",
    "\n",
    "# wordnet for lemmatization\n",
    "from nltk.stem.wordnet import WordNetLemmatizer\n",
    "\n",
    "# Plotting tools\n",
    "import pyLDAvis\n",
    "import pyLDAvis.gensim  # don't skip this"
   ]
  },
  {
   "cell_type": "code",
   "execution_count": 29,
   "metadata": {},
   "outputs": [],
   "source": [
    "# Enable logging for gensim - optional\n",
    "import logging\n",
    "logging.basicConfig(format='%(asctime)s : %(levelname)s : %(message)s', level=logging.ERROR)\n",
    "\n",
    "import warnings\n",
    "warnings.filterwarnings(\"ignore\",category=DeprecationWarning)"
   ]
  },
  {
   "cell_type": "code",
   "execution_count": 12,
   "metadata": {},
   "outputs": [],
   "source": [
    "# NLTK Stop words\n",
    "from nltk.corpus import stopwords\n",
    "stop_words = stopwords.words('english')\n",
    "stop_words.extend(['from', 'subject', 're', 'edu', 'use'])"
   ]
  },
  {
   "cell_type": "code",
   "execution_count": 16,
   "metadata": {},
   "outputs": [
    {
     "name": "stdout",
     "output_type": "stream",
     "text": [
      "['Comcast Cable Internet Speeds',\n",
      " 'Payment disappear - service got disconnected',\n",
      " 'Speed and Service',\n",
      " 'Comcast Imposed a New Usage Cap of 300GB that punishes streaming.',\n",
      " 'Comcast not working and no service to boot']\n"
     ]
    }
   ],
   "source": [
    "import re\n",
    "data=documents['Customer Complaint'].values.tolist()\n",
    "# Remove new line characters\n",
    "data = [re.sub('\\s+', ' ', sent) for sent in data]\n",
    "\n",
    "# Remove distracting single quotes\n",
    "data = [re.sub(\"\\'\", \"\", sent) for sent in data]\n",
    "\n",
    "pprint(data[:5])"
   ]
  },
  {
   "cell_type": "code",
   "execution_count": 17,
   "metadata": {},
   "outputs": [
    {
     "name": "stdout",
     "output_type": "stream",
     "text": [
      "[['comcast', 'cable', 'internet', 'speeds'], ['payment', 'disappear', 'service', 'got', 'disconnected'], ['speed', 'and', 'service'], ['comcast', 'imposed', 'new', 'usage', 'cap', 'of', 'gb', 'that', 'punishes', 'streaming'], ['comcast', 'not', 'working', 'and', 'no', 'service', 'to', 'boot']]\n"
     ]
    }
   ],
   "source": [
    "def sent_to_words(sentences):\n",
    "    for sentence in sentences:\n",
    "        yield(gensim.utils.simple_preprocess(str(sentence), deacc=True))  # deacc=True removes punctuations\n",
    "\n",
    "data_words = list(sent_to_words(data))\n",
    "\n",
    "print(data_words[:5])"
   ]
  },
  {
   "cell_type": "code",
   "execution_count": 18,
   "metadata": {},
   "outputs": [
    {
     "name": "stdout",
     "output_type": "stream",
     "text": [
      "['comcast', 'cable', 'internet', 'speeds']\n"
     ]
    }
   ],
   "source": [
    "# Build the bigram and trigram models\n",
    "bigram = gensim.models.Phrases(data_words, min_count=5, threshold=100) # higher threshold fewer phrases.\n",
    "trigram = gensim.models.Phrases(bigram[data_words], threshold=100)  \n",
    "\n",
    "# Faster way to get a sentence clubbed as a trigram/bigram\n",
    "bigram_mod = gensim.models.phrases.Phraser(bigram)\n",
    "trigram_mod = gensim.models.phrases.Phraser(trigram)\n",
    "\n",
    "# See trigram example\n",
    "print(trigram_mod[bigram_mod[data_words[0]]])"
   ]
  },
  {
   "cell_type": "code",
   "execution_count": 52,
   "metadata": {},
   "outputs": [],
   "source": [
    "# Define functions for stopwords, bigrams, trigrams and lemmatization\n",
    "def remove_stopwords(texts):\n",
    "    return [[word for word in simple_preprocess(str(doc)) if word not in stop_words] for doc in texts]\n",
    "\n",
    "def make_bigrams(texts):\n",
    "    return [bigram_mod[doc] for doc in texts]\n",
    "\n",
    "def make_trigrams(texts):\n",
    "    return [trigram_mod[bigram_mod[doc]] for doc in texts]\n",
    "\n",
    "def lemmatization(text):\n",
    "    texts_out=\" \".join(lemma.lemmatize(word) for word in text)\n",
    "    return texts_out"
   ]
  },
  {
   "cell_type": "code",
   "execution_count": 56,
   "metadata": {},
   "outputs": [
    {
     "name": "stdout",
     "output_type": "stream",
     "text": [
      "[['comcast', 'cable', 'internet', 'speed'], ['payment', 'disappear', 'service', 'got', 'disconnected'], ['speed', 'service'], ['comcast', 'imposed', 'new', 'usage', 'cap', 'gb', 'punishes', 'streaming'], ['comcast', 'working', 'service', 'boot']]\n"
     ]
    }
   ],
   "source": [
    "# Remove Stop Words\n",
    "data_words_nostops = remove_stopwords(data_words)\n",
    "\n",
    "# Form Bigrams\n",
    "data_words_bigrams = make_bigrams(data_words_nostops)\n",
    "#create WordNetLemmatizer\n",
    "lemma=WordNetLemmatizer()\n",
    "# Do lemmatization keeping only noun, adj, vb, adv\n",
    "data_lemmatized = [lemmatization(text).split() for text in data_words_bigrams]\n",
    "print(data_lemmatized[:5])"
   ]
  },
  {
   "cell_type": "code",
   "execution_count": 58,
   "metadata": {},
   "outputs": [
    {
     "name": "stdout",
     "output_type": "stream",
     "text": [
      "[[(0, 1), (1, 1), (2, 1), (3, 1)], [(4, 1), (5, 1), (6, 1), (7, 1), (8, 1)], [(3, 1), (8, 1)], [(1, 1), (9, 1), (10, 1), (11, 1), (12, 1), (13, 1), (14, 1), (15, 1)], [(1, 1), (8, 1), (16, 1), (17, 1)], [(18, 1), (19, 1), (20, 1), (21, 1), (22, 1), (23, 1), (24, 1)], [(8, 1), (9, 1), (20, 1), (25, 1), (26, 1)], [(1, 1), (8, 1), (27, 1), (28, 1), (29, 1), (30, 1)], [(1, 1), (31, 1), (32, 1)], [(1, 1), (33, 1), (34, 1), (35, 1), (36, 1)]]\n"
     ]
    }
   ],
   "source": [
    "# Create Dictionary\n",
    "id2word = corpora.Dictionary(data_lemmatized)\n",
    "\n",
    "# Create Corpus\n",
    "texts = data_lemmatized\n",
    "\n",
    "# Term Document Frequency\n",
    "corpus = [id2word.doc2bow(text) for text in texts]\n",
    "\n",
    "# View\n",
    "print(corpus[:10])"
   ]
  },
  {
   "cell_type": "code",
   "execution_count": 59,
   "metadata": {},
   "outputs": [
    {
     "data": {
      "text/plain": [
       "'cable'"
      ]
     },
     "execution_count": 59,
     "metadata": {},
     "output_type": "execute_result"
    }
   ],
   "source": [
    "id2word[0]"
   ]
  },
  {
   "cell_type": "code",
   "execution_count": 60,
   "metadata": {},
   "outputs": [
    {
     "data": {
      "text/plain": [
       "[[('cable', 1), ('comcast', 1), ('internet', 1), ('speed', 1)]]"
      ]
     },
     "execution_count": 60,
     "metadata": {},
     "output_type": "execute_result"
    }
   ],
   "source": [
    "# Human readable format of corpus (term-frequency)\n",
    "[[(id2word[id], freq) for id, freq in cp] for cp in corpus[:1]]"
   ]
  },
  {
   "cell_type": "code",
   "execution_count": 62,
   "metadata": {},
   "outputs": [],
   "source": [
    "lda_model = gensim.models.ldamodel.LdaModel(corpus=corpus,\n",
    "                                           id2word=id2word,\n",
    "                                           num_topics=10, \n",
    "                                           update_every=1,\n",
    "                                           chunksize=100,\n",
    "                                           passes=10,\n",
    "                                           alpha='auto',\n",
    "                                           per_word_topics=True)"
   ]
  },
  {
   "cell_type": "code",
   "execution_count": 63,
   "metadata": {},
   "outputs": [
    {
     "name": "stdout",
     "output_type": "stream",
     "text": [
      "[(0,\n",
      "  '0.401*\"service\" + 0.082*\"customer\" + 0.032*\"poor\" + 0.024*\"monthly\" + '\n",
      "  '0.021*\"without\" + 0.020*\"quality\" + 0.016*\"account\" + 0.015*\"terrible\" + '\n",
      "  '0.015*\"day\" + 0.014*\"miss\"'),\n",
      " (1,\n",
      "  '0.437*\"internet\" + 0.153*\"speed\" + 0.055*\"charge\" + 0.033*\"slow\" + '\n",
      "  '0.028*\"high\" + 0.020*\"connection\" + 0.017*\"intermittent\" + 0.015*\"mi\" + '\n",
      "  '0.014*\"inconsistent\" + 0.012*\"ypsilanti\"'),\n",
      " (2,\n",
      "  '0.074*\"monopoly\" + 0.050*\"hbo_go\" + 0.043*\"playstation\" + 0.040*\"p\" + '\n",
      "  '0.026*\"hbogo\" + 0.023*\"package\" + 0.020*\"knowing\" + 0.020*\"device\" + '\n",
      "  '0.020*\"abuse\" + 0.012*\"maryland\"'),\n",
      " (3,\n",
      "  '0.142*\"bill\" + 0.098*\"throttling\" + 0.063*\"equipment\" + 0.047*\"modem\" + '\n",
      "  '0.046*\"phone\" + 0.038*\"business\" + 0.035*\"returned\" + 0.033*\"access\" + '\n",
      "  '0.022*\"incorrect\" + 0.020*\"cramming\"'),\n",
      " (4,\n",
      "  '0.228*\"data\" + 0.210*\"cap\" + 0.085*\"practice\" + 0.076*\"unfair\" + '\n",
      "  '0.039*\"usage\" + 0.019*\"comcst\" + 0.019*\"xfintity\" + 0.016*\"rate\" + '\n",
      "  '0.012*\"meter\" + 0.011*\"bandwidth\"'),\n",
      " (5,\n",
      "  '0.123*\"cable\" + 0.112*\"price\" + 0.053*\"payment\" + 0.044*\"install\" + '\n",
      "  '0.041*\"check\" + 0.036*\"sent\" + 0.032*\"credit\" + 0.031*\"year\" + 0.021*\"low\" '\n",
      "  '+ 0.020*\"unreliable\"'),\n",
      " (6,\n",
      "  '0.080*\"charged\" + 0.064*\"fee\" + 0.051*\"advertising\" + 0.046*\"refund\" + '\n",
      "  '0.034*\"overage\" + 0.032*\"charging\" + 0.030*\"significant\" + 0.029*\"admit\" + '\n",
      "  '0.029*\"reimburse\" + 0.029*\"represented\"'),\n",
      " (7,\n",
      "  '0.171*\"issue\" + 0.039*\"connectivity\" + 0.034*\"deceptive\" + '\n",
      "  '0.034*\"availability\" + 0.033*\"paying\" + 0.033*\"extremely\" + 0.026*\"help\" + '\n",
      "  '0.026*\"tv\" + 0.025*\"sale\" + 0.024*\"unsatisfied\"'),\n",
      " (8,\n",
      "  '0.108*\"false\" + 0.071*\"contract\" + 0.042*\"monopolistic\" + 0.040*\"comcasts\" '\n",
      "  '+ 0.036*\"outage\" + 0.020*\"slowing\" + 0.019*\"consent\" + 0.017*\"ordered\" + '\n",
      "  '0.017*\"much\" + 0.015*\"refuse\"'),\n",
      " (9,\n",
      "  '0.502*\"comcast\" + 0.121*\"billing\" + 0.043*\"complaint\" + 0.039*\"xfinity\" + '\n",
      "  '0.024*\"pricing\" + 0.017*\"problem\" + 0.014*\"switch\" + 0.013*\"bait\" + '\n",
      "  '0.011*\"promised\" + 0.009*\"cost\"')]\n"
     ]
    }
   ],
   "source": [
    "# Print the Keyword in the 10 topics\n",
    "pprint(lda_model.print_topics())\n",
    "doc_lda = lda_model[corpus]"
   ]
  },
  {
   "cell_type": "markdown",
   "metadata": {},
   "source": [
    "How to interpret this?\n",
    "<br/>\n",
    "Topic 0 is a represented as  '0.401*\"service\" + 0.082*\"customer\" + 0.032*\"poor\" + 0.024*\"monthly\" +0.021*\"without\" + 0.020*\"quality\" + 0.016*\"account\" + 0.015*\"terrible\" + 0.015*\"day\" + 0.014*\"miss\"')\n",
    "<br/>\n",
    "It means the top 10 keywords that contribute to this topic are: ‘service’, ‘customer’, ‘poor’.. and so on and the weight of ‘service’ on topic 0 is 0.41."
   ]
  },
  {
   "cell_type": "markdown",
   "metadata": {},
   "source": [
    "<b>Compute Model Perplexity and Coherence Score"
   ]
  },
  {
   "cell_type": "code",
   "execution_count": 64,
   "metadata": {},
   "outputs": [
    {
     "name": "stdout",
     "output_type": "stream",
     "text": [
      "\n",
      "Perplexity:  -6.014347236539631\n",
      "\n",
      "Coherence Score:  0.5956007053624923\n"
     ]
    }
   ],
   "source": [
    "# Compute Perplexity\n",
    "print('\\nPerplexity: ', lda_model.log_perplexity(corpus))  # a measure of how good the model is. lower the better.\n",
    "\n",
    "# Compute Coherence Score\n",
    "coherence_model_lda = CoherenceModel(model=lda_model, texts=data_lemmatized, dictionary=id2word, coherence='c_v')\n",
    "coherence_lda = coherence_model_lda.get_coherence()\n",
    "print('\\nCoherence Score: ', coherence_lda)"
   ]
  },
  {
   "cell_type": "code",
   "execution_count": 65,
   "metadata": {},
   "outputs": [
    {
     "name": "stderr",
     "output_type": "stream",
     "text": [
      "C:\\ProgramData\\Anaconda3\\lib\\site-packages\\pyLDAvis\\_prepare.py:257: FutureWarning: Sorting because non-concatenation axis is not aligned. A future version\n",
      "of pandas will change to not sort by default.\n",
      "\n",
      "To accept the future behavior, pass 'sort=False'.\n",
      "\n",
      "To retain the current behavior and silence the warning, pass 'sort=True'.\n",
      "\n",
      "  return pd.concat([default_term_info] + list(topic_dfs))\n"
     ]
    },
    {
     "data": {
      "text/html": [
       "\n",
       "<link rel=\"stylesheet\" type=\"text/css\" href=\"https://cdn.rawgit.com/bmabey/pyLDAvis/files/ldavis.v1.0.0.css\">\n",
       "\n",
       "\n",
       "<div id=\"ldavis_el300817637787067927803601528\"></div>\n",
       "<script type=\"text/javascript\">\n",
       "\n",
       "var ldavis_el300817637787067927803601528_data = {\"mdsDat\": {\"x\": [0.41362174909312877, 0.011871860384151944, 0.08826453353824894, -0.022264792818595818, -0.07388430485213482, -0.07710209338790484, -0.08028197935964296, -0.08287546669705616, -0.0892699817740941, -0.08807952412610048], \"y\": [0.13706849607102356, -0.01349114822769519, -0.3985894842993839, 0.019691878448603362, 0.04174069907351418, 0.04258009130305369, 0.04378372704785779, 0.04311656690629741, 0.043541053004925424, 0.0405581206718032], \"topics\": [1, 2, 3, 4, 5, 6, 7, 8, 9, 10], \"cluster\": [1, 1, 1, 1, 1, 1, 1, 1, 1, 1], \"Freq\": [30.680734634399414, 15.689494132995605, 15.311174392700195, 9.828167915344238, 7.871963024139404, 5.844694137573242, 4.884056091308594, 4.455796718597412, 4.138963222503662, 1.294962763786316]}, \"tinfo\": {\"Category\": [\"Default\", \"Default\", \"Default\", \"Default\", \"Default\", \"Default\", \"Default\", \"Default\", \"Default\", \"Default\", \"Default\", \"Default\", \"Default\", \"Default\", \"Default\", \"Default\", \"Default\", \"Default\", \"Default\", \"Default\", \"Default\", \"Default\", \"Default\", \"Default\", \"Default\", \"Default\", \"Default\", \"Default\", \"Default\", \"Default\", \"Topic1\", \"Topic1\", \"Topic1\", \"Topic1\", \"Topic1\", \"Topic1\", \"Topic1\", \"Topic1\", \"Topic1\", \"Topic1\", \"Topic1\", \"Topic1\", \"Topic1\", \"Topic1\", \"Topic1\", \"Topic1\", \"Topic1\", \"Topic1\", \"Topic1\", \"Topic1\", \"Topic1\", \"Topic1\", \"Topic1\", \"Topic1\", \"Topic1\", \"Topic1\", \"Topic1\", \"Topic1\", \"Topic1\", \"Topic1\", \"Topic2\", \"Topic2\", \"Topic2\", \"Topic2\", \"Topic2\", \"Topic2\", \"Topic2\", \"Topic2\", \"Topic2\", \"Topic2\", \"Topic2\", \"Topic2\", \"Topic2\", \"Topic2\", \"Topic2\", \"Topic2\", \"Topic2\", \"Topic2\", \"Topic2\", \"Topic2\", \"Topic2\", \"Topic2\", \"Topic2\", \"Topic2\", \"Topic2\", \"Topic2\", \"Topic2\", \"Topic2\", \"Topic2\", \"Topic2\", \"Topic3\", \"Topic3\", \"Topic3\", \"Topic3\", \"Topic3\", \"Topic3\", \"Topic3\", \"Topic3\", \"Topic3\", \"Topic3\", \"Topic3\", \"Topic3\", \"Topic3\", \"Topic3\", \"Topic3\", \"Topic3\", \"Topic3\", \"Topic3\", \"Topic3\", \"Topic3\", \"Topic3\", \"Topic3\", \"Topic3\", \"Topic3\", \"Topic3\", \"Topic3\", \"Topic3\", \"Topic3\", \"Topic3\", \"Topic3\", \"Topic4\", \"Topic4\", \"Topic4\", \"Topic4\", \"Topic4\", \"Topic4\", \"Topic4\", \"Topic4\", \"Topic4\", \"Topic4\", \"Topic4\", \"Topic4\", \"Topic4\", \"Topic4\", \"Topic4\", \"Topic4\", \"Topic4\", \"Topic4\", \"Topic4\", \"Topic4\", \"Topic4\", \"Topic4\", \"Topic4\", \"Topic4\", \"Topic4\", \"Topic4\", \"Topic4\", \"Topic4\", \"Topic4\", \"Topic4\", \"Topic5\", \"Topic5\", \"Topic5\", \"Topic5\", \"Topic5\", \"Topic5\", \"Topic5\", \"Topic5\", \"Topic5\", \"Topic5\", \"Topic5\", \"Topic5\", \"Topic5\", \"Topic5\", \"Topic5\", \"Topic5\", \"Topic5\", \"Topic5\", \"Topic5\", \"Topic5\", \"Topic5\", \"Topic5\", \"Topic5\", \"Topic5\", \"Topic5\", \"Topic5\", \"Topic5\", \"Topic5\", \"Topic5\", \"Topic5\", \"Topic6\", \"Topic6\", \"Topic6\", \"Topic6\", \"Topic6\", \"Topic6\", \"Topic6\", \"Topic6\", \"Topic6\", \"Topic6\", \"Topic6\", \"Topic6\", \"Topic6\", \"Topic6\", \"Topic6\", \"Topic6\", \"Topic6\", \"Topic6\", \"Topic6\", \"Topic6\", \"Topic6\", \"Topic6\", \"Topic6\", \"Topic6\", \"Topic6\", \"Topic6\", \"Topic6\", \"Topic6\", \"Topic6\", \"Topic6\", \"Topic7\", \"Topic7\", \"Topic7\", \"Topic7\", \"Topic7\", \"Topic7\", \"Topic7\", \"Topic7\", \"Topic7\", \"Topic7\", \"Topic7\", \"Topic7\", \"Topic7\", \"Topic7\", \"Topic7\", \"Topic7\", \"Topic7\", \"Topic7\", \"Topic7\", \"Topic7\", \"Topic7\", \"Topic7\", \"Topic7\", \"Topic7\", \"Topic7\", \"Topic7\", \"Topic7\", \"Topic7\", \"Topic7\", \"Topic7\", \"Topic8\", \"Topic8\", \"Topic8\", \"Topic8\", \"Topic8\", \"Topic8\", \"Topic8\", \"Topic8\", \"Topic8\", \"Topic8\", \"Topic8\", \"Topic8\", \"Topic8\", \"Topic8\", \"Topic8\", \"Topic8\", \"Topic8\", \"Topic8\", \"Topic8\", \"Topic8\", \"Topic8\", \"Topic8\", \"Topic8\", \"Topic8\", \"Topic8\", \"Topic8\", \"Topic8\", \"Topic8\", \"Topic8\", \"Topic8\", \"Topic9\", \"Topic9\", \"Topic9\", \"Topic9\", \"Topic9\", \"Topic9\", \"Topic9\", \"Topic9\", \"Topic9\", \"Topic9\", \"Topic9\", \"Topic9\", \"Topic9\", \"Topic9\", \"Topic9\", \"Topic9\", \"Topic9\", \"Topic9\", \"Topic9\", \"Topic9\", \"Topic9\", \"Topic9\", \"Topic9\", \"Topic9\", \"Topic9\", \"Topic9\", \"Topic9\", \"Topic9\", \"Topic9\", \"Topic9\", \"Topic10\", \"Topic10\", \"Topic10\", \"Topic10\", \"Topic10\", \"Topic10\", \"Topic10\", \"Topic10\", \"Topic10\", \"Topic10\", \"Topic10\", \"Topic10\", \"Topic10\", \"Topic10\", \"Topic10\", \"Topic10\", \"Topic10\", \"Topic10\", \"Topic10\", \"Topic10\", \"Topic10\", \"Topic10\", \"Topic10\", \"Topic10\", \"Topic10\", \"Topic10\", \"Topic10\", \"Topic10\", \"Topic10\", \"Topic10\"], \"Freq\": [1231.0, 535.0, 503.0, 179.0, 165.0, 187.0, 296.0, 108.0, 67.0, 103.0, 67.0, 44.0, 60.0, 46.0, 40.0, 68.0, 36.0, 105.0, 96.0, 31.0, 30.0, 24.0, 25.0, 41.0, 40.0, 31.0, 22.0, 25.0, 20.0, 22.0, 1231.048583984375, 296.08673095703125, 104.9599838256836, 95.79800415039062, 59.81525421142578, 40.78026580810547, 33.243560791015625, 32.72932052612305, 27.573699951171875, 22.387977600097656, 21.77724838256836, 21.329723358154297, 19.74403190612793, 19.19099998474121, 18.22477912902832, 18.122705459594727, 11.134557723999023, 9.524617195129395, 9.284687995910645, 8.07693099975586, 7.972443103790283, 7.913480758666992, 7.5191473960876465, 7.514130115509033, 6.813536167144775, 6.510152339935303, 6.3420729637146, 6.318442344665527, 6.068892955780029, 5.750828266143799, 502.93902587890625, 102.72633361816406, 40.52779769897461, 30.330047607421875, 26.895261764526367, 25.281246185302734, 20.488615036010742, 19.21429443359375, 18.729040145874023, 17.389766693115234, 16.711833953857422, 16.300628662109375, 14.442283630371094, 12.7479829788208, 11.565648078918457, 11.02164077758789, 11.006768226623535, 10.80881118774414, 10.687520027160645, 10.291796684265137, 8.577292442321777, 8.48293399810791, 8.44558048248291, 8.198885917663574, 8.15251636505127, 7.605748653411865, 7.3381524085998535, 6.796730041503906, 6.732428550720215, 6.29178524017334, 534.5601806640625, 186.81857299804688, 67.62266540527344, 39.8928108215332, 34.064517974853516, 24.816791534423828, 20.259845733642578, 18.828279495239258, 17.304224014282227, 14.762940406799316, 14.722480773925781, 10.165000915527344, 9.654884338378906, 9.13984489440918, 7.1714277267456055, 6.497293949127197, 5.432306289672852, 5.0219597816467285, 4.598052501678467, 4.109925746917725, 3.941056728363037, 3.8111329078674316, 3.439408540725708, 3.4390130043029785, 3.2763803005218506, 3.022784471511841, 3.01450514793396, 2.746164321899414, 2.616309404373169, 2.462742805480957, 179.07354736328125, 164.96047973632812, 66.85730743408203, 59.55780792236328, 30.540721893310547, 14.941414833068848, 14.913167953491211, 12.412545204162598, 9.692843437194824, 8.88685131072998, 8.438142776489258, 8.276171684265137, 7.850544452667236, 7.822048664093018, 7.24107027053833, 5.299100399017334, 5.182398796081543, 4.477728843688965, 4.375794410705566, 3.8541131019592285, 3.6325180530548096, 3.4769904613494873, 3.0688107013702393, 3.0387425422668457, 2.9248046875, 2.376962661743164, 2.21242618560791, 2.1518146991729736, 2.068937063217163, 2.016380786895752, 107.81941986083984, 24.64621353149414, 21.46495819091797, 21.364042282104492, 20.959930419921875, 20.53677749633789, 16.603212356567383, 16.06952476501465, 15.473502159118652, 15.021380424499512, 12.222651481628418, 12.027024269104004, 9.75448989868164, 9.736029624938965, 9.646282196044922, 8.848230361938477, 8.47719955444336, 8.053519248962402, 7.867284297943115, 7.028468608856201, 6.007987022399902, 5.984967231750488, 5.876358985900879, 5.837203502655029, 5.644747257232666, 4.694881439208984, 4.667016983032227, 4.123681545257568, 4.106858253479004, 3.990962266921997, 66.45169067382812, 45.72751998901367, 29.462425231933594, 21.85466766357422, 21.37146759033203, 17.87266731262207, 16.494359970092773, 15.636431694030762, 10.265997886657715, 9.474823951721191, 5.9505157470703125, 5.201760768890381, 4.901483535766602, 4.534767150878906, 4.532929420471191, 4.367815017700195, 3.981403350830078, 3.9597647190093994, 3.6061058044433594, 3.5541675090789795, 3.542374849319458, 3.2346043586730957, 3.187028408050537, 3.179546356201172, 2.9874346256256104, 2.887531280517578, 2.791053533554077, 2.722230911254883, 2.6158878803253174, 3.8290152549743652, 31.12002944946289, 24.91636848449707, 20.005434036254883, 18.08294677734375, 13.144791603088379, 12.403361320495605, 11.816657066345215, 11.510676383972168, 11.510676383972168, 11.490123748779297, 10.42170238494873, 9.406681060791016, 9.068644523620605, 8.942567825317383, 6.384828090667725, 5.280457019805908, 4.635293960571289, 4.53133487701416, 4.1918439865112305, 3.6923537254333496, 3.372220277786255, 3.3596608638763428, 3.29850172996521, 3.0519094467163086, 3.071796178817749, 3.0116381645202637, 2.930722236633301, 2.9035122394561768, 2.639848470687866, 2.5462141036987305, 43.69048309326172, 39.77888488769531, 18.99046516418457, 15.685133934020996, 14.692537307739258, 12.898465156555176, 11.5397310256958, 11.196269035339355, 7.481271743774414, 6.959640026092529, 6.671278476715088, 5.643675327301025, 4.935564041137695, 4.68825626373291, 4.048050403594971, 3.937871217727661, 2.7786054611206055, 2.711113691329956, 2.638352155685425, 2.621877670288086, 2.3175930976867676, 2.2502458095550537, 2.2201626300811768, 2.1725611686706543, 1.9632196426391602, 1.9309980869293213, 1.9062858819961548, 1.796932578086853, 1.753560185432434, 1.5870450735092163, 35.633995056152344, 23.468549728393555, 13.726632118225098, 13.071525573730469, 12.052279472351074, 6.724230766296387, 6.423222064971924, 5.600402355194092, 5.502555847167969, 5.045804977416992, 5.000123023986816, 3.958181142807007, 3.9548075199127197, 3.844881534576416, 3.839165687561035, 3.6759231090545654, 3.5265462398529053, 3.42626690864563, 3.4128286838531494, 2.9923949241638184, 2.923499584197998, 2.8478915691375732, 2.845425605773926, 2.8338756561279297, 2.702688217163086, 2.5285611152648926, 2.498143434524536, 2.4307377338409424, 2.439181089401245, 2.439181089401245, 7.6703057289123535, 5.145103454589844, 4.496511459350586, 4.145810127258301, 2.6756174564361572, 2.3706696033477783, 2.0994482040405273, 2.0699026584625244, 2.0236525535583496, 1.2067527770996094, 1.1950799226760864, 1.1950799226760864, 1.1950799226760864, 0.7932296395301819, 0.7932296395301819, 0.7932296395301819, 0.7932296395301819, 0.7558549642562866, 0.5758728384971619, 0.5758728384971619, 0.5488556027412415, 0.55272376537323, 0.55272376537323, 0.4509272277355194, 0.4352102279663086, 0.47346600890159607, 0.47346600890159607, 0.3240469694137573, 0.3240469694137573, 0.29823097586631775], \"Term\": [\"comcast\", \"internet\", \"service\", \"data\", \"cap\", \"speed\", \"billing\", \"issue\", \"bill\", \"customer\", \"practice\", \"cable\", \"unfair\", \"throttling\", \"price\", \"charge\", \"false\", \"complaint\", \"xfinity\", \"charged\", \"equipment\", \"contract\", \"fee\", \"poor\", \"slow\", \"usage\", \"modem\", \"connectivity\", \"advertising\", \"phone\", \"comcast\", \"billing\", \"complaint\", \"xfinity\", \"pricing\", \"problem\", \"switch\", \"bait\", \"promised\", \"cost\", \"overcharge\", \"lied\", \"fraudulent\", \"failure\", \"get\", \"advertised\", \"unauthorized\", \"bundle\", \"fraud\", \"promotion\", \"throttle\", \"claim\", \"agreement\", \"shitty\", \"overcharging\", \"refusal\", \"improper\", \"way\", \"attempt\", \"work\", \"service\", \"customer\", \"poor\", \"monthly\", \"without\", \"quality\", \"account\", \"terrible\", \"day\", \"miss\", \"email\", \"pay\", \"bad\", \"blocking\", \"lack\", \"misleading\", \"cancel\", \"appointment\", \"horrible\", \"call\", \"wont\", \"loss\", \"information\", \"disconnection\", \"increased\", \"working\", \"still\", \"option\", \"notice\", \"signal\", \"internet\", \"speed\", \"charge\", \"slow\", \"high\", \"connection\", \"intermittent\", \"mi\", \"inconsistent\", \"ypsilanti\", \"output\", \"mbps\", \"throttled\", \"installation\", \"provider\", \"request\", \"lying\", \"slower\", \"u\", \"inability\", \"product\", \"wireless\", \"since\", \"receiving\", \"download\", \"upload\", \"le\", \"consistently\", \"unwarranted\", \"overbilling\", \"data\", \"cap\", \"practice\", \"unfair\", \"usage\", \"comcst\", \"xfintity\", \"rate\", \"meter\", \"bandwidth\", \"gb\", \"broadband\", \"lie\", \"awful\", \"system\", \"dispute\", \"streaming\", \"atlanta\", \"available\", \"ecobill\", \"new\", \"extortion\", \"market\", \"raising\", \"bundling\", \"forced\", \"ga\", \"dishonest\", \"uncompetitive\", \"disconnect\", \"issue\", \"connectivity\", \"deceptive\", \"availability\", \"paying\", \"extremely\", \"help\", \"tv\", \"sale\", \"unsatisfied\", \"home\", \"mb\", \"change\", \"time\", \"back\", \"provide\", \"billed\", \"unable\", \"please\", \"non\", \"regarding\", \"support\", \"security\", \"week\", \"resolution\", \"egregious\", \"mail\", \"supervisor\", \"wifi\", \"trade\", \"bill\", \"throttling\", \"equipment\", \"modem\", \"phone\", \"business\", \"returned\", \"access\", \"incorrect\", \"cramming\", \"never\", \"said\", \"provided\", \"outrageous\", \"continues\", \"disclosure\", \"erroneous\", \"competition\", \"cancelled\", \"regular\", \"ask\", \"fix\", \"unreturned\", \"agreed\", \"trial\", \"raise\", \"continuous\", \"recieved\", \"number\", \"people\", \"charged\", \"fee\", \"advertising\", \"refund\", \"overage\", \"charging\", \"significant\", \"reimburse\", \"admit\", \"represented\", \"month\", \"plan\", \"limit\", \"show\", \"one\", \"excessive\", \"several\", \"technician\", \"sold\", \"fixing\", \"used\", \"notification\", \"area\", \"want\", \"actually\", \"increasing\", \"offered\", \"termination\", \"keep\", \"rental\", \"cable\", \"price\", \"payment\", \"install\", \"check\", \"sent\", \"credit\", \"year\", \"low\", \"unreliable\", \"increase\", \"isp\", \"consumer\", \"failing\", \"quoted\", \"repeatedly\", \"violation\", \"received\", \"higher\", \"changing\", \"card\", \"disconnected\", \"packet\", \"essential\", \"purchase\", \"manipulation\", \"performance\", \"three\", \"cancellation\", \"another\", \"false\", \"contract\", \"monopolistic\", \"comcasts\", \"outage\", \"slowing\", \"consent\", \"ordered\", \"much\", \"refuse\", \"term\", \"promise\", \"expensive\", \"person\", \"paid\", \"early\", \"rep\", \"due\", \"behavior\", \"netflix\", \"visit\", \"address\", \"deposit\", \"corporate\", \"capping\", \"sony\", \"fcc\", \"advertisement\", \"breach\", \"bullying\", \"monopoly\", \"hbo_go\", \"playstation\", \"p\", \"hbogo\", \"package\", \"knowing\", \"device\", \"abuse\", \"maryland\", \"choosing\", \"purchased\", \"bar\", \"proceeded\", \"mistake\", \"tack\", \"wouldnt\", \"console\", \"county\", \"calvert\", \"block\", \"rockville\", \"imstallation\", \"result\", \"local\", \"mediocre\", \"mean\", \"francisco\", \"san\", \"platform\"], \"Total\": [1231.0, 535.0, 503.0, 179.0, 165.0, 187.0, 296.0, 108.0, 67.0, 103.0, 67.0, 44.0, 60.0, 46.0, 40.0, 68.0, 36.0, 105.0, 96.0, 31.0, 30.0, 24.0, 25.0, 41.0, 40.0, 31.0, 22.0, 25.0, 20.0, 22.0, 1231.775390625, 296.8134460449219, 105.68669128417969, 96.52472686767578, 60.541996002197266, 41.50699996948242, 33.97031021118164, 33.456077575683594, 28.300704956054688, 23.114877700805664, 22.504344940185547, 22.056549072265625, 20.470745086669922, 19.91776466369629, 18.9515380859375, 18.849430084228516, 11.861296653747559, 10.251302719116211, 10.011364936828613, 8.803752899169922, 8.699150085449219, 8.640254020690918, 8.2459077835083, 8.242077827453613, 7.540322303771973, 7.236867904663086, 7.068785190582275, 7.045248031616211, 6.796036243438721, 6.477883338928223, 503.67156982421875, 103.4588851928711, 41.260318756103516, 31.062740325927734, 27.62787628173828, 26.013803482055664, 21.221162796020508, 19.946826934814453, 19.461626052856445, 18.123554229736328, 17.444374084472656, 17.033199310302734, 15.17481803894043, 13.480609893798828, 12.29819107055664, 11.754315376281738, 11.739286422729492, 11.541481971740723, 11.420022964477539, 11.0243558883667, 9.30994987487793, 9.215484619140625, 9.178304672241211, 8.931458473205566, 8.88512134552002, 8.33830738067627, 8.070706367492676, 7.52960205078125, 7.464999675750732, 7.024623870849609, 535.3007202148438, 187.55906677246094, 68.36321258544922, 40.63331604003906, 34.805076599121094, 25.55730628967285, 21.000385284423828, 19.569189071655273, 18.044818878173828, 15.506938934326172, 15.472887992858887, 10.905509948730469, 10.39537239074707, 9.880407333374023, 7.911944389343262, 7.2379302978515625, 6.172994613647461, 5.762476444244385, 5.3388166427612305, 4.850494861602783, 4.681633949279785, 4.55167293548584, 4.179952621459961, 4.179508686065674, 4.016935348510742, 3.7643332481384277, 3.7576744556427, 3.486884593963623, 3.357649326324463, 3.2035675048828125, 179.81312561035156, 165.70005798339844, 67.59693908691406, 60.297420501708984, 31.28030776977539, 15.683238983154297, 15.6586275100708, 13.152226448059082, 10.432428359985352, 9.626502990722656, 9.177774429321289, 9.015815734863281, 8.590152740478516, 8.56169605255127, 7.980785846710205, 6.038980484008789, 5.922407150268555, 5.217339038848877, 5.116360187530518, 4.594780445098877, 4.372132301330566, 4.216926574707031, 3.808607578277588, 3.778449058532715, 3.66442608833313, 3.1166157722473145, 2.952014684677124, 2.891507387161255, 2.8088009357452393, 2.7560219764709473, 108.55829620361328, 25.38518714904785, 22.203866958618164, 22.10297393798828, 21.69883918762207, 21.2757511138916, 17.342105865478516, 16.80842399597168, 16.212472915649414, 15.767911911010742, 12.961544036865234, 12.767797470092773, 10.493457794189453, 10.474919319152832, 10.385493278503418, 9.58713150024414, 9.21617603302002, 8.792387962341309, 8.606249809265137, 7.76743221282959, 6.746876239776611, 6.72389554977417, 6.6152873039245605, 6.576059341430664, 6.383631229400635, 5.436626434326172, 5.405954837799072, 4.862551689147949, 4.845731735229492, 4.729940414428711, 67.1985855102539, 46.47439956665039, 30.209365844726562, 22.601551055908203, 22.118337631225586, 18.619531631469727, 17.24129295349121, 16.383338928222656, 11.01285457611084, 10.221961975097656, 6.6973700523376465, 5.948735237121582, 5.648381233215332, 5.2817888259887695, 5.279984474182129, 5.114956378936768, 4.728512763977051, 4.706663608551025, 4.353052616119385, 4.302363395690918, 4.28932523727417, 3.981625556945801, 3.9339897632598877, 3.9263927936553955, 3.7345058917999268, 3.63505482673645, 3.5381698608398438, 3.4694223403930664, 3.36362886428833, 4.955105781555176, 31.88051986694336, 25.676851272583008, 20.76601791381836, 18.84344482421875, 13.905264854431152, 13.163832664489746, 12.577383041381836, 12.273575782775879, 12.273575782775879, 12.255265235900879, 11.182188034057617, 10.167192459106445, 9.829122543334961, 9.70325756072998, 7.145323753356934, 6.040957450866699, 5.395980358123779, 5.292097091674805, 4.952697277069092, 4.453111171722412, 4.13275146484375, 4.120144844055176, 4.059056282043457, 3.8125195503234863, 3.8381669521331787, 3.7723746299743652, 3.691415786743164, 3.664032459259033, 3.4003195762634277, 3.3066651821136475, 44.444297790527344, 40.532684326171875, 19.744258880615234, 16.439062118530273, 15.446394920349121, 13.652533531188965, 12.293548583984375, 11.950109481811523, 8.235102653503418, 7.713452339172363, 7.425065517425537, 6.397583961486816, 5.689426422119141, 5.442129611968994, 4.802066326141357, 4.693127632141113, 3.5325140953063965, 3.4649527072906494, 3.392207145690918, 3.375959873199463, 3.07450795173645, 3.0040812492370605, 2.9739651679992676, 2.9263906478881836, 2.7172632217407227, 2.6847784519195557, 2.660087823867798, 2.550795793533325, 2.507338047027588, 2.340862512588501, 36.38037872314453, 24.214914321899414, 14.473003387451172, 13.817879676818848, 12.798600196838379, 7.470617294311523, 7.169679641723633, 6.346948146820068, 6.248984336853027, 5.792123794555664, 5.746490955352783, 4.704523086547852, 4.701145648956299, 4.591967582702637, 4.585543155670166, 4.422544479370117, 4.27309513092041, 4.172641277313232, 4.159317970275879, 3.7389333248138428, 3.6699395179748535, 3.5942347049713135, 3.5917582511901855, 3.581362724304199, 3.44928240776062, 3.2749602794647217, 3.2445180416107178, 3.177074432373047, 3.2014384269714355, 3.2014384269714355, 8.4546537399292, 5.929445743560791, 5.280855178833008, 4.930154800415039, 3.459956645965576, 3.155026912689209, 2.884960174560547, 2.854243040084839, 2.8126323223114014, 1.9911720752716064, 1.9868988990783691, 1.9868988990783691, 1.9868988990783691, 1.5926361083984375, 1.5926361083984375, 1.5926361083984375, 1.5926361083984375, 1.5403753519058228, 1.3628191947937012, 1.3628191947937012, 1.333208680152893, 1.3454951047897339, 1.3454951047897339, 1.2353743314743042, 1.2196717262268066, 1.520194172859192, 1.520194172859192, 1.113328218460083, 1.113328218460083, 1.1288689374923706], \"loglift\": [30.0, 29.0, 28.0, 27.0, 26.0, 25.0, 24.0, 23.0, 22.0, 21.0, 20.0, 19.0, 18.0, 17.0, 16.0, 15.0, 14.0, 13.0, 12.0, 11.0, 10.0, 9.0, 8.0, 7.0, 6.0, 5.0, 4.0, 3.0, 2.0, 1.0, 1.180899977684021, 1.1791000366210938, 1.1746000051498413, 1.1740000247955322, 1.1694999933242798, 1.1639000177383423, 1.1598999500274658, 1.159600019454956, 1.155500054359436, 1.1496000289916992, 1.1486999988555908, 1.1480000019073486, 1.145400047302246, 1.1444000005722046, 1.1424000263214111, 1.142199993133545, 1.118299961090088, 1.1080000400543213, 1.1061999797821045, 1.0953999757766724, 1.0943000316619873, 1.0937000513076782, 1.0893000364303589, 1.0891000032424927, 1.080199956893921, 1.075700044631958, 1.073099970817566, 1.072700023651123, 1.0684000253677368, 1.0625, 1.8507000207901, 1.8451000452041626, 1.8343000411987305, 1.8282999992370605, 1.8252999782562256, 1.8236000537872314, 1.8170000314712524, 1.8148000240325928, 1.8137999773025513, 1.8107999563217163, 1.8092999458312988, 1.8082000017166138, 1.8027000427246094, 1.7963000535964966, 1.7907999753952026, 1.7877999544143677, 1.7877000570297241, 1.7865999937057495, 1.7858999967575073, 1.783400058746338, 1.7702000141143799, 1.7694000005722046, 1.7690000534057617, 1.7666000127792358, 1.7661000490188599, 1.760200023651123, 1.7569999694824219, 1.7497999668121338, 1.748900055885315, 1.7419999837875366, 1.8752000331878662, 1.8725999593734741, 1.8657000064849854, 1.858199954032898, 1.8551000356674194, 1.8472000360488892, 1.8407000303268433, 1.8380000591278076, 1.8346999883651733, 1.8273999691009521, 1.8269000053405762, 1.8063000440597534, 1.8027000427246094, 1.798699975013733, 1.7783000469207764, 1.7685999870300293, 1.7488000392913818, 1.7389999628067017, 1.7272000312805176, 1.7108999490737915, 1.7043999433517456, 1.6990000009536743, 1.6815999746322632, 1.6815999746322632, 1.6727999448776245, 1.6571999788284302, 1.6562000513076782, 1.6377999782562256, 1.6270999908447266, 1.6136000156402588, 2.3157999515533447, 2.3153998851776123, 2.3089001178741455, 2.3076000213623047, 2.2960000038146973, 2.2715001106262207, 2.2711000442504883, 2.26200008392334, 2.2464001178741455, 2.240000009536743, 2.2358999252319336, 2.234299898147583, 2.2298998832702637, 2.229599952697754, 2.222599983215332, 2.189199924468994, 2.1863999366760254, 2.1670000553131104, 2.163599967956543, 2.1440999507904053, 2.1345999240875244, 2.127000093460083, 2.1038999557495117, 2.1019999980926514, 2.0945000648498535, 2.0490000247955322, 2.0315001010894775, 2.0244998931884766, 2.01419997215271, 2.0074000358581543, 2.5350000858306885, 2.5123000144958496, 2.507999897003174, 2.5078999996185303, 2.507200002670288, 2.506500005722046, 2.498300075531006, 2.4969000816345215, 2.4951999187469482, 2.4934000968933105, 2.4832000732421875, 2.482100009918213, 2.4688000679016113, 2.4686999320983887, 2.4679999351501465, 2.461699962615967, 2.4583001136779785, 2.4540998935699463, 2.4521000385284424, 2.4419000148773193, 2.4258999824523926, 2.4254000186920166, 2.4233999252319336, 2.4226999282836914, 2.4189000129699707, 2.39520001411438, 2.39490008354187, 2.377000093460083, 2.3763999938964844, 2.371999979019165, 2.8285000324249268, 2.8234000205993652, 2.8145999908447266, 2.805999994277954, 2.805299997329712, 2.7987000942230225, 2.795300006866455, 2.7929999828338623, 2.769399881362915, 2.763700008392334, 2.721400022506714, 2.7054998874664307, 2.6977999210357666, 2.6870999336242676, 2.6870999336242676, 2.6816999912261963, 2.6677000522613525, 2.666800022125244, 2.651400089263916, 2.6486001014709473, 2.6482999324798584, 2.6319000720977783, 2.6291000843048096, 2.628700017929077, 2.6164000034332275, 2.6094000339508057, 2.602400064468384, 2.597100019454956, 2.588200092315674, 2.5817999839782715, 2.9951000213623047, 2.9890999794006348, 2.9818999767303467, 2.9779999256134033, 2.9630000591278076, 2.959700107574463, 2.9567999839782715, 2.9549999237060547, 2.9549999237060547, 2.954699993133545, 2.9488000869750977, 2.9414000511169434, 2.938699960708618, 2.9375998973846436, 2.9066998958587646, 2.8845999240875244, 2.8671998977661133, 2.864000082015991, 2.852400064468384, 2.831899881362915, 2.8157999515533447, 2.8150999546051025, 2.8117001056671143, 2.7967000007629395, 2.7964999675750732, 2.7939999103546143, 2.7883999347686768, 2.786600112915039, 2.7660000324249268, 2.7578999996185303, 3.093899965286255, 3.0922000408172607, 3.072000026702881, 3.063999891281128, 3.0608999729156494, 3.0541000366210938, 3.0476999282836914, 3.045799970626831, 3.015000104904175, 3.0081000328063965, 3.0039000511169434, 2.985599994659424, 2.9688000679016113, 2.961899995803833, 2.940200090408325, 2.935499906539917, 2.8708999156951904, 2.865600109100342, 2.859600067138672, 2.8582000732421875, 2.8282999992370605, 2.822000026702881, 2.8185999393463135, 2.8131000995635986, 2.785900115966797, 2.781399965286255, 2.7778000831604004, 2.7606000900268555, 2.7534000873565674, 2.7223000526428223, 3.1640000343322754, 3.15339994430542, 3.1317999362945557, 3.129199981689453, 3.1245999336242676, 3.0794999599456787, 3.0748000144958496, 3.0596001148223877, 3.057499885559082, 3.046799898147583, 3.045599937438965, 3.01200008392334, 3.011899948120117, 3.007200002670288, 3.0071001052856445, 2.999799966812134, 2.9927000999450684, 2.987600088119507, 2.9869000911712646, 2.9619998931884766, 2.9572999477386475, 2.9519999027252197, 2.9518001079559326, 2.9505999088287354, 2.9407999515533447, 2.926100015640259, 2.92330002784729, 2.9170000553131104, 2.9128000736236572, 2.9128000736236572, 4.249300003051758, 4.204800128936768, 4.1859002113342285, 4.173399925231934, 4.089600086212158, 4.0609002113342285, 4.028900146484375, 4.025400161743164, 4.017499923706055, 3.845900058746338, 3.8382999897003174, 3.8382999897003174, 3.8382999897003174, 3.6496999263763428, 3.6496999263763428, 3.6496999263763428, 3.6496999263763428, 3.6347999572753906, 3.485300064086914, 3.485300064086914, 3.459199905395508, 3.4570000171661377, 3.4570000171661377, 3.338900089263916, 3.316200017929077, 3.1802000999450684, 3.1802000999450684, 3.112499952316284, 3.112499952316284, 3.0155999660491943], \"logprob\": [30.0, 29.0, 28.0, 27.0, 26.0, 25.0, 24.0, 23.0, 22.0, 21.0, 20.0, 19.0, 18.0, 17.0, 16.0, 15.0, 14.0, 13.0, 12.0, 11.0, 10.0, 9.0, 8.0, 7.0, 6.0, 5.0, 4.0, 3.0, 2.0, 1.0, -0.6888999938964844, -2.1138999462127686, -3.1510000228881836, -3.242300033569336, -3.7132999897003174, -4.09630012512207, -4.3007001876831055, -4.316299915313721, -4.48769998550415, -4.696000099182129, -4.723700046539307, -4.7444000244140625, -4.821700096130371, -4.850100040435791, -4.901800155639648, -4.907400131225586, -5.394499778747559, -5.5507001876831055, -5.576200008392334, -5.7154998779296875, -5.728499889373779, -5.736000061035156, -5.787099838256836, -5.787799835205078, -5.8856000900268555, -5.93120002746582, -5.957300186157227, -5.961100101470947, -6.001399993896484, -6.055200099945068, -0.9133999943733215, -2.501800060272217, -3.4319000244140625, -3.7218000888824463, -3.841900110244751, -3.9038000106811523, -4.113999843597412, -4.178199768066406, -4.203800201416016, -4.2779998779296875, -4.317800045013428, -4.342700004577637, -4.463699817657471, -4.588500022888184, -4.6859002113342285, -4.734000205993652, -4.735400199890137, -4.753499984741211, -4.764800071716309, -4.802499771118164, -4.984799861907959, -4.995800018310547, -5.00029993057251, -5.029900074005127, -5.035600185394287, -5.105000019073486, -5.1407999992370605, -5.21750020980835, -5.2270002365112305, -5.294600009918213, -0.828000009059906, -1.8792999982833862, -2.8954999446868896, -3.42330002784729, -3.581199884414673, -3.8980000019073486, -4.100800037384033, -4.174099922180176, -4.258500099182129, -4.417399883270264, -4.420100212097168, -4.790500164031982, -4.8420000076293945, -4.8968000411987305, -5.139400005340576, -5.238100051879883, -5.417099952697754, -5.495699882507324, -5.583899974822998, -5.696100234985352, -5.73799991607666, -5.771599769592285, -5.874199867248535, -5.874300003051758, -5.922699928283691, -6.003300189971924, -6.006100177764893, -6.099299907684326, -6.14769983291626, -6.208199977874756, -1.4783999919891357, -1.5604000091552734, -2.463599920272827, -2.579200029373169, -3.2471001148223877, -3.9619998931884766, -3.963900089263916, -4.14739990234375, -4.394800186157227, -4.481599807739258, -4.533400058746338, -4.552800178527832, -4.605599880218506, -4.6092000007629395, -4.686399936676025, -4.998600006103516, -5.020899772644043, -5.166999816894531, -5.190100193023682, -5.316999912261963, -5.376200199127197, -5.420000076293945, -5.544899940490723, -5.554699897766113, -5.592899799346924, -5.800300121307373, -5.872099876403809, -5.899799823760986, -5.9390997886657715, -5.964900016784668, -1.763800024986267, -3.2395999431610107, -3.3777999877929688, -3.382499933242798, -3.401599884033203, -3.421999931335449, -3.6345999240875244, -3.66729998588562, -3.7051000595092773, -3.7346999645233154, -3.9409000873565674, -3.9570999145507812, -4.166500091552734, -4.168399810791016, -4.177599906921387, -4.263999938964844, -4.30679988861084, -4.358099937438965, -4.381499767303467, -4.494200229644775, -4.651100158691406, -4.65500020980835, -4.673299789428711, -4.679999828338623, -4.713500022888184, -4.89769983291626, -4.90369987487793, -5.027500152587891, -5.031599998474121, -5.060200214385986, -1.9500000476837158, -2.323699951171875, -2.7632999420166016, -3.062000036239624, -3.084399938583374, -3.263200044631958, -3.343400001525879, -3.3968000411987305, -3.8176000118255615, -3.8977999687194824, -4.36299991607666, -4.497399806976318, -4.5569000244140625, -4.634699821472168, -4.6350998878479, -4.6722002029418945, -4.764800071716309, -4.770299911499023, -4.863800048828125, -4.878300189971924, -4.8815999031066895, -4.972499847412109, -4.987299919128418, -4.989699840545654, -5.052000045776367, -5.085999965667725, -5.119999885559082, -5.144999980926514, -5.184800148010254, -4.803800106048584, -2.5290000438690186, -2.7513999938964844, -2.970900058746338, -3.071899890899658, -3.390899896621704, -3.448899984359741, -3.4974000453948975, -3.5236001014709473, -3.5236001014709473, -3.525399923324585, -3.622999906539917, -3.7255001068115234, -3.7620999813079834, -3.776099920272827, -4.11299991607666, -4.3028998374938965, -4.433199882507324, -4.455900192260742, -4.533699989318848, -4.660600185394287, -4.751299858093262, -4.755000114440918, -4.773399829864502, -4.851099967956543, -4.844600200653076, -4.8643999099731445, -4.891600131988525, -4.901000022888184, -4.996200084686279, -5.032299995422363, -2.0980000495910645, -2.191800117492676, -2.9312000274658203, -3.1224000453948975, -3.1877999305725098, -3.318000078201294, -3.42930006980896, -3.4595000743865967, -3.8626999855041504, -3.934999942779541, -3.977299928665161, -4.144599914550781, -4.278600215911865, -4.329999923706055, -4.476900100708008, -4.504499912261963, -4.8531999588012695, -4.877799987792969, -4.90500020980835, -4.911200046539307, -5.034599781036377, -5.0640997886657715, -5.077499866485596, -5.0991997718811035, -5.200500011444092, -5.217100143432617, -5.230000019073486, -5.289000034332275, -5.313499927520752, -5.4131999015808105, -2.2279999256134033, -2.645699977874756, -3.181999921798706, -3.2309000492095947, -3.3120999336242676, -3.8956000804901123, -3.9414000511169434, -4.078499794006348, -4.096099853515625, -4.182799816131592, -4.19189977645874, -4.425600051879883, -4.426400184631348, -4.454599857330322, -4.456099987030029, -4.499499797821045, -4.540999889373779, -4.569900035858154, -4.573800086975098, -4.7052998542785645, -4.728600025177002, -4.754799842834473, -4.7555999755859375, -4.759699821472168, -4.80709981918335, -4.873700141906738, -4.885799884796143, -4.9131999015808105, -4.9096999168396, -4.9096999168396, -2.6019999980926514, -3.001300096511841, -3.1361000537872314, -3.2172999382019043, -3.6552000045776367, -3.77620005607605, -3.897700071334839, -3.911900043487549, -3.934499979019165, -4.451499938964844, -4.46120023727417, -4.46120023727417, -4.46120023727417, -4.870999813079834, -4.870999813079834, -4.870999813079834, -4.870999813079834, -4.919300079345703, -5.191299915313721, -5.191299915313721, -5.239299774169922, -5.2322998046875, -5.2322998046875, -5.435800075531006, -5.47130012512207, -5.3871002197265625, -5.3871002197265625, -5.766300201416016, -5.766300201416016, -5.849299907684326]}, \"token.table\": {\"Topic\": [10, 6, 2, 7, 9, 7, 1, 9, 7, 6, 1, 8, 2, 7, 6, 4, 1, 5, 4, 4, 5, 2, 1, 4, 10, 9, 6, 5, 1, 10, 2, 9, 4, 9, 1, 4, 6, 8, 2, 10, 2, 8, 6, 4, 9, 8, 5, 8, 3, 7, 7, 8, 10, 1, 1, 9, 4, 6, 1, 3, 5, 9, 3, 10, 8, 6, 6, 9, 9, 1, 10, 6, 8, 2, 4, 2, 5, 9, 10, 6, 4, 8, 2, 4, 4, 3, 9, 9, 4, 5, 2, 6, 6, 8, 7, 9, 4, 5, 8, 1, 9, 9, 7, 6, 7, 4, 1, 1, 4, 4, 1, 10, 10, 5, 3, 8, 5, 2, 1, 10, 3, 3, 6, 8, 2, 7, 2, 8, 3, 3, 3, 8, 5, 7, 10, 2, 3, 4, 1, 7, 2, 8, 3, 5, 8, 4, 10, 5, 3, 4, 3, 2, 2, 10, 6, 9, 10, 7, 2, 9, 9, 6, 4, 5, 2, 7, 6, 7, 7, 2, 9, 9, 3, 6, 7, 3, 1, 1, 10, 10, 8, 9, 2, 5, 8, 6, 8, 9, 6, 7, 10, 5, 2, 4, 8, 1, 1, 10, 3, 9, 1, 1, 5, 6, 3, 8, 10, 2, 8, 6, 4, 4, 8, 3, 6, 7, 1, 9, 5, 6, 7, 7, 9, 8, 7, 3, 5, 6, 10, 6, 5, 5, 8, 2, 7, 1, 7, 2, 7, 3, 3, 3, 9, 7, 9, 3, 2, 4, 5, 5, 1, 4, 10, 7, 9, 7, 2, 8, 1, 3, 6, 5, 5, 6, 5, 3, 5, 1, 4, 4, 8, 6, 5, 3, 3, 4, 7, 8, 9, 7, 1, 5, 5, 3, 2, 2, 1, 2, 10, 1, 4, 8, 3], \"Freq\": [0.7110776305198669, 0.9766018986701965, 0.9424554109573364, 0.781623125076294, 0.8346700072288513, 0.9777101874351501, 0.9549360275268555, 0.6295099854469299, 0.963111937046051, 0.7640600800514221, 0.9701781868934631, 0.8543859124183655, 0.953083872795105, 0.7390880584716797, 0.9325476288795471, 0.7666743397712708, 0.8828675746917725, 0.9500983953475952, 0.7818058133125305, 0.9343942999839783, 0.9628815650939941, 0.9225810766220093, 0.9863678812980652, 0.9349189400672913, 0.5032968521118164, 0.7212721109390259, 0.9821635484695435, 0.8680389523506165, 0.9972593784332275, 0.7500700950622559, 0.9643480777740479, 0.6247192025184631, 0.8873295783996582, 0.6247192025184631, 0.9754858016967773, 0.818682074546814, 0.9667267799377441, 0.9900032877922058, 0.9070824980735779, 0.7337730526924133, 0.9370245933532715, 0.7976586818695068, 0.918895423412323, 0.9957751631736755, 0.8697461485862732, 0.6505106091499329, 0.9529747366905212, 0.8886361718177795, 0.994687020778656, 0.9723806381225586, 0.9115886092185974, 0.971100389957428, 0.5032968521118164, 0.9258987307548523, 0.9993705153465271, 0.9408100247383118, 0.9564350843429565, 0.8498588800430298, 0.9935025572776794, 0.9781938791275024, 0.9848263263702393, 0.8368574976921082, 0.8603668808937073, 0.6491923928260803, 0.8788232207298279, 0.9469724893569946, 0.8478959798812866, 0.9498278498649597, 0.8376699686050415, 0.9517679810523987, 0.7337730526924133, 0.8804572224617004, 0.976121723651886, 0.9955645799636841, 0.9954779148101807, 0.9762802124023438, 0.9457812309265137, 0.8352455496788025, 0.700711190700531, 0.7820203304290771, 0.7256836295127869, 0.6657609343528748, 0.8957103490829468, 0.6916807293891907, 0.8279543519020081, 0.7468380331993103, 0.7189690470695496, 0.9044566750526428, 0.8705530166625977, 0.9196879863739014, 0.9745262265205383, 0.9599671959877014, 0.8459319472312927, 0.6834357380867004, 0.8276833891868591, 0.8508564233779907, 0.711418628692627, 0.9870392084121704, 0.918757975101471, 0.9539223313331604, 0.9895443916320801, 0.6164243817329407, 0.9736396074295044, 0.7534611225128174, 0.8982483744621277, 0.6417217254638672, 0.8989782929420471, 0.9770039916038513, 0.6775034070014954, 0.8716710209846497, 0.9497909545898438, 0.8432491421699524, 0.8670628666877747, 0.9802731275558472, 0.9768689870834351, 0.8843799829483032, 0.9258156418800354, 0.963220477104187, 0.8488021492958069, 0.743220865726471, 0.8246580958366394, 0.9420986771583557, 0.9080297946929932, 0.9427525997161865, 0.9003816246986389, 0.7952550649642944, 0.8716206550598145, 0.9732915163040161, 0.9108936190605164, 0.9523634910583496, 0.9994382262229919, 0.9378540515899658, 0.9948571920394897, 0.8822700381278992, 0.6932504773139954, 0.9757532477378845, 0.798366129398346, 0.9312989115715027, 0.9520981907844543, 0.9156463146209717, 0.868104100227356, 0.8500197529792786, 0.8099796175956726, 0.9249060153961182, 0.7449404001235962, 0.7876894474029541, 0.5022167563438416, 0.9398645162582397, 0.9169676899909973, 0.9585496187210083, 0.9709140062332153, 0.9358265399932861, 0.9380058646202087, 0.6278898119926453, 0.9733844995498657, 0.9673182368278503, 0.9462244510650635, 0.8942793607711792, 0.9657872915267944, 0.9601560235023499, 0.8023678660392761, 0.8958740234375, 0.914885401725769, 0.9011987447738647, 0.9377093315124512, 0.7281297445297241, 0.8918938636779785, 0.8126963376998901, 0.839709997177124, 0.9296640157699585, 0.9453362226486206, 0.9376025199890137, 0.9694376587867737, 0.9466489553451538, 0.9348976612091064, 0.6243039965629578, 0.9775890111923218, 0.9283422827720642, 0.8113335371017456, 0.6339089870452881, 0.6725028157234192, 0.8723067045211792, 0.9393420219421387, 0.9677937030792236, 0.9623050689697266, 0.8072481751441956, 0.7518548965454102, 0.8710862994194031, 0.9494384527206421, 0.8852001428604126, 0.7574530839920044, 0.9295570254325867, 0.9936908483505249, 0.9911691546440125, 0.9868578910827637, 0.9910476207733154, 0.9877852201461792, 0.6278898119926453, 0.8544025421142578, 0.8502455949783325, 0.9893746376037598, 0.9087033867835999, 0.938758373260498, 0.8852093815803528, 0.8847382664680481, 0.7360346913337708, 0.5032968521118164, 0.9610282778739929, 0.8329747319221497, 0.8252970576286316, 0.7939765453338623, 0.9123930335044861, 0.8658126592636108, 0.7177877426147461, 0.864697277545929, 0.9552393555641174, 0.9672693014144897, 0.8632411956787109, 0.8893004655838013, 0.9297215342521667, 0.9777101874351501, 0.9072584509849548, 0.9360896348953247, 0.852310061454773, 0.8975734114646912, 0.8289662599563599, 0.9399039149284363, 0.9280046224594116, 0.743220865726471, 0.8405147790908813, 0.9252135753631592, 0.906990110874176, 0.9522042274475098, 0.9986666440963745, 0.9266156554222107, 0.9706290364265442, 0.9275235533714294, 0.8541382551193237, 0.9540935754776001, 0.7177115082740784, 0.9844138622283936, 0.8676825165748596, 0.9370042085647583, 0.8076407313346863, 0.9160416722297668, 0.9970192313194275, 0.867334246635437, 0.8442513346672058, 0.8226133584976196, 0.8923398852348328, 0.9714365005493164, 0.8771066069602966, 0.6278898119926453, 0.9448050260543823, 0.8700962066650391, 0.8187700510025024, 0.9525324702262878, 0.7840690612792969, 0.9196300506591797, 0.9619665145874023, 0.9897922277450562, 0.9546613097190857, 0.845676600933075, 0.8033190965652466, 0.9519036412239075, 0.9365371465682983, 0.9098779559135437, 0.9273859858512878, 0.7120476365089417, 0.9950674176216125, 0.907505452632904, 0.7625846266746521, 0.9512990713119507, 0.8934822082519531, 0.7969538569450378, 0.9910388588905334, 0.725908637046814, 0.8492535352706909, 0.8174521923065186, 0.7868812084197998, 0.8516378402709961, 0.9124005436897278, 0.8254687190055847, 0.8787977695465088, 0.9772738218307495, 0.9667076468467712, 0.9262284636497498, 0.9594273567199707, 0.6278898119926453, 0.9945638179779053, 0.9579383730888367, 0.9204936623573303, 0.9673088788986206], \"Term\": [\"abuse\", \"access\", \"account\", \"actually\", \"address\", \"admit\", \"advertised\", \"advertisement\", \"advertising\", \"agreed\", \"agreement\", \"another\", \"appointment\", \"area\", \"ask\", \"atlanta\", \"attempt\", \"availability\", \"available\", \"awful\", \"back\", \"bad\", \"bait\", \"bandwidth\", \"bar\", \"behavior\", \"bill\", \"billed\", \"billing\", \"block\", \"blocking\", \"breach\", \"broadband\", \"bullying\", \"bundle\", \"bundling\", \"business\", \"cable\", \"call\", \"calvert\", \"cancel\", \"cancellation\", \"cancelled\", \"cap\", \"capping\", \"card\", \"change\", \"changing\", \"charge\", \"charged\", \"charging\", \"check\", \"choosing\", \"claim\", \"comcast\", \"comcasts\", \"comcst\", \"competition\", \"complaint\", \"connection\", \"connectivity\", \"consent\", \"consistently\", \"console\", \"consumer\", \"continues\", \"continuous\", \"contract\", \"corporate\", \"cost\", \"county\", \"cramming\", \"credit\", \"customer\", \"data\", \"day\", \"deceptive\", \"deposit\", \"device\", \"disclosure\", \"disconnect\", \"disconnected\", \"disconnection\", \"dishonest\", \"dispute\", \"download\", \"due\", \"early\", \"ecobill\", \"egregious\", \"email\", \"equipment\", \"erroneous\", \"essential\", \"excessive\", \"expensive\", \"extortion\", \"extremely\", \"failing\", \"failure\", \"false\", \"fcc\", \"fee\", \"fix\", \"fixing\", \"forced\", \"fraud\", \"fraudulent\", \"ga\", \"gb\", \"get\", \"hbo_go\", \"hbogo\", \"help\", \"high\", \"higher\", \"home\", \"horrible\", \"improper\", \"imstallation\", \"inability\", \"inconsistent\", \"incorrect\", \"increase\", \"increased\", \"increasing\", \"information\", \"install\", \"installation\", \"intermittent\", \"internet\", \"isp\", \"issue\", \"keep\", \"knowing\", \"lack\", \"le\", \"lie\", \"lied\", \"limit\", \"loss\", \"low\", \"lying\", \"mail\", \"manipulation\", \"market\", \"maryland\", \"mb\", \"mbps\", \"meter\", \"mi\", \"misleading\", \"miss\", \"mistake\", \"modem\", \"monopolistic\", \"monopoly\", \"month\", \"monthly\", \"much\", \"netflix\", \"never\", \"new\", \"non\", \"notice\", \"notification\", \"number\", \"offered\", \"one\", \"option\", \"ordered\", \"outage\", \"output\", \"outrageous\", \"overage\", \"overbilling\", \"overcharge\", \"overcharging\", \"p\", \"package\", \"packet\", \"paid\", \"pay\", \"paying\", \"payment\", \"people\", \"performance\", \"person\", \"phone\", \"plan\", \"playstation\", \"please\", \"poor\", \"practice\", \"price\", \"pricing\", \"problem\", \"proceeded\", \"product\", \"promise\", \"promised\", \"promotion\", \"provide\", \"provided\", \"provider\", \"purchase\", \"purchased\", \"quality\", \"quoted\", \"raise\", \"raising\", \"rate\", \"received\", \"receiving\", \"recieved\", \"refund\", \"refusal\", \"refuse\", \"regarding\", \"regular\", \"reimburse\", \"rental\", \"rep\", \"repeatedly\", \"represented\", \"request\", \"resolution\", \"returned\", \"rockville\", \"said\", \"sale\", \"security\", \"sent\", \"service\", \"several\", \"shitty\", \"show\", \"signal\", \"significant\", \"since\", \"slow\", \"slower\", \"slowing\", \"sold\", \"sony\", \"speed\", \"still\", \"streaming\", \"supervisor\", \"support\", \"switch\", \"system\", \"tack\", \"technician\", \"term\", \"termination\", \"terrible\", \"three\", \"throttle\", \"throttled\", \"throttling\", \"time\", \"trade\", \"trial\", \"tv\", \"u\", \"unable\", \"unauthorized\", \"uncompetitive\", \"unfair\", \"unreliable\", \"unreturned\", \"unsatisfied\", \"unwarranted\", \"upload\", \"usage\", \"used\", \"violation\", \"visit\", \"want\", \"way\", \"week\", \"wifi\", \"wireless\", \"without\", \"wont\", \"work\", \"working\", \"wouldnt\", \"xfinity\", \"xfintity\", \"year\", \"ypsilanti\"]}, \"R\": 30, \"lambda.step\": 0.01, \"plot.opts\": {\"xlab\": \"PC1\", \"ylab\": \"PC2\"}, \"topic.order\": [10, 1, 2, 5, 8, 4, 7, 6, 9, 3]};\n",
       "\n",
       "function LDAvis_load_lib(url, callback){\n",
       "  var s = document.createElement('script');\n",
       "  s.src = url;\n",
       "  s.async = true;\n",
       "  s.onreadystatechange = s.onload = callback;\n",
       "  s.onerror = function(){console.warn(\"failed to load library \" + url);};\n",
       "  document.getElementsByTagName(\"head\")[0].appendChild(s);\n",
       "}\n",
       "\n",
       "if(typeof(LDAvis) !== \"undefined\"){\n",
       "   // already loaded: just create the visualization\n",
       "   !function(LDAvis){\n",
       "       new LDAvis(\"#\" + \"ldavis_el300817637787067927803601528\", ldavis_el300817637787067927803601528_data);\n",
       "   }(LDAvis);\n",
       "}else if(typeof define === \"function\" && define.amd){\n",
       "   // require.js is available: use it to load d3/LDAvis\n",
       "   require.config({paths: {d3: \"https://cdnjs.cloudflare.com/ajax/libs/d3/3.5.5/d3.min\"}});\n",
       "   require([\"d3\"], function(d3){\n",
       "      window.d3 = d3;\n",
       "      LDAvis_load_lib(\"https://cdn.rawgit.com/bmabey/pyLDAvis/files/ldavis.v1.0.0.js\", function(){\n",
       "        new LDAvis(\"#\" + \"ldavis_el300817637787067927803601528\", ldavis_el300817637787067927803601528_data);\n",
       "      });\n",
       "    });\n",
       "}else{\n",
       "    // require.js not available: dynamically load d3 & LDAvis\n",
       "    LDAvis_load_lib(\"https://cdnjs.cloudflare.com/ajax/libs/d3/3.5.5/d3.min.js\", function(){\n",
       "         LDAvis_load_lib(\"https://cdn.rawgit.com/bmabey/pyLDAvis/files/ldavis.v1.0.0.js\", function(){\n",
       "                 new LDAvis(\"#\" + \"ldavis_el300817637787067927803601528\", ldavis_el300817637787067927803601528_data);\n",
       "            })\n",
       "         });\n",
       "}\n",
       "</script>"
      ],
      "text/plain": [
       "PreparedData(topic_coordinates=              x         y  topics  cluster       Freq\n",
       "topic                                                \n",
       "9      0.413622  0.137068       1        1  30.680735\n",
       "0      0.011872 -0.013491       2        1  15.689494\n",
       "1      0.088265 -0.398589       3        1  15.311174\n",
       "4     -0.022265  0.019692       4        1   9.828168\n",
       "7     -0.073884  0.041741       5        1   7.871963\n",
       "3     -0.077102  0.042580       6        1   5.844694\n",
       "6     -0.080282  0.043784       7        1   4.884056\n",
       "5     -0.082875  0.043117       8        1   4.455797\n",
       "8     -0.089270  0.043541       9        1   4.138963\n",
       "2     -0.088080  0.040558      10        1   1.294963, topic_info=     Category         Freq          Term        Total  loglift  logprob\n",
       "1     Default  1231.000000       comcast  1231.000000  30.0000  30.0000\n",
       "2     Default   535.000000      internet   535.000000  29.0000  29.0000\n",
       "8     Default   503.000000       service   503.000000  28.0000  28.0000\n",
       "20    Default   179.000000          data   179.000000  27.0000  27.0000\n",
       "9     Default   165.000000           cap   165.000000  26.0000  26.0000\n",
       "3     Default   187.000000         speed   187.000000  25.0000  25.0000\n",
       "38    Default   296.000000       billing   296.000000  24.0000  24.0000\n",
       "79    Default   108.000000         issue   108.000000  23.0000  23.0000\n",
       "148   Default    67.000000          bill    67.000000  22.0000  22.0000\n",
       "69    Default   103.000000      customer   103.000000  21.0000  21.0000\n",
       "71    Default    67.000000      practice    67.000000  20.0000  20.0000\n",
       "0     Default    44.000000         cable    44.000000  19.0000  19.0000\n",
       "201   Default    60.000000        unfair    60.000000  18.0000  18.0000\n",
       "25    Default    46.000000    throttling    46.000000  17.0000  17.0000\n",
       "35    Default    40.000000         price    40.000000  16.0000  16.0000\n",
       "189   Default    68.000000        charge    68.000000  15.0000  15.0000\n",
       "115   Default    36.000000         false    36.000000  14.0000  14.0000\n",
       "56    Default   105.000000     complaint   105.000000  13.0000  13.0000\n",
       "87    Default    96.000000       xfinity    96.000000  12.0000  12.0000\n",
       "309   Default    31.000000       charged    31.000000  11.0000  11.0000\n",
       "59    Default    30.000000     equipment    30.000000  10.0000  10.0000\n",
       "75    Default    24.000000      contract    24.000000   9.0000   9.0000\n",
       "21    Default    25.000000           fee    25.000000   8.0000   8.0000\n",
       "199   Default    41.000000          poor    41.000000   7.0000   7.0000\n",
       "94    Default    40.000000          slow    40.000000   6.0000   6.0000\n",
       "15    Default    31.000000         usage    31.000000   5.0000   5.0000\n",
       "130   Default    22.000000         modem    22.000000   4.0000   4.0000\n",
       "111   Default    25.000000  connectivity    25.000000   3.0000   3.0000\n",
       "207   Default    20.000000   advertising    20.000000   2.0000   2.0000\n",
       "167   Default    22.000000         phone    22.000000   1.0000   1.0000\n",
       "...       ...          ...           ...          ...      ...      ...\n",
       "67    Topic10     7.670306      monopoly     8.454654   4.2493  -2.6020\n",
       "48    Topic10     5.145103        hbo_go     5.929446   4.2048  -3.0013\n",
       "110   Topic10     4.496511   playstation     5.280855   4.1859  -3.1361\n",
       "235   Topic10     4.145810             p     4.930155   4.1734  -3.2173\n",
       "271   Topic10     2.675617         hbogo     3.459957   4.0896  -3.6552\n",
       "255   Topic10     2.370670       package     3.155027   4.0609  -3.7762\n",
       "1100  Topic10     2.099448       knowing     2.884960   4.0289  -3.8977\n",
       "426   Topic10     2.069903        device     2.854243   4.0254  -3.9119\n",
       "1149  Topic10     2.023653         abuse     2.812632   4.0175  -3.9345\n",
       "258   Topic10     1.206753      maryland     1.991172   3.8459  -4.4515\n",
       "1190  Topic10     1.195080      choosing     1.986899   3.8383  -4.4612\n",
       "1191  Topic10     1.195080     purchased     1.986899   3.8383  -4.4612\n",
       "1189  Topic10     1.195080           bar     1.986899   3.8383  -4.4612\n",
       "1102  Topic10     0.793230     proceeded     1.592636   3.6497  -4.8710\n",
       "1101  Topic10     0.793230       mistake     1.592636   3.6497  -4.8710\n",
       "1103  Topic10     0.793230          tack     1.592636   3.6497  -4.8710\n",
       "1104  Topic10     0.793230       wouldnt     1.592636   3.6497  -4.8710\n",
       "47    Topic10     0.755855       console     1.540375   3.6348  -4.9193\n",
       "1026  Topic10     0.575873        county     1.362819   3.4853  -5.1913\n",
       "1025  Topic10     0.575873       calvert     1.362819   3.4853  -5.1913\n",
       "333   Topic10     0.548856         block     1.333209   3.4592  -5.2393\n",
       "1046  Topic10     0.552724     rockville     1.345495   3.4570  -5.2323\n",
       "1045  Topic10     0.552724  imstallation     1.345495   3.4570  -5.2323\n",
       "776   Topic10     0.450927        result     1.235374   3.3389  -5.4358\n",
       "825   Topic10     0.435210         local     1.219672   3.3162  -5.4713\n",
       "1222  Topic10     0.473466      mediocre     1.520194   3.1802  -5.3871\n",
       "1221  Topic10     0.473466          mean     1.520194   3.1802  -5.3871\n",
       "937   Topic10     0.324047     francisco     1.113328   3.1125  -5.7663\n",
       "938   Topic10     0.324047           san     1.113328   3.1125  -5.7663\n",
       "1005  Topic10     0.298231      platform     1.128869   3.0156  -5.8493\n",
       "\n",
       "[330 rows x 6 columns], token_table=      Topic      Freq           Term\n",
       "term                                \n",
       "1149     10  0.711078          abuse\n",
       "45        6  0.976602         access\n",
       "170       2  0.942455        account\n",
       "1154      7  0.781623       actually\n",
       "190       9  0.834670        address\n",
       "1246      7  0.977710          admit\n",
       "284       1  0.954936     advertised\n",
       "350       9  0.629510  advertisement\n",
       "207       7  0.963112    advertising\n",
       "538       6  0.764060         agreed\n",
       "324       1  0.970178      agreement\n",
       "456       8  0.854386        another\n",
       "643       2  0.953084    appointment\n",
       "474       7  0.739088           area\n",
       "33        6  0.932548            ask\n",
       "182       4  0.766674        atlanta\n",
       "669       1  0.882868        attempt\n",
       "57        5  0.950098   availability\n",
       "34        4  0.781806      available\n",
       "311       4  0.934394          awful\n",
       "447       5  0.962882           back\n",
       "187       2  0.922581            bad\n",
       "72        1  0.986368           bait\n",
       "97        4  0.934919      bandwidth\n",
       "1189     10  0.503297            bar\n",
       "317       9  0.721272       behavior\n",
       "148       6  0.982164           bill\n",
       "65        5  0.868039         billed\n",
       "38        1  0.997259        billing\n",
       "333      10  0.750070          block\n",
       "...     ...       ...            ...\n",
       "145       6  0.803319          trial\n",
       "196       5  0.951904             tv\n",
       "688       3  0.936537              u\n",
       "81        5  0.909878         unable\n",
       "240       1  0.927386   unauthorized\n",
       "951       4  0.712048  uncompetitive\n",
       "201       4  0.995067         unfair\n",
       "609       8  0.907505     unreliable\n",
       "841       6  0.762585     unreturned\n",
       "1249      5  0.951299    unsatisfied\n",
       "1013      3  0.893482    unwarranted\n",
       "215       3  0.796954         upload\n",
       "15        4  0.991039          usage\n",
       "742       7  0.725909           used\n",
       "827       8  0.849254      violation\n",
       "821       9  0.817452          visit\n",
       "909       7  0.786881           want\n",
       "723       1  0.851638            way\n",
       "260       5  0.912401           week\n",
       "83        5  0.825469           wifi\n",
       "421       3  0.878798       wireless\n",
       "129       2  0.977274        without\n",
       "159       2  0.966708           wont\n",
       "348       1  0.926228           work\n",
       "17        2  0.959427        working\n",
       "1104     10  0.627890        wouldnt\n",
       "87        1  0.994564        xfinity\n",
       "1243      4  0.957938       xfintity\n",
       "114       8  0.920494           year\n",
       "1250      3  0.967309      ypsilanti\n",
       "\n",
       "[293 rows x 3 columns], R=30, lambda_step=0.01, plot_opts={'xlab': 'PC1', 'ylab': 'PC2'}, topic_order=[10, 1, 2, 5, 8, 4, 7, 6, 9, 3])"
      ]
     },
     "execution_count": 65,
     "metadata": {},
     "output_type": "execute_result"
    }
   ],
   "source": [
    "# Visualize the topics\n",
    "pyLDAvis.enable_notebook()\n",
    "vis = pyLDAvis.gensim.prepare(lda_model, corpus, id2word)\n",
    "vis"
   ]
  },
  {
   "cell_type": "markdown",
   "metadata": {},
   "source": [
    "# Problem 1.3"
   ]
  },
  {
   "cell_type": "markdown",
   "metadata": {},
   "source": [
    "Create a new categorical variable with value as Open and Closed. Open & Pending is to be categorized as Open and Closed & Solved is to be categorized as Closed."
   ]
  },
  {
   "cell_type": "code",
   "execution_count": 63,
   "metadata": {},
   "outputs": [
    {
     "data": {
      "text/plain": [
       "array(['Closed', 'Open', 'Solved', 'Pending'], dtype=object)"
      ]
     },
     "execution_count": 63,
     "metadata": {},
     "output_type": "execute_result"
    }
   ],
   "source": [
    "df['Status'].unique()"
   ]
  },
  {
   "cell_type": "code",
   "execution_count": 66,
   "metadata": {},
   "outputs": [
    {
     "data": {
      "text/plain": [
       "0    Closed\n",
       "1    Closed\n",
       "2    Closed\n",
       "3      Open\n",
       "4    Closed\n",
       "Name: ModifiedStatus, dtype: object"
      ]
     },
     "execution_count": 66,
     "metadata": {},
     "output_type": "execute_result"
    }
   ],
   "source": [
    "df['ModifiedStatus']=[\"Open\" if status=='Open' or status=='Pending' else \"Closed\" for status in df['Status']]\n",
    "df['ModifiedStatus'].head()"
   ]
  },
  {
   "cell_type": "markdown",
   "metadata": {},
   "source": [
    "#  Problem 1.4"
   ]
  },
  {
   "cell_type": "markdown",
   "metadata": {},
   "source": [
    "Provide state wise status of complaints in a stacked bar chart. Use the categorized variable from Q3. Provide insights on:\n",
    "<li>A.\tWhich state has the maximum complaints</li>\n",
    "<li>B.\tWhich state has the highest percentage of unresolved complaints</li>\n"
   ]
  },
  {
   "cell_type": "code",
   "execution_count": 75,
   "metadata": {},
   "outputs": [
    {
     "data": {
      "text/html": [
       "<div>\n",
       "<style scoped>\n",
       "    .dataframe tbody tr th:only-of-type {\n",
       "        vertical-align: middle;\n",
       "    }\n",
       "\n",
       "    .dataframe tbody tr th {\n",
       "        vertical-align: top;\n",
       "    }\n",
       "\n",
       "    .dataframe thead th {\n",
       "        text-align: right;\n",
       "    }\n",
       "</style>\n",
       "<table border=\"1\" class=\"dataframe\">\n",
       "  <thead>\n",
       "    <tr style=\"text-align: right;\">\n",
       "      <th></th>\n",
       "      <th>State</th>\n",
       "      <th>Count</th>\n",
       "    </tr>\n",
       "  </thead>\n",
       "  <tbody>\n",
       "    <tr>\n",
       "      <th>0</th>\n",
       "      <td>Georgia</td>\n",
       "      <td>288</td>\n",
       "    </tr>\n",
       "    <tr>\n",
       "      <th>1</th>\n",
       "      <td>Florida</td>\n",
       "      <td>240</td>\n",
       "    </tr>\n",
       "    <tr>\n",
       "      <th>2</th>\n",
       "      <td>California</td>\n",
       "      <td>220</td>\n",
       "    </tr>\n",
       "    <tr>\n",
       "      <th>3</th>\n",
       "      <td>Illinois</td>\n",
       "      <td>164</td>\n",
       "    </tr>\n",
       "    <tr>\n",
       "      <th>4</th>\n",
       "      <td>Tennessee</td>\n",
       "      <td>143</td>\n",
       "    </tr>\n",
       "    <tr>\n",
       "      <th>5</th>\n",
       "      <td>Pennsylvania</td>\n",
       "      <td>130</td>\n",
       "    </tr>\n",
       "    <tr>\n",
       "      <th>6</th>\n",
       "      <td>Michigan</td>\n",
       "      <td>115</td>\n",
       "    </tr>\n",
       "    <tr>\n",
       "      <th>7</th>\n",
       "      <td>Washington</td>\n",
       "      <td>98</td>\n",
       "    </tr>\n",
       "    <tr>\n",
       "      <th>8</th>\n",
       "      <td>Colorado</td>\n",
       "      <td>80</td>\n",
       "    </tr>\n",
       "    <tr>\n",
       "      <th>9</th>\n",
       "      <td>Maryland</td>\n",
       "      <td>78</td>\n",
       "    </tr>\n",
       "  </tbody>\n",
       "</table>\n",
       "</div>"
      ],
      "text/plain": [
       "          State  Count\n",
       "0       Georgia    288\n",
       "1       Florida    240\n",
       "2    California    220\n",
       "3      Illinois    164\n",
       "4     Tennessee    143\n",
       "5  Pennsylvania    130\n",
       "6      Michigan    115\n",
       "7    Washington     98\n",
       "8      Colorado     80\n",
       "9      Maryland     78"
      ]
     },
     "execution_count": 75,
     "metadata": {},
     "output_type": "execute_result"
    }
   ],
   "source": [
    "#A. which state has the maximum complaints\n",
    "df_statewise_complaints=df.groupby([\"State\"]).size().sort_values(ascending=False).to_frame().reset_index().rename({0: \"Count\"}, axis=1)\n",
    "df_statewise_complaints.head(10)"
   ]
  },
  {
   "cell_type": "code",
   "execution_count": 76,
   "metadata": {},
   "outputs": [
    {
     "data": {
      "text/plain": [
       "'Georgia'"
      ]
     },
     "execution_count": 76,
     "metadata": {},
     "output_type": "execute_result"
    }
   ],
   "source": [
    "#state having maximum complaints\n",
    "df_statewise_complaints['State'][0]"
   ]
  },
  {
   "cell_type": "code",
   "execution_count": 77,
   "metadata": {},
   "outputs": [
    {
     "data": {
      "text/html": [
       "<div>\n",
       "<style scoped>\n",
       "    .dataframe tbody tr th:only-of-type {\n",
       "        vertical-align: middle;\n",
       "    }\n",
       "\n",
       "    .dataframe tbody tr th {\n",
       "        vertical-align: top;\n",
       "    }\n",
       "\n",
       "    .dataframe thead th {\n",
       "        text-align: right;\n",
       "    }\n",
       "</style>\n",
       "<table border=\"1\" class=\"dataframe\">\n",
       "  <thead>\n",
       "    <tr style=\"text-align: right;\">\n",
       "      <th>ModifiedStatus</th>\n",
       "      <th>Closed</th>\n",
       "      <th>Open</th>\n",
       "    </tr>\n",
       "    <tr>\n",
       "      <th>State</th>\n",
       "      <th></th>\n",
       "      <th></th>\n",
       "    </tr>\n",
       "  </thead>\n",
       "  <tbody>\n",
       "    <tr>\n",
       "      <th>Alabama</th>\n",
       "      <td>17.0</td>\n",
       "      <td>9.0</td>\n",
       "    </tr>\n",
       "    <tr>\n",
       "      <th>Arizona</th>\n",
       "      <td>14.0</td>\n",
       "      <td>6.0</td>\n",
       "    </tr>\n",
       "    <tr>\n",
       "      <th>Arkansas</th>\n",
       "      <td>6.0</td>\n",
       "      <td>NaN</td>\n",
       "    </tr>\n",
       "    <tr>\n",
       "      <th>California</th>\n",
       "      <td>159.0</td>\n",
       "      <td>61.0</td>\n",
       "    </tr>\n",
       "    <tr>\n",
       "      <th>Colorado</th>\n",
       "      <td>58.0</td>\n",
       "      <td>22.0</td>\n",
       "    </tr>\n",
       "    <tr>\n",
       "      <th>Connecticut</th>\n",
       "      <td>9.0</td>\n",
       "      <td>3.0</td>\n",
       "    </tr>\n",
       "    <tr>\n",
       "      <th>Delaware</th>\n",
       "      <td>8.0</td>\n",
       "      <td>4.0</td>\n",
       "    </tr>\n",
       "    <tr>\n",
       "      <th>District Of Columbia</th>\n",
       "      <td>14.0</td>\n",
       "      <td>2.0</td>\n",
       "    </tr>\n",
       "    <tr>\n",
       "      <th>District of Columbia</th>\n",
       "      <td>1.0</td>\n",
       "      <td>NaN</td>\n",
       "    </tr>\n",
       "    <tr>\n",
       "      <th>Florida</th>\n",
       "      <td>201.0</td>\n",
       "      <td>39.0</td>\n",
       "    </tr>\n",
       "    <tr>\n",
       "      <th>Georgia</th>\n",
       "      <td>208.0</td>\n",
       "      <td>80.0</td>\n",
       "    </tr>\n",
       "    <tr>\n",
       "      <th>Illinois</th>\n",
       "      <td>135.0</td>\n",
       "      <td>29.0</td>\n",
       "    </tr>\n",
       "    <tr>\n",
       "      <th>Indiana</th>\n",
       "      <td>50.0</td>\n",
       "      <td>9.0</td>\n",
       "    </tr>\n",
       "    <tr>\n",
       "      <th>Iowa</th>\n",
       "      <td>1.0</td>\n",
       "      <td>NaN</td>\n",
       "    </tr>\n",
       "    <tr>\n",
       "      <th>Kansas</th>\n",
       "      <td>1.0</td>\n",
       "      <td>1.0</td>\n",
       "    </tr>\n",
       "    <tr>\n",
       "      <th>Kentucky</th>\n",
       "      <td>4.0</td>\n",
       "      <td>3.0</td>\n",
       "    </tr>\n",
       "    <tr>\n",
       "      <th>Louisiana</th>\n",
       "      <td>12.0</td>\n",
       "      <td>1.0</td>\n",
       "    </tr>\n",
       "    <tr>\n",
       "      <th>Maine</th>\n",
       "      <td>3.0</td>\n",
       "      <td>2.0</td>\n",
       "    </tr>\n",
       "    <tr>\n",
       "      <th>Maryland</th>\n",
       "      <td>63.0</td>\n",
       "      <td>15.0</td>\n",
       "    </tr>\n",
       "    <tr>\n",
       "      <th>Massachusetts</th>\n",
       "      <td>50.0</td>\n",
       "      <td>11.0</td>\n",
       "    </tr>\n",
       "    <tr>\n",
       "      <th>Michigan</th>\n",
       "      <td>92.0</td>\n",
       "      <td>23.0</td>\n",
       "    </tr>\n",
       "    <tr>\n",
       "      <th>Minnesota</th>\n",
       "      <td>29.0</td>\n",
       "      <td>4.0</td>\n",
       "    </tr>\n",
       "    <tr>\n",
       "      <th>Mississippi</th>\n",
       "      <td>23.0</td>\n",
       "      <td>16.0</td>\n",
       "    </tr>\n",
       "    <tr>\n",
       "      <th>Missouri</th>\n",
       "      <td>3.0</td>\n",
       "      <td>1.0</td>\n",
       "    </tr>\n",
       "    <tr>\n",
       "      <th>Montana</th>\n",
       "      <td>1.0</td>\n",
       "      <td>NaN</td>\n",
       "    </tr>\n",
       "    <tr>\n",
       "      <th>Nevada</th>\n",
       "      <td>1.0</td>\n",
       "      <td>NaN</td>\n",
       "    </tr>\n",
       "    <tr>\n",
       "      <th>New Hampshire</th>\n",
       "      <td>8.0</td>\n",
       "      <td>4.0</td>\n",
       "    </tr>\n",
       "    <tr>\n",
       "      <th>New Jersey</th>\n",
       "      <td>56.0</td>\n",
       "      <td>19.0</td>\n",
       "    </tr>\n",
       "    <tr>\n",
       "      <th>New Mexico</th>\n",
       "      <td>11.0</td>\n",
       "      <td>4.0</td>\n",
       "    </tr>\n",
       "    <tr>\n",
       "      <th>New York</th>\n",
       "      <td>6.0</td>\n",
       "      <td>NaN</td>\n",
       "    </tr>\n",
       "    <tr>\n",
       "      <th>North Carolina</th>\n",
       "      <td>3.0</td>\n",
       "      <td>NaN</td>\n",
       "    </tr>\n",
       "    <tr>\n",
       "      <th>Ohio</th>\n",
       "      <td>3.0</td>\n",
       "      <td>NaN</td>\n",
       "    </tr>\n",
       "    <tr>\n",
       "      <th>Oregon</th>\n",
       "      <td>36.0</td>\n",
       "      <td>13.0</td>\n",
       "    </tr>\n",
       "    <tr>\n",
       "      <th>Pennsylvania</th>\n",
       "      <td>110.0</td>\n",
       "      <td>20.0</td>\n",
       "    </tr>\n",
       "    <tr>\n",
       "      <th>Rhode Island</th>\n",
       "      <td>1.0</td>\n",
       "      <td>NaN</td>\n",
       "    </tr>\n",
       "    <tr>\n",
       "      <th>South Carolina</th>\n",
       "      <td>15.0</td>\n",
       "      <td>3.0</td>\n",
       "    </tr>\n",
       "    <tr>\n",
       "      <th>Tennessee</th>\n",
       "      <td>96.0</td>\n",
       "      <td>47.0</td>\n",
       "    </tr>\n",
       "    <tr>\n",
       "      <th>Texas</th>\n",
       "      <td>49.0</td>\n",
       "      <td>22.0</td>\n",
       "    </tr>\n",
       "    <tr>\n",
       "      <th>Utah</th>\n",
       "      <td>16.0</td>\n",
       "      <td>6.0</td>\n",
       "    </tr>\n",
       "    <tr>\n",
       "      <th>Vermont</th>\n",
       "      <td>2.0</td>\n",
       "      <td>1.0</td>\n",
       "    </tr>\n",
       "    <tr>\n",
       "      <th>Virginia</th>\n",
       "      <td>49.0</td>\n",
       "      <td>11.0</td>\n",
       "    </tr>\n",
       "    <tr>\n",
       "      <th>Washington</th>\n",
       "      <td>75.0</td>\n",
       "      <td>23.0</td>\n",
       "    </tr>\n",
       "    <tr>\n",
       "      <th>West Virginia</th>\n",
       "      <td>8.0</td>\n",
       "      <td>3.0</td>\n",
       "    </tr>\n",
       "  </tbody>\n",
       "</table>\n",
       "</div>"
      ],
      "text/plain": [
       "ModifiedStatus        Closed  Open\n",
       "State                             \n",
       "Alabama                 17.0   9.0\n",
       "Arizona                 14.0   6.0\n",
       "Arkansas                 6.0   NaN\n",
       "California             159.0  61.0\n",
       "Colorado                58.0  22.0\n",
       "Connecticut              9.0   3.0\n",
       "Delaware                 8.0   4.0\n",
       "District Of Columbia    14.0   2.0\n",
       "District of Columbia     1.0   NaN\n",
       "Florida                201.0  39.0\n",
       "Georgia                208.0  80.0\n",
       "Illinois               135.0  29.0\n",
       "Indiana                 50.0   9.0\n",
       "Iowa                     1.0   NaN\n",
       "Kansas                   1.0   1.0\n",
       "Kentucky                 4.0   3.0\n",
       "Louisiana               12.0   1.0\n",
       "Maine                    3.0   2.0\n",
       "Maryland                63.0  15.0\n",
       "Massachusetts           50.0  11.0\n",
       "Michigan                92.0  23.0\n",
       "Minnesota               29.0   4.0\n",
       "Mississippi             23.0  16.0\n",
       "Missouri                 3.0   1.0\n",
       "Montana                  1.0   NaN\n",
       "Nevada                   1.0   NaN\n",
       "New Hampshire            8.0   4.0\n",
       "New Jersey              56.0  19.0\n",
       "New Mexico              11.0   4.0\n",
       "New York                 6.0   NaN\n",
       "North Carolina           3.0   NaN\n",
       "Ohio                     3.0   NaN\n",
       "Oregon                  36.0  13.0\n",
       "Pennsylvania           110.0  20.0\n",
       "Rhode Island             1.0   NaN\n",
       "South Carolina          15.0   3.0\n",
       "Tennessee               96.0  47.0\n",
       "Texas                   49.0  22.0\n",
       "Utah                    16.0   6.0\n",
       "Vermont                  2.0   1.0\n",
       "Virginia                49.0  11.0\n",
       "Washington              75.0  23.0\n",
       "West Virginia            8.0   3.0"
      ]
     },
     "execution_count": 77,
     "metadata": {},
     "output_type": "execute_result"
    }
   ],
   "source": [
    "#B.Which state has the highest percentage of unresolved complaints\n",
    "status_complaints = df.groupby([\"State\", \"ModifiedStatus\"]).size().unstack()\n",
    "status_complaints"
   ]
  },
  {
   "cell_type": "code",
   "execution_count": 92,
   "metadata": {},
   "outputs": [
    {
     "data": {
      "image/png": "[encoded data removed]",
      "text/plain": [
       "<Figure size 1440x2160 with 1 Axes>"
      ]
     },
     "metadata": {
      "needs_background": "light"
     },
     "output_type": "display_data"
    }
   ],
   "source": [
    "status_complaints=status_complaints.fillna(0)\n",
    "status_complaints.plot(kind=\"barh\", figsize=(20,30), stacked=True)\n",
    "plt.rcParams.update({\"font.size\": 30})"
   ]
  },
  {
   "cell_type": "code",
   "execution_count": 91,
   "metadata": {},
   "outputs": [
    {
     "data": {
      "text/plain": [
       "'Georgia'"
      ]
     },
     "execution_count": 91,
     "metadata": {},
     "output_type": "execute_result"
    }
   ],
   "source": [
    "status_complaints.loc[status_complaints['Open'].idxmax()].name"
   ]
  },
  {
   "cell_type": "markdown",
   "metadata": {},
   "source": [
    "# Problem 1.4"
   ]
  },
  {
   "cell_type": "markdown",
   "metadata": {},
   "source": [
    "Provide the percentage of complaints resolved till date, which were received through the Internet and customer care calls."
   ]
  },
  {
   "cell_type": "code",
   "execution_count": 96,
   "metadata": {},
   "outputs": [
    {
     "data": {
      "text/html": [
       "<div>\n",
       "<style scoped>\n",
       "    .dataframe tbody tr th:only-of-type {\n",
       "        vertical-align: middle;\n",
       "    }\n",
       "\n",
       "    .dataframe tbody tr th {\n",
       "        vertical-align: top;\n",
       "    }\n",
       "\n",
       "    .dataframe thead th {\n",
       "        text-align: right;\n",
       "    }\n",
       "</style>\n",
       "<table border=\"1\" class=\"dataframe\">\n",
       "  <thead>\n",
       "    <tr style=\"text-align: right;\">\n",
       "      <th>ModifiedStatus</th>\n",
       "      <th>Closed</th>\n",
       "      <th>Open</th>\n",
       "      <th>% of Resolved</th>\n",
       "    </tr>\n",
       "    <tr>\n",
       "      <th>Received Via</th>\n",
       "      <th></th>\n",
       "      <th></th>\n",
       "      <th></th>\n",
       "    </tr>\n",
       "  </thead>\n",
       "  <tbody>\n",
       "    <tr>\n",
       "      <th>Customer Care Call</th>\n",
       "      <td>864</td>\n",
       "      <td>255</td>\n",
       "      <td>77.211796</td>\n",
       "    </tr>\n",
       "    <tr>\n",
       "      <th>Internet</th>\n",
       "      <td>843</td>\n",
       "      <td>262</td>\n",
       "      <td>76.289593</td>\n",
       "    </tr>\n",
       "  </tbody>\n",
       "</table>\n",
       "</div>"
      ],
      "text/plain": [
       "ModifiedStatus      Closed  Open  % of Resolved\n",
       "Received Via                                   \n",
       "Customer Care Call     864   255      77.211796\n",
       "Internet               843   262      76.289593"
      ]
     },
     "execution_count": 96,
     "metadata": {},
     "output_type": "execute_result"
    }
   ],
   "source": [
    "status_received_via = df.groupby([\"Received Via\", \"ModifiedStatus\"]).size().unstack()\n",
    "status_received_via['% of Resolved']=100*status_received_via['Closed']/(status_received_via['Closed']+status_received_via['Open'])\n",
    "status_received_via"
   ]
  }
 ],
 "metadata": {
  "kernelspec": {
   "display_name": "Python 3",
   "language": "python",
   "name": "python3"
  },
  "language_info": {
   "codemirror_mode": {
    "name": "ipython",
    "version": 3
   },
   "file_extension": ".py",
   "mimetype": "text/x-python",
   "name": "python",
   "nbconvert_exporter": "python",
   "pygments_lexer": "ipython3",
   "version": "3.7.3"
  }
 },
 "nbformat": 4,
 "nbformat_minor": 2
}
